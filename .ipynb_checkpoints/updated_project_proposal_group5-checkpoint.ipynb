{
 "cells": [
  {
   "cell_type": "markdown",
   "metadata": {},
   "source": [
    "# Project Group 5 \n",
    "\n",
    "<table>\n",
    "  <tr>\n",
    "    <th>Student name</th>\n",
    "    <th>Student number</th>\n",
    "  </tr>\n",
    "  <tr>\n",
    "    <td>Wouter van der Hoorn</td>\n",
    "    <td>5370566</td>\n",
    "  <tr>\n",
    "    <td>Jelle Derks</td>\n",
    "    <td>5339564</td>\n",
    "  </tr>\n",
    "    <td>Hugo von der Thüsen</td>\n",
    "    <td>4862600</td>\n",
    "  <tr>\n",
    "    <td>Martijn Damman</td>\n",
    "    <td>5412633</td>\n",
    "  </tr>\n",
    "    <td>Patrick Kruidenberg</td>\n",
    "    <td>4726642</td>\n",
    "  </tr>\n",
    "</table>"
   ]
  },
  {
   "cell_type": "markdown",
   "metadata": {},
   "source": [
    "# Research Objective\n",
    "\n",
    "*Requires data modeling and quantitative research in Transport, Infrastructure & Logistics*"
   ]
  },
  {
   "cell_type": "markdown",
   "metadata": {},
   "source": [
    "__Introduction__\n",
    "\n",
    "The last twenty years the wealth of many people in the Netherlands has increased. This means more and more people do have access to high speed modes of travel, such as car and train. It is known that the amount of time spend travelling does not change over time a lot and is stable at a little more than one hour. However, due to increase of car use and train use, the speed in traffic and the travel distance can change over time. Also travel motives can have significant impact on the travelling speed that is reached. It could be possible that people do have higher travelling speeds when going to work than when travelling during free time or holidays.    \n",
    "\n",
    "This study seeks to explore the evolution of travel speed over the last 20 years, investigating the impact of travel motives and modes of transport on the speed at which people travel. By examining these factors, we aim to uncover trends and insights that can help to understand the way travel behaviour changes over time. \n",
    "\n",
    "\n",
    "__Research Objective__\n",
    "\n",
    "The research objective for this project is the following:\n",
    "\n",
    "- How have travel speeds evolved over the past 20 years, and what are the impacts of travel motives and modes of transportation on the speed of travel?\n",
    "\n",
    "To answer this question first some sub questions are defined:\n",
    "\n",
    "1. How does travel speed change over the last 20 years? Which trends can be observed? \n",
    "\n",
    "2. How do different travel motives impact the travelling speed of travellers?\n",
    "\n",
    "3. How do different modes of travel impact the travelling speed of travellers?\n",
    "\n",
    "4. What are the changes to travel speed of cyclists? What has affected these changes in travel speed?\n",
    "  "
   ]
  },
  {
   "cell_type": "markdown",
   "metadata": {},
   "source": [
    "# Contribution Statement\n",
    "\n",
    "*Be specific. Some of the tasks can be coding (expect everyone to do this), background research, conceptualisation, visualisation, data analysis, data modelling*"
   ]
  },
  {
   "cell_type": "markdown",
   "metadata": {},
   "source": [
    "**Author 1**:\n",
    "\n",
    "**Author 2**:\n",
    "\n",
    "**Author 3**:"
   ]
  },
  {
   "cell_type": "markdown",
   "metadata": {},
   "source": [
    "# Data Used"
   ]
  },
  {
   "cell_type": "markdown",
   "metadata": {},
   "source": [
    "The data is obtained from the open data website of CBS. Link:\n",
    "https://opendata.cbs.nl/statline/#/CBS/nl/dataset/84755NED/table?ts=1728290082121\n",
    "<br>The dataset includes information on travel motives, trip length and duration, amount of trips in total and per vehicle type (for example train, bus and car), recorded on a yearly basis from 1999 up to and including 2021. It also includes age and the difference between men and women, but those are not included in this research.\n"
   ]
  },
  {
   "cell_type": "markdown",
   "metadata": {},
   "source": [
    "# Data Pipeline"
   ]
  },
  {
   "cell_type": "markdown",
   "metadata": {},
   "source": [
    "To streamline the data for analysis and visualization, several selections have been made. The traveler’s origin will be categorized based only on the level of urbanization, disregarding geographical location. Age data will be preserved to answer a sub-research question. Modal split will be analyzed on a yearly basis, reducing the dataset to a more manageable size. No trends over time will be examined in this research. Therefore, data from 2018, 2019, and 2023 will be averaged, excluding discrepancies caused by the COVID-19 period. This is done to ensure a consistent and robust dataset."
   ]
  },
  {
   "cell_type": "markdown",
   "metadata": {},
   "source": [
    "### 1. How does travel speed change over the last 20 years? Which trends can be observed? "
   ]
  },
  {
   "cell_type": "code",
   "execution_count": null,
   "metadata": {},
   "outputs": [],
   "source": []
  },
  {
   "cell_type": "markdown",
   "metadata": {},
   "source": [
    "### 2. How do different travel motives impact the travelling speed of travellers? And over time what changes can be observed?"
   ]
  },
  {
   "cell_type": "markdown",
   "metadata": {},
   "source": [
    "It is expected that not all travel motives correspond to the same travel speeds. In the CBS data, five primary travel motives have been identified: free time, shopping/groceries, education, commuting (to and from work), and other. It is expected that travel speeds differ among these motives due to varying priorities, distances, and travel behaviors associated with each type.\n",
    "\n",
    "Hypothesis on travel motives: Travelers who commute for work purposes will tend to travel at higher average speeds than those traveling for leisure or personal reasons. This is because work-related travel often involves stricter time constraints, leading travelers to choose faster modes of transportation and more direct routes. In contrast, leisure travel allows for greater flexibility in speed and mode choice, as these travelers are less likely to be constrained by time. It is also expected that travel motives associated with greater travel distances will, on average, correspond to higher travel speeds. For example, motives like commuting to work, which often involve longer distances, may result in the use of faster modes such as trains or cars. Shorter-distance motives, like traveling to educational institutions, may occur more often in urban or suburban areas, where slower speeds are typical due to shorter distances and possibly slower modes.\n",
    "\n",
    "Hypothesis on changes over time: Over the last 20 years, the hypothesis is that average travel speed has generally increased across all travel motives due to overall higher speeds in each mode of travel. As people tend to take the same mode of travel for their travel motive over the last 20 years, thougthe primary travel mode for each motive may have remained relatively consistent, the technological advancements within these modes are likely to have led to a gradual increase in travel speeds over time."
   ]
  },
  {
   "cell_type": "markdown",
   "metadata": {},
   "source": [
    "### 3. How do different modes of travel impact the travelling speed of travellers? And over time what changes can be observed?\n",
    "\n"
   ]
  },
  {
   "cell_type": "markdown",
   "metadata": {},
   "source": [
    "### 4. What are the changes to travel speed of cyclists? What has affected these changes in travel speed?"
   ]
  },
  {
   "cell_type": "markdown",
   "metadata": {},
   "source": [
    "The hypothesis of this reschearch question, is that certain travel motives impact the speed of cyclists. It is estimated that motives such as biking from and to work operate at relatively higher average speeds than e.g. free time. Next to that, it is expected that the average speed for motives such as from and to work, or shopping and groceries are seeing an increase due to the rise of electric bikes. These, usually, higher aged people have the financial means to buy such an e-bike.   \n",
    "\n"
   ]
  },
  {
   "cell_type": "markdown",
   "metadata": {},
   "source": [
    "Hier komt de grafiekjes van hugo'tje overall een toenemende positieve intergrale trend. "
   ]
  },
  {
   "cell_type": "markdown",
   "metadata": {},
   "source": [
    "The increase in average travel speeds is expected to originate from the rise of e-bikes. Below a graph is plotted with the average sales of e-bikes. It can be observed that the rise in speeds of people biking is caused by the increasing sale of e-bike. "
   ]
  },
  {
   "cell_type": "code",
   "execution_count": null,
   "metadata": {},
   "outputs": [],
   "source": []
  }
 ],
 "metadata": {
  "kernelspec": {
   "display_name": "Python 3 (ipykernel)",
   "language": "python",
   "name": "python3"
  },
  "language_info": {
   "codemirror_mode": {
    "name": "ipython",
    "version": 3
   },
   "file_extension": ".py",
   "mimetype": "text/x-python",
   "name": "python",
   "nbconvert_exporter": "python",
   "pygments_lexer": "ipython3",
   "version": "3.12.4"
  },
  "vscode": {
   "interpreter": {
    "hash": "31f2aee4e71d21fbe5cf8b01ff0e069b9275f58929596ceb00d14d90e3e16cd6"
   }
  }
 },
 "nbformat": 4,
 "nbformat_minor": 4
}
