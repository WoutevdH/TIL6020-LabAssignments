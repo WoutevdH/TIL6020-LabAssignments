{
 "cells": [
  {
   "cell_type": "markdown",
   "metadata": {},
   "source": [
    "# Project Group 5 \n",
    "\n",
    "Members: Wouter van der Hoorn, Jelle Derks, Martijn Damman, Patrick Kruidenberg & Hugo von der Thüsen\n",
    "\n",
    "Student numbers: 5370566, 5339464, 4726642, 5412633, 4862600"
   ]
  },
  {
   "cell_type": "markdown",
   "metadata": {},
   "source": [
    "# Research Objective\n",
    "\n",
    "*Requires data modeling and quantitative research in Transport, Infrastructure & Logistics*"
   ]
  },
  {
   "cell_type": "markdown",
   "metadata": {},
   "source": [
    "__Introduction__\n",
    "\n",
    "The last twenty years the wealth of many people in the Netherlands has increased. This means more and more people do have access to high speed modes of travel, such as car and train. It is known that the amount of time spend travelling does not change over time a lot and is stable at a little more than one hour. However, due to increase of car use and train use, the speed in traffic and the travel distance can change over time. Also travel motives can have significant impact on the travelling speed that is reached. It could be possible that people do have higher travelling speeds when going to work than when travelling during free time or holidays.    \n",
    "\n",
    "This study seeks to explore the evolution of travel speed over the last 20 years, investigating the impact of travel motives and modes of transport on the speed at which people travel. By examining these factors, we aim to uncover trends and insights that can help to understand the way travel behaviour changes over time. \n",
    "\n",
    "\n",
    "__Research Objective__\n",
    "\n",
    "The research objective for this project is the following:\n",
    "\n",
    "- How have travel speeds evolved over the past 20 years, and what are the impacts of travel motives and modes of transportation on the speed of travel?\n",
    "\n",
    "To answer this question first some sub questions are defined:\n",
    "\n",
    "- How does travel speed change over the last 20 years? Which trends can be observed? \n",
    "\n",
    "- How do different travel motives impact the travelling speed of travellers?\n",
    "\n",
    "- How do different modes of travel impact the travelling speed of travellers?\n",
    "\n",
    "- Modal split?"
   ]
  },
  {
   "cell_type": "markdown",
   "metadata": {},
   "source": [
    "# Contribution Statement\n",
    "\n",
    "*Be specific. Some of the tasks can be coding (expect everyone to do this), background research, conceptualisation, visualisation, data analysis, data modelling*"
   ]
  },
  {
   "cell_type": "markdown",
   "metadata": {},
   "source": [
    "**Author 1**:\n",
    "\n",
    "**Author 2**:\n",
    "\n",
    "**Author 3**:"
   ]
  },
  {
   "cell_type": "markdown",
   "metadata": {},
   "source": [
    "# Data Used"
   ]
  },
  {
   "cell_type": "markdown",
   "metadata": {},
   "source": [
    "The data is obtained from the open data website of CBS. Link:\n",
    "https://opendata.cbs.nl/statline/#/CBS/nl/dataset/84755NED/table?ts=1728290082121\n",
    "<br>The dataset includes information on travel motives, trip length and duration, amount of trips in total and per vehicle type (for example train, bus and car), recorded on a yearly basis from 1999 up to and including 2021. It also includes age and the difference between men and women, but those are not included in this research.\n"
   ]
  },
  {
   "cell_type": "markdown",
   "metadata": {},
   "source": [
    "# Data Pipeline"
   ]
  },
  {
   "cell_type": "markdown",
   "metadata": {},
   "source": [
    "To streamline the data for analysis and visualization, several selections have been made. The traveler’s origin will be categorized based only on the level of urbanization, disregarding geographical location. Age data will be preserved to answer a sub-research question. Modal split will be analyzed on a yearly basis, reducing the dataset to a more manageable size. No trends over time will be examined in this research. Therefore, data from 2018, 2019, and 2023 will be averaged, excluding discrepancies caused by the COVID-19 period. This is done to ensure a consistent and robust dataset."
   ]
  },
  {
   "cell_type": "code",
   "execution_count": 3,
   "metadata": {},
   "outputs": [
    {
     "name": "stdout",
     "output_type": "stream",
     "text": [
      "Hugo trekt de bak!\n"
     ]
    }
   ],
   "source": [
    "import random as rnd\n",
    "names = ['Hugo', 'Jelle', 'Wouter', 'Martijn', 'Patrick']\n",
    "\n",
    "def wieTrektEenBak(names):\n",
    "    amount = len(names)\n",
    "    bakkentrekker = rnd.choice(names)\n",
    "    print(f'{bakkentrekker} trekt een bak!') \n",
    "\n",
    "wieTrektEenBak(names)"
   ]
  },
  {
   "cell_type": "markdown",
   "metadata": {},
   "source": []
  }
 ],
 "metadata": {
  "kernelspec": {
   "display_name": "Python 3 (ipykernel)",
   "language": "python",
   "name": "python3"
  },
  "language_info": {
   "codemirror_mode": {
    "name": "ipython",
    "version": 3
   },
   "file_extension": ".py",
   "mimetype": "text/x-python",
   "name": "python",
   "nbconvert_exporter": "python",
   "pygments_lexer": "ipython3",
   "version": "3.12.4"
  }
 },
 "nbformat": 4,
 "nbformat_minor": 4
}
