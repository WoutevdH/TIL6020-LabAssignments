{
 "cells": [
  {
   "cell_type": "code",
   "execution_count": 95,
   "id": "06fad610",
   "metadata": {},
   "outputs": [],
   "source": [
    "import pandas as pd\n",
    "import numpy as np\n",
    "import matplotlib.pyplot as plt\n",
    "import seaborn as sns\n",
    "import plotly.express as px\n",
    "pd.options.mode.chained_assignment = None"
   ]
  },
  {
   "cell_type": "code",
   "execution_count": 96,
   "id": "ee464aa3",
   "metadata": {
    "scrolled": true
   },
   "outputs": [],
   "source": [
    "path = r\"CBS.csv\"\n",
    "\n",
    "data = pd.read_csv(path,sep=';',skiprows=[0, 1, 2, 3 ],header=[0, 1, 2],index_col=[0])\n",
    "data = data.replace(',', '.', regex=True)\n",
    "\n",
    "data = data.dropna(thresh=data.shape[1] - 1)\n",
    "data = data.drop('Unnamed: 1_level_0',axis=1,level=0)\n",
    "data.index = data.index.str.replace('*', '', regex=False)\n"
   ]
  },
  {
   "cell_type": "code",
   "execution_count": 97,
   "id": "009d5ed6",
   "metadata": {},
   "outputs": [
    {
     "data": {
      "text/html": [
       "<div>\n",
       "<style scoped>\n",
       "    .dataframe tbody tr th:only-of-type {\n",
       "        vertical-align: middle;\n",
       "    }\n",
       "\n",
       "    .dataframe tbody tr th {\n",
       "        vertical-align: top;\n",
       "    }\n",
       "\n",
       "    .dataframe thead th {\n",
       "        text-align: right;\n",
       "    }\n",
       "</style>\n",
       "<table border=\"1\" class=\"dataframe\">\n",
       "  <thead>\n",
       "    <tr style=\"text-align: right;\">\n",
       "      <th>Perioden</th>\n",
       "      <th>Travel motives</th>\n",
       "      <th>Count</th>\n",
       "      <th>Distance in km</th>\n",
       "      <th>Minutes</th>\n",
       "      <th>Speed in kmh</th>\n",
       "    </tr>\n",
       "    <tr>\n",
       "      <th>Year</th>\n",
       "      <th></th>\n",
       "      <th></th>\n",
       "      <th></th>\n",
       "      <th></th>\n",
       "      <th></th>\n",
       "    </tr>\n",
       "  </thead>\n",
       "  <tbody>\n",
       "    <tr>\n",
       "      <th>1999</th>\n",
       "      <td>Total</td>\n",
       "      <td>3.41</td>\n",
       "      <td>10.96</td>\n",
       "      <td>23.72</td>\n",
       "      <td>27.72</td>\n",
       "    </tr>\n",
       "    <tr>\n",
       "      <th>1999</th>\n",
       "      <td>Commuting to and from work</td>\n",
       "      <td>0.59</td>\n",
       "      <td>14.78</td>\n",
       "      <td>24.83</td>\n",
       "      <td>35.71</td>\n",
       "    </tr>\n",
       "    <tr>\n",
       "      <th>1999</th>\n",
       "      <td>Groceries and shopping</td>\n",
       "      <td>0.73</td>\n",
       "      <td>4.96</td>\n",
       "      <td>14.97</td>\n",
       "      <td>19.88</td>\n",
       "    </tr>\n",
       "    <tr>\n",
       "      <th>1999</th>\n",
       "      <td>Education</td>\n",
       "      <td>0.30</td>\n",
       "      <td>6.85</td>\n",
       "      <td>17.64</td>\n",
       "      <td>23.30</td>\n",
       "    </tr>\n",
       "    <tr>\n",
       "      <th>1999</th>\n",
       "      <td>Free time</td>\n",
       "      <td>1.19</td>\n",
       "      <td>12.42</td>\n",
       "      <td>31.37</td>\n",
       "      <td>23.76</td>\n",
       "    </tr>\n",
       "    <tr>\n",
       "      <th>...</th>\n",
       "      <td>...</td>\n",
       "      <td>...</td>\n",
       "      <td>...</td>\n",
       "      <td>...</td>\n",
       "      <td>...</td>\n",
       "    </tr>\n",
       "    <tr>\n",
       "      <th>2019</th>\n",
       "      <td>Commuting to and from work</td>\n",
       "      <td>0.61</td>\n",
       "      <td>16.13</td>\n",
       "      <td>24.83</td>\n",
       "      <td>38.98</td>\n",
       "    </tr>\n",
       "    <tr>\n",
       "      <th>2019</th>\n",
       "      <td>Groceries and shopping</td>\n",
       "      <td>0.57</td>\n",
       "      <td>5.36</td>\n",
       "      <td>14.35</td>\n",
       "      <td>22.41</td>\n",
       "    </tr>\n",
       "    <tr>\n",
       "      <th>2019</th>\n",
       "      <td>Education</td>\n",
       "      <td>0.28</td>\n",
       "      <td>7.28</td>\n",
       "      <td>18.58</td>\n",
       "      <td>23.51</td>\n",
       "    </tr>\n",
       "    <tr>\n",
       "      <th>2019</th>\n",
       "      <td>Free time</td>\n",
       "      <td>1.05</td>\n",
       "      <td>13.50</td>\n",
       "      <td>32.59</td>\n",
       "      <td>24.85</td>\n",
       "    </tr>\n",
       "    <tr>\n",
       "      <th>2019</th>\n",
       "      <td>Other</td>\n",
       "      <td>0.45</td>\n",
       "      <td>11.87</td>\n",
       "      <td>19.57</td>\n",
       "      <td>36.39</td>\n",
       "    </tr>\n",
       "  </tbody>\n",
       "</table>\n",
       "<p>126 rows × 5 columns</p>\n",
       "</div>"
      ],
      "text/plain": [
       "Perioden              Travel motives  Count  Distance in km  Minutes  \\\n",
       "Year                                                                   \n",
       "1999                           Total   3.41           10.96    23.72   \n",
       "1999      Commuting to and from work   0.59           14.78    24.83   \n",
       "1999          Groceries and shopping   0.73            4.96    14.97   \n",
       "1999                       Education   0.30            6.85    17.64   \n",
       "1999                       Free time   1.19           12.42    31.37   \n",
       "...                              ...    ...             ...      ...   \n",
       "2019      Commuting to and from work   0.61           16.13    24.83   \n",
       "2019          Groceries and shopping   0.57            5.36    14.35   \n",
       "2019                       Education   0.28            7.28    18.58   \n",
       "2019                       Free time   1.05           13.50    32.59   \n",
       "2019                           Other   0.45           11.87    19.57   \n",
       "\n",
       "Perioden  Speed in kmh  \n",
       "Year                    \n",
       "1999             27.72  \n",
       "1999             35.71  \n",
       "1999             19.88  \n",
       "1999             23.30  \n",
       "1999             23.76  \n",
       "...                ...  \n",
       "2019             38.98  \n",
       "2019             22.41  \n",
       "2019             23.51  \n",
       "2019             24.85  \n",
       "2019             36.39  \n",
       "\n",
       "[126 rows x 5 columns]"
      ]
     },
     "metadata": {},
     "output_type": "display_data"
    }
   ],
   "source": [
    "# Define translations for column names\n",
    "column_translations = {\n",
    "    'Reismotieven': 'Travel motives',\n",
    "    'aantal': 'Count',\n",
    "    'km': 'Distance in km',\n",
    "    'Minuten': 'Minutes',\n",
    "    'snelheid': 'Speed in kmh'\n",
    "}\n",
    "\n",
    "# Define translations for travel motives\n",
    "travel_motive_translations = {\n",
    "    'Van en naar het werk': 'Commuting to and from work',\n",
    "    'Vrije tijd': 'Free time',\n",
    "    'Winkelen. boodschappen doen': 'Groceries and shopping',\n",
    "    'Onderwijs volgen. cursus. kinderopvang': 'Education',\n",
    "    'Totaal': 'Total',\n",
    "    'Overige reismotieven': 'Other'\n",
    "}\n",
    "\n",
    "# Define the data subsets\n",
    "total = data.iloc[:, [0, 1, 2, 3]]\n",
    "driver = data.iloc[:, [0, 4, 5, 6]]\n",
    "passenger = data.iloc[:, [0, 7, 8, 9]]\n",
    "train = data.iloc[:, [0, 10, 11, 12]]\n",
    "btm = data.iloc[:, [0, 13, 14, 15]]\n",
    "bike = data.iloc[:, [0, 16, 17, 18]]\n",
    "walking = data.iloc[:, [0, 19, 20, 21]]\n",
    "others = data.iloc[:, [0, 22, 23, 24]]\n",
    "\n",
    "# List of the datasets\n",
    "datasets = [total, driver, passenger, train, btm, bike, walking, others]\n",
    "\n",
    "# Iterate over each dataset\n",
    "for df in datasets:\n",
    "    # Drop the first two levels of the column index if applicable\n",
    "    df.columns = df.columns.droplevel([0, 1])\n",
    "    df.index.name = 'Year'\n",
    "    \n",
    "    # Rename columns to English\n",
    "    df.rename(columns=column_translations, inplace=True)\n",
    "    \n",
    "    # Translate travel motives\n",
    "    df['Travel motives'] = df['Travel motives'].replace(travel_motive_translations)\n",
    "    \n",
    "    # Convert columns to numeric, if necessary\n",
    "    df['Count'] = pd.to_numeric(df['Count'], errors='coerce')\n",
    "    df['Distance in km'] = pd.to_numeric(df['Distance in km'], errors='coerce')\n",
    "    df['Minutes'] = pd.to_numeric(df['Minutes'], errors='coerce')\n",
    "    \n",
    "    # Calculate 'Speed in kmh' by dividing distance by time in hours and round to two decimals\n",
    "    df['Speed in kmh'] = (df['Distance in km'] / (df['Minutes'] / 60)).round(2)\n",
    "\n",
    "# Display the updated 'btm' dataset as a check\n",
    "display(total)\n"
   ]
  },
  {
   "cell_type": "code",
   "execution_count": 98,
   "id": "af900195",
   "metadata": {},
   "outputs": [
    {
     "data": {
      "application/vnd.plotly.v1+json": {
       "config": {
        "plotlyServerURL": "https://plot.ly"
       },
       "data": [
        {
         "alignmentgroup": "True",
         "hovertemplate": "Travel motives=%{y}<br>Average speed (km/h)=%{x}<extra></extra>",
         "legendgroup": "Total",
         "marker": {
          "color": "#9467bd",
          "pattern": {
           "shape": ""
          }
         },
         "name": "Total",
         "offsetgroup": "Total",
         "orientation": "h",
         "showlegend": true,
         "textposition": "auto",
         "type": "bar",
         "x": [
          28.1
         ],
         "xaxis": "x",
         "y": [
          "Total"
         ],
         "yaxis": "y"
        },
        {
         "alignmentgroup": "True",
         "hovertemplate": "Travel motives=%{y}<br>Average speed (km/h)=%{x}<extra></extra>",
         "legendgroup": "Commuting to and from work",
         "marker": {
          "color": "#1f77b4",
          "pattern": {
           "shape": ""
          }
         },
         "name": "Commuting to and from work",
         "offsetgroup": "Commuting to and from work",
         "orientation": "h",
         "showlegend": true,
         "textposition": "auto",
         "type": "bar",
         "x": [
          37.23
         ],
         "xaxis": "x",
         "y": [
          "Commuting to and from work"
         ],
         "yaxis": "y"
        },
        {
         "alignmentgroup": "True",
         "hovertemplate": "Travel motives=%{y}<br>Average speed (km/h)=%{x}<extra></extra>",
         "legendgroup": "Other",
         "marker": {
          "color": "#8c564b",
          "pattern": {
           "shape": ""
          }
         },
         "name": "Other",
         "offsetgroup": "Other",
         "orientation": "h",
         "showlegend": true,
         "textposition": "auto",
         "type": "bar",
         "x": [
          36.82
         ],
         "xaxis": "x",
         "y": [
          "Other"
         ],
         "yaxis": "y"
        },
        {
         "alignmentgroup": "True",
         "hovertemplate": "Travel motives=%{y}<br>Average speed (km/h)=%{x}<extra></extra>",
         "legendgroup": "Free time",
         "marker": {
          "color": "#ff7f0e",
          "pattern": {
           "shape": ""
          }
         },
         "name": "Free time",
         "offsetgroup": "Free time",
         "orientation": "h",
         "showlegend": true,
         "textposition": "auto",
         "type": "bar",
         "x": [
          24.15
         ],
         "xaxis": "x",
         "y": [
          "Free time"
         ],
         "yaxis": "y"
        },
        {
         "alignmentgroup": "True",
         "hovertemplate": "Travel motives=%{y}<br>Average speed (km/h)=%{x}<extra></extra>",
         "legendgroup": "Education",
         "marker": {
          "color": "#d62728",
          "pattern": {
           "shape": ""
          }
         },
         "name": "Education",
         "offsetgroup": "Education",
         "orientation": "h",
         "showlegend": true,
         "textposition": "auto",
         "type": "bar",
         "x": [
          23.42
         ],
         "xaxis": "x",
         "y": [
          "Education"
         ],
         "yaxis": "y"
        },
        {
         "alignmentgroup": "True",
         "hovertemplate": "Travel motives=%{y}<br>Average speed (km/h)=%{x}<extra></extra>",
         "legendgroup": "Groceries and shopping",
         "marker": {
          "color": "#2ca02c",
          "pattern": {
           "shape": ""
          }
         },
         "name": "Groceries and shopping",
         "offsetgroup": "Groceries and shopping",
         "orientation": "h",
         "showlegend": true,
         "textposition": "auto",
         "type": "bar",
         "x": [
          21.02
         ],
         "xaxis": "x",
         "y": [
          "Groceries and shopping"
         ],
         "yaxis": "y"
        }
       ],
       "layout": {
        "barmode": "relative",
        "legend": {
         "title": {
          "text": "Travel motives"
         },
         "tracegroupgap": 0
        },
        "showlegend": false,
        "template": {
         "data": {
          "bar": [
           {
            "error_x": {
             "color": "#2a3f5f"
            },
            "error_y": {
             "color": "#2a3f5f"
            },
            "marker": {
             "line": {
              "color": "#E5ECF6",
              "width": 0.5
             },
             "pattern": {
              "fillmode": "overlay",
              "size": 10,
              "solidity": 0.2
             }
            },
            "type": "bar"
           }
          ],
          "barpolar": [
           {
            "marker": {
             "line": {
              "color": "#E5ECF6",
              "width": 0.5
             },
             "pattern": {
              "fillmode": "overlay",
              "size": 10,
              "solidity": 0.2
             }
            },
            "type": "barpolar"
           }
          ],
          "carpet": [
           {
            "aaxis": {
             "endlinecolor": "#2a3f5f",
             "gridcolor": "white",
             "linecolor": "white",
             "minorgridcolor": "white",
             "startlinecolor": "#2a3f5f"
            },
            "baxis": {
             "endlinecolor": "#2a3f5f",
             "gridcolor": "white",
             "linecolor": "white",
             "minorgridcolor": "white",
             "startlinecolor": "#2a3f5f"
            },
            "type": "carpet"
           }
          ],
          "choropleth": [
           {
            "colorbar": {
             "outlinewidth": 0,
             "ticks": ""
            },
            "type": "choropleth"
           }
          ],
          "contour": [
           {
            "colorbar": {
             "outlinewidth": 0,
             "ticks": ""
            },
            "colorscale": [
             [
              0,
              "#0d0887"
             ],
             [
              0.1111111111111111,
              "#46039f"
             ],
             [
              0.2222222222222222,
              "#7201a8"
             ],
             [
              0.3333333333333333,
              "#9c179e"
             ],
             [
              0.4444444444444444,
              "#bd3786"
             ],
             [
              0.5555555555555556,
              "#d8576b"
             ],
             [
              0.6666666666666666,
              "#ed7953"
             ],
             [
              0.7777777777777778,
              "#fb9f3a"
             ],
             [
              0.8888888888888888,
              "#fdca26"
             ],
             [
              1,
              "#f0f921"
             ]
            ],
            "type": "contour"
           }
          ],
          "contourcarpet": [
           {
            "colorbar": {
             "outlinewidth": 0,
             "ticks": ""
            },
            "type": "contourcarpet"
           }
          ],
          "heatmap": [
           {
            "colorbar": {
             "outlinewidth": 0,
             "ticks": ""
            },
            "colorscale": [
             [
              0,
              "#0d0887"
             ],
             [
              0.1111111111111111,
              "#46039f"
             ],
             [
              0.2222222222222222,
              "#7201a8"
             ],
             [
              0.3333333333333333,
              "#9c179e"
             ],
             [
              0.4444444444444444,
              "#bd3786"
             ],
             [
              0.5555555555555556,
              "#d8576b"
             ],
             [
              0.6666666666666666,
              "#ed7953"
             ],
             [
              0.7777777777777778,
              "#fb9f3a"
             ],
             [
              0.8888888888888888,
              "#fdca26"
             ],
             [
              1,
              "#f0f921"
             ]
            ],
            "type": "heatmap"
           }
          ],
          "heatmapgl": [
           {
            "colorbar": {
             "outlinewidth": 0,
             "ticks": ""
            },
            "colorscale": [
             [
              0,
              "#0d0887"
             ],
             [
              0.1111111111111111,
              "#46039f"
             ],
             [
              0.2222222222222222,
              "#7201a8"
             ],
             [
              0.3333333333333333,
              "#9c179e"
             ],
             [
              0.4444444444444444,
              "#bd3786"
             ],
             [
              0.5555555555555556,
              "#d8576b"
             ],
             [
              0.6666666666666666,
              "#ed7953"
             ],
             [
              0.7777777777777778,
              "#fb9f3a"
             ],
             [
              0.8888888888888888,
              "#fdca26"
             ],
             [
              1,
              "#f0f921"
             ]
            ],
            "type": "heatmapgl"
           }
          ],
          "histogram": [
           {
            "marker": {
             "pattern": {
              "fillmode": "overlay",
              "size": 10,
              "solidity": 0.2
             }
            },
            "type": "histogram"
           }
          ],
          "histogram2d": [
           {
            "colorbar": {
             "outlinewidth": 0,
             "ticks": ""
            },
            "colorscale": [
             [
              0,
              "#0d0887"
             ],
             [
              0.1111111111111111,
              "#46039f"
             ],
             [
              0.2222222222222222,
              "#7201a8"
             ],
             [
              0.3333333333333333,
              "#9c179e"
             ],
             [
              0.4444444444444444,
              "#bd3786"
             ],
             [
              0.5555555555555556,
              "#d8576b"
             ],
             [
              0.6666666666666666,
              "#ed7953"
             ],
             [
              0.7777777777777778,
              "#fb9f3a"
             ],
             [
              0.8888888888888888,
              "#fdca26"
             ],
             [
              1,
              "#f0f921"
             ]
            ],
            "type": "histogram2d"
           }
          ],
          "histogram2dcontour": [
           {
            "colorbar": {
             "outlinewidth": 0,
             "ticks": ""
            },
            "colorscale": [
             [
              0,
              "#0d0887"
             ],
             [
              0.1111111111111111,
              "#46039f"
             ],
             [
              0.2222222222222222,
              "#7201a8"
             ],
             [
              0.3333333333333333,
              "#9c179e"
             ],
             [
              0.4444444444444444,
              "#bd3786"
             ],
             [
              0.5555555555555556,
              "#d8576b"
             ],
             [
              0.6666666666666666,
              "#ed7953"
             ],
             [
              0.7777777777777778,
              "#fb9f3a"
             ],
             [
              0.8888888888888888,
              "#fdca26"
             ],
             [
              1,
              "#f0f921"
             ]
            ],
            "type": "histogram2dcontour"
           }
          ],
          "mesh3d": [
           {
            "colorbar": {
             "outlinewidth": 0,
             "ticks": ""
            },
            "type": "mesh3d"
           }
          ],
          "parcoords": [
           {
            "line": {
             "colorbar": {
              "outlinewidth": 0,
              "ticks": ""
             }
            },
            "type": "parcoords"
           }
          ],
          "pie": [
           {
            "automargin": true,
            "type": "pie"
           }
          ],
          "scatter": [
           {
            "fillpattern": {
             "fillmode": "overlay",
             "size": 10,
             "solidity": 0.2
            },
            "type": "scatter"
           }
          ],
          "scatter3d": [
           {
            "line": {
             "colorbar": {
              "outlinewidth": 0,
              "ticks": ""
             }
            },
            "marker": {
             "colorbar": {
              "outlinewidth": 0,
              "ticks": ""
             }
            },
            "type": "scatter3d"
           }
          ],
          "scattercarpet": [
           {
            "marker": {
             "colorbar": {
              "outlinewidth": 0,
              "ticks": ""
             }
            },
            "type": "scattercarpet"
           }
          ],
          "scattergeo": [
           {
            "marker": {
             "colorbar": {
              "outlinewidth": 0,
              "ticks": ""
             }
            },
            "type": "scattergeo"
           }
          ],
          "scattergl": [
           {
            "marker": {
             "colorbar": {
              "outlinewidth": 0,
              "ticks": ""
             }
            },
            "type": "scattergl"
           }
          ],
          "scattermapbox": [
           {
            "marker": {
             "colorbar": {
              "outlinewidth": 0,
              "ticks": ""
             }
            },
            "type": "scattermapbox"
           }
          ],
          "scatterpolar": [
           {
            "marker": {
             "colorbar": {
              "outlinewidth": 0,
              "ticks": ""
             }
            },
            "type": "scatterpolar"
           }
          ],
          "scatterpolargl": [
           {
            "marker": {
             "colorbar": {
              "outlinewidth": 0,
              "ticks": ""
             }
            },
            "type": "scatterpolargl"
           }
          ],
          "scatterternary": [
           {
            "marker": {
             "colorbar": {
              "outlinewidth": 0,
              "ticks": ""
             }
            },
            "type": "scatterternary"
           }
          ],
          "surface": [
           {
            "colorbar": {
             "outlinewidth": 0,
             "ticks": ""
            },
            "colorscale": [
             [
              0,
              "#0d0887"
             ],
             [
              0.1111111111111111,
              "#46039f"
             ],
             [
              0.2222222222222222,
              "#7201a8"
             ],
             [
              0.3333333333333333,
              "#9c179e"
             ],
             [
              0.4444444444444444,
              "#bd3786"
             ],
             [
              0.5555555555555556,
              "#d8576b"
             ],
             [
              0.6666666666666666,
              "#ed7953"
             ],
             [
              0.7777777777777778,
              "#fb9f3a"
             ],
             [
              0.8888888888888888,
              "#fdca26"
             ],
             [
              1,
              "#f0f921"
             ]
            ],
            "type": "surface"
           }
          ],
          "table": [
           {
            "cells": {
             "fill": {
              "color": "#EBF0F8"
             },
             "line": {
              "color": "white"
             }
            },
            "header": {
             "fill": {
              "color": "#C8D4E3"
             },
             "line": {
              "color": "white"
             }
            },
            "type": "table"
           }
          ]
         },
         "layout": {
          "annotationdefaults": {
           "arrowcolor": "#2a3f5f",
           "arrowhead": 0,
           "arrowwidth": 1
          },
          "autotypenumbers": "strict",
          "coloraxis": {
           "colorbar": {
            "outlinewidth": 0,
            "ticks": ""
           }
          },
          "colorscale": {
           "diverging": [
            [
             0,
             "#8e0152"
            ],
            [
             0.1,
             "#c51b7d"
            ],
            [
             0.2,
             "#de77ae"
            ],
            [
             0.3,
             "#f1b6da"
            ],
            [
             0.4,
             "#fde0ef"
            ],
            [
             0.5,
             "#f7f7f7"
            ],
            [
             0.6,
             "#e6f5d0"
            ],
            [
             0.7,
             "#b8e186"
            ],
            [
             0.8,
             "#7fbc41"
            ],
            [
             0.9,
             "#4d9221"
            ],
            [
             1,
             "#276419"
            ]
           ],
           "sequential": [
            [
             0,
             "#0d0887"
            ],
            [
             0.1111111111111111,
             "#46039f"
            ],
            [
             0.2222222222222222,
             "#7201a8"
            ],
            [
             0.3333333333333333,
             "#9c179e"
            ],
            [
             0.4444444444444444,
             "#bd3786"
            ],
            [
             0.5555555555555556,
             "#d8576b"
            ],
            [
             0.6666666666666666,
             "#ed7953"
            ],
            [
             0.7777777777777778,
             "#fb9f3a"
            ],
            [
             0.8888888888888888,
             "#fdca26"
            ],
            [
             1,
             "#f0f921"
            ]
           ],
           "sequentialminus": [
            [
             0,
             "#0d0887"
            ],
            [
             0.1111111111111111,
             "#46039f"
            ],
            [
             0.2222222222222222,
             "#7201a8"
            ],
            [
             0.3333333333333333,
             "#9c179e"
            ],
            [
             0.4444444444444444,
             "#bd3786"
            ],
            [
             0.5555555555555556,
             "#d8576b"
            ],
            [
             0.6666666666666666,
             "#ed7953"
            ],
            [
             0.7777777777777778,
             "#fb9f3a"
            ],
            [
             0.8888888888888888,
             "#fdca26"
            ],
            [
             1,
             "#f0f921"
            ]
           ]
          },
          "colorway": [
           "#636efa",
           "#EF553B",
           "#00cc96",
           "#ab63fa",
           "#FFA15A",
           "#19d3f3",
           "#FF6692",
           "#B6E880",
           "#FF97FF",
           "#FECB52"
          ],
          "font": {
           "color": "#2a3f5f"
          },
          "geo": {
           "bgcolor": "white",
           "lakecolor": "white",
           "landcolor": "#E5ECF6",
           "showlakes": true,
           "showland": true,
           "subunitcolor": "white"
          },
          "hoverlabel": {
           "align": "left"
          },
          "hovermode": "closest",
          "mapbox": {
           "style": "light"
          },
          "paper_bgcolor": "white",
          "plot_bgcolor": "#E5ECF6",
          "polar": {
           "angularaxis": {
            "gridcolor": "white",
            "linecolor": "white",
            "ticks": ""
           },
           "bgcolor": "#E5ECF6",
           "radialaxis": {
            "gridcolor": "white",
            "linecolor": "white",
            "ticks": ""
           }
          },
          "scene": {
           "xaxis": {
            "backgroundcolor": "#E5ECF6",
            "gridcolor": "white",
            "gridwidth": 2,
            "linecolor": "white",
            "showbackground": true,
            "ticks": "",
            "zerolinecolor": "white"
           },
           "yaxis": {
            "backgroundcolor": "#E5ECF6",
            "gridcolor": "white",
            "gridwidth": 2,
            "linecolor": "white",
            "showbackground": true,
            "ticks": "",
            "zerolinecolor": "white"
           },
           "zaxis": {
            "backgroundcolor": "#E5ECF6",
            "gridcolor": "white",
            "gridwidth": 2,
            "linecolor": "white",
            "showbackground": true,
            "ticks": "",
            "zerolinecolor": "white"
           }
          },
          "shapedefaults": {
           "line": {
            "color": "#2a3f5f"
           }
          },
          "ternary": {
           "aaxis": {
            "gridcolor": "white",
            "linecolor": "white",
            "ticks": ""
           },
           "baxis": {
            "gridcolor": "white",
            "linecolor": "white",
            "ticks": ""
           },
           "bgcolor": "#E5ECF6",
           "caxis": {
            "gridcolor": "white",
            "linecolor": "white",
            "ticks": ""
           }
          },
          "title": {
           "x": 0.05
          },
          "xaxis": {
           "automargin": true,
           "gridcolor": "white",
           "linecolor": "white",
           "ticks": "",
           "title": {
            "standoff": 15
           },
           "zerolinecolor": "white",
           "zerolinewidth": 2
          },
          "yaxis": {
           "automargin": true,
           "gridcolor": "white",
           "linecolor": "white",
           "ticks": "",
           "title": {
            "standoff": 15
           },
           "zerolinecolor": "white",
           "zerolinewidth": 2
          }
         }
        },
        "title": {
         "text": "Average speed by travel motives over last 20 years"
        },
        "xaxis": {
         "anchor": "y",
         "domain": [
          0,
          1
         ],
         "title": {
          "text": "Average speed (km/h)"
         }
        },
        "yaxis": {
         "anchor": "x",
         "categoryarray": [
          "Groceries and shopping",
          "Education",
          "Free time",
          "Other",
          "Commuting to and from work",
          "Total"
         ],
         "categoryorder": "array",
         "domain": [
          0,
          1
         ],
         "title": {
          "text": ""
         }
        }
       }
      }
     },
     "metadata": {},
     "output_type": "display_data"
    }
   ],
   "source": [
    "import plotly.express as px\n",
    "\n",
    "# Define a color dictionary for each travel motive\n",
    "color_map = {\n",
    "    'Commuting to and from work': '#1f77b4',\n",
    "    'Free time': '#ff7f0e',\n",
    "    'Groceries and shopping': '#2ca02c',\n",
    "    'Education': '#d62728',\n",
    "    'Total': '#9467bd',\n",
    "    'Other': '#8c564b'\n",
    "}\n",
    "\n",
    "# Calculate the average speed by travel motive, sort in descending order, and move \"Total\" to the top\n",
    "average_speed = total.groupby('Travel motives')['Speed in kmh'].mean().sort_values(ascending=False).round(2)\n",
    "\n",
    "# Ensure \"Total\" appears first in the sorted Series\n",
    "average_speed = average_speed.reindex(['Total'] + [motive for motive in average_speed.index if motive != 'Total'])\n",
    "\n",
    "# Create the horizontal bar plot with colors assigned by the color map\n",
    "fig = px.bar(\n",
    "    average_speed,\n",
    "    x=average_speed.values,\n",
    "    y=average_speed.index,\n",
    "    orientation='h',\n",
    "    title='Average speed by travel motives over last 20 years',\n",
    "    labels={'x': 'Average speed (km/h)', 'y': 'Travel motives'},\n",
    "    color=average_speed.index,  # Set color by travel motives\n",
    "    color_discrete_map=color_map  # Apply custom color map\n",
    ")\n",
    "\n",
    "# Update layout to remove the legend and ensure \"Total\" is at the top\n",
    "fig.update_layout(\n",
    "    xaxis_title=\"Average speed (km/h)\",\n",
    "    yaxis_title=\"\",\n",
    "    showlegend=False  # Remove legend\n",
    ")\n",
    "\n",
    "# Show the plot\n",
    "fig.show()\n"
   ]
  },
  {
   "cell_type": "code",
   "execution_count": null,
   "id": "0548e78b",
   "metadata": {},
   "outputs": [],
   "source": []
  },
  {
   "cell_type": "code",
   "execution_count": 99,
   "id": "d74a7144",
   "metadata": {},
   "outputs": [],
   "source": [
    "# import pandas as pd\n",
    "# import matplotlib.pyplot as plt\n",
    "\n",
    "# # Assuming 'totaal' DataFrame is already defined and looks similar to the one described earlier\n",
    "\n",
    "# # # Display the DataFrame\n",
    "# # display(totaal)\n",
    "\n",
    "# # # Resetting the index to treat 'Perioden' as a regular column\n",
    "# totaal.reset_index(inplace=True)\n",
    "\n",
    "# # # Display the DataFrame's columns and the first few rows\n",
    "# # print(totaal.columns)\n",
    "# # display(totaal.head())\n",
    "\n",
    "# # Grouping by 'index' (which is now 'Perioden') and 'Reismotieven', then calculating the mean speed\n",
    "# grouped_speed = totaal.groupby(['index', 'Reismotieven'])['snelheid'].mean().reset_index()\n",
    "\n",
    "# # Print the grouped data to verify\n",
    "# print(grouped_speed)\n",
    "\n",
    "# # Create the line plot for speed changes over time for each motive\n",
    "# plt.figure(figsize=(14, 7))\n",
    "\n",
    "# # Loop through each unique travel motive to plot\n",
    "# for motive in grouped_speed['Reismotieven'].unique():\n",
    "#     motive_data = grouped_speed[grouped_speed['Reismotieven'] == motive]\n",
    "#     plt.plot(motive_data['index'], motive_data['snelheid'], marker='o', label=motive)\n",
    "\n",
    "# # Add titles and labels\n",
    "# plt.title('Change of Speed Over Time by Travel Motivation')\n",
    "# plt.xlabel('Year')\n",
    "# plt.ylabel('Average Speed (km/h)')\n",
    "# plt.xticks(rotation=45)\n",
    "# # plt.xticks(range(min(grouped_speed['index']), max(grouped_speed['index']) + 1))  # Ensuring all years are shown\n",
    "\n",
    "# # Add a legend\n",
    "# plt.legend(title='Travel Motivation', loc='upper left')  # You can adjust the location as needed\n",
    "\n",
    "# # Add a grid for better readability\n",
    "# plt.grid()\n",
    "\n",
    "# # Adjust layout to fit everything nicely\n",
    "# plt.tight_layout()\n",
    "\n",
    "# # Show the plot\n",
    "# plt.show()\n"
   ]
  },
  {
   "cell_type": "code",
   "execution_count": 100,
   "id": "81c242cd",
   "metadata": {},
   "outputs": [],
   "source": [
    "# import pandas as pd\n",
    "# import matplotlib.pyplot as plt\n",
    "\n",
    "# # Display the DataFrame to verify\n",
    "# display(totaal)\n",
    "\n",
    "# # Resetting the index to treat 'Perioden' as a regular column\n",
    "# totaal.reset_index(inplace=True)\n",
    "\n",
    "# # Display the DataFrame's columns and the first few rows\n",
    "# print(totaal.columns)\n",
    "# display(totaal.head())\n",
    "\n",
    "# # Grouping by 'index' (which is now 'Perioden') and 'Reismotieven', then calculating the mean distance\n",
    "# grouped_distance = totaal.groupby(['index', 'Reismotieven'])['km'].mean().reset_index()\n",
    "\n",
    "# # Print the grouped data to verify\n",
    "# print(grouped_distance)\n",
    "\n",
    "# # Create the line plot for distance changes over time for each motive\n",
    "# plt.figure(figsize=(14, 7))\n",
    "\n",
    "# # Loop through each unique travel motive to plot the distance traveled\n",
    "# for motive in grouped_distance['Reismotieven'].unique():\n",
    "#     motive_data = grouped_distance[grouped_distance['Reismotieven'] == motive]\n",
    "#     plt.plot(motive_data['index'], motive_data['km'], marker='o', label=motive)\n",
    "\n",
    "# # Add titles and labels\n",
    "# plt.title('Change of Distance Traveled Over Time by Travel Motivation')\n",
    "# plt.xlabel('Year')\n",
    "# plt.ylabel('Average Distance Traveled (km)')\n",
    "# plt.xticks(rotation=45)\n",
    "\n",
    "# # Add a legend\n",
    "# plt.legend(title='Travel Motivation', loc='upper left')  # Adjust the location as needed\n",
    "\n",
    "# # Add a grid for better readability\n",
    "# plt.grid()\n",
    "\n",
    "# # Adjust layout to fit everything nicely\n",
    "# plt.tight_layout()\n",
    "\n",
    "# # Show the plot\n",
    "# plt.show()\n"
   ]
  },
  {
   "cell_type": "code",
   "execution_count": 101,
   "id": "b425399a",
   "metadata": {},
   "outputs": [],
   "source": [
    "# # Grouping by 'index' (which is now 'Perioden') and 'Reismotieven', then calculating the mean time traveled\n",
    "# grouped_time = totaal.groupby(['index', 'Reismotieven'])['Minuten'].mean().reset_index()\n",
    "\n",
    "# # Print the grouped data to verify\n",
    "# print(grouped_time)\n",
    "\n",
    "# # Create the line plot for time traveled changes over time for each motive\n",
    "# plt.figure(figsize=(14, 7))\n",
    "\n",
    "# # Loop through each unique travel motive to plot the time traveled\n",
    "# for motive in grouped_time['Reismotieven'].unique():\n",
    "#     motive_data = grouped_time[grouped_time['Reismotieven'] == motive]\n",
    "#     plt.plot(motive_data['index'], motive_data['Minuten'], marker='o', label=motive)\n",
    "\n",
    "# # Add titles and labels\n",
    "# plt.title('Change of Time Traveled Over Time by Travel Motivation')\n",
    "# plt.xlabel('Year')\n",
    "# plt.ylabel('Average Time Traveled (Minutes)')\n",
    "# plt.xticks(rotation=45)\n",
    "\n",
    "# # Add a legend\n",
    "# plt.legend(title='Travel Motivation', loc='upper left')  # Adjust the location as needed\n",
    "\n",
    "# # Add a grid for better readability\n",
    "# plt.grid()\n",
    "\n",
    "# # Adjust layout to fit everything nicely\n",
    "# plt.tight_layout()\n",
    "\n",
    "# # Show the plot\n",
    "# plt.show()\n"
   ]
  },
  {
   "cell_type": "code",
   "execution_count": 102,
   "id": "8e0fb90d",
   "metadata": {},
   "outputs": [],
   "source": [
    "# import pandas as pd\n",
    "# import matplotlib.pyplot as plt\n",
    "\n",
    "# # Assuming 'Bestuurder' DataFrame is already defined and looks similar to the one described earlier\n",
    "\n",
    "# # Resetting the index to treat 'Perioden' as a regular column\n",
    "# Bestuurder.reset_index(inplace=True)\n",
    "\n",
    "# # Grouping by 'index' (which is now 'Perioden') and 'Reismotieven', then calculating the mean speed\n",
    "# grouped_speed = Bestuurder.groupby(['index', 'Reismotieven'])['snelheid'].mean().reset_index()\n",
    "\n",
    "# # Print the grouped data to verify\n",
    "# print(grouped_speed)\n",
    "\n",
    "# # Create the line plot for speed changes over time for each motive\n",
    "# plt.figure(figsize=(14, 7))\n",
    "\n",
    "# # Loop through each unique travel motive to plot\n",
    "# for motive in grouped_speed['Reismotieven'].unique():\n",
    "#     motive_data = grouped_speed[grouped_speed['Reismotieven'] == motive]\n",
    "#     plt.plot(motive_data['index'], motive_data['snelheid'], marker='o', label=motive)\n",
    "\n",
    "# # Add titles and labels\n",
    "# plt.title('Change of Speed Over Time by Travel Motivation (Bestuurder Dataset)')\n",
    "# plt.xlabel('Year')\n",
    "# plt.ylabel('Average Speed (km/h)')\n",
    "# plt.xticks(rotation=45)\n",
    "\n",
    "# # Add a legend\n",
    "# plt.legend(title='Travel Motivation', loc='upper left')  # You can adjust the location as needed\n",
    "\n",
    "# # Add a grid for better readability\n",
    "# plt.grid()\n",
    "\n",
    "# # Adjust layout to fit everything nicely\n",
    "# plt.tight_layout()\n",
    "\n",
    "# # Show the plot\n",
    "# plt.show()\n"
   ]
  },
  {
   "cell_type": "code",
   "execution_count": null,
   "id": "8eb2418f",
   "metadata": {},
   "outputs": [],
   "source": []
  }
 ],
 "metadata": {
  "kernelspec": {
   "display_name": "TIL6022",
   "language": "python",
   "name": "python3"
  },
  "language_info": {
   "codemirror_mode": {
    "name": "ipython",
    "version": 3
   },
   "file_extension": ".py",
   "mimetype": "text/x-python",
   "name": "python",
   "nbconvert_exporter": "python",
   "pygments_lexer": "ipython3",
   "version": "3.12.5"
  }
 },
 "nbformat": 4,
 "nbformat_minor": 5
}
