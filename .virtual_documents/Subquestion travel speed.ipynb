import pandas as pd
import numpy as np
import matplotlib.pyplot as plt
# import seaborn as sns
# sns.set_theme(style="darkgrid")
import plotly.express as px
import plotly.graph_objects as go


path = r"CBS.csv"

data = pd.read_csv(path,sep=';',skiprows=[0, 1, 2, 3 ],header=[0, 1, 2],index_col=[0])
data = data.replace(',', '.', regex=True)

data = data.dropna(thresh=data.shape[1] - 1)
data = data.drop('Unnamed: 1_level_0',axis=1,level=0)
data.index = data.index.str.replace('*', '', regex=False)
display(data)





Total = data.iloc[:,[0, 1, 2, 3]]
Car_driver = data.iloc[:,[0, 4, 5, 6]]
Car_passenger = data.iloc[:,[0, 7, 8, 9]]
Train = data.iloc[:,[0, 10, 11, 12]]
Bus_tram_metro = data.iloc[:,[0, 13, 14, 15]]
Bicycle = data.iloc[:,[0, 16, 17, 18]]
Walking = data.iloc[:,[0, 19, 20, 21]]
Others = data.iloc[:,[0, 22, 23, 24]]

# Create a list of the datasets you want to process
datasets = [Total, Car_driver, Car_passenger, Train, Bus_tram_metro, Bicycle, Walking, Others]

# Iterate over each dataset
for df in datasets:
    # Drop the first two levels of the column index (if applicable)
    df.columns = df.columns.droplevel([0, 1])
    
    # Convert relevant columns to numeric, handling errors
    df['aantal'] = pd.to_numeric(df['aantal'], errors='coerce')
    df['km'] = pd.to_numeric(df['km'], errors='coerce')
    df['Minuten'] = pd.to_numeric(df['Minuten'], errors='coerce')
    
    # Calculate 'snelheid' (speed) by dividing distance by time in hours
    df['snelheid'] = df['km'] / (df['Minuten'] / 60)
    
display(Bicycle)


#display(totaal)


# totalen_totaal = totaal[totaal['Reismotieven'] == 'Totaal']
# display(totalen_totaal)
# totalen_totaal['snelheid'].plot()

dataset_names = ['Total', 'Car_driver', 'Car_passenger', 'Train', 'Bus_tram_metro', 'Bicycle', 'Walking', 'Others']
plt.figure(figsize=(10, 7))

for i in range(len(datasets)):
    df_name = f"{dataset_names[i]}_totaal"
    naam = f"{dataset_names[i]}_totaal"
    df_name = datasets[i][datasets[i]['Reismotieven'] == 'Totaal']
    df_name['snelheid'].plot(label=naam)
    plt.legend()

plt.show()



# Define the dataset names and create an empty figure
fig = go.Figure()
dataset_names = ['Total', 'Car_driver', 'Car_passenger', 'Train', 'Bus_tram_metro', 'Bicycle', 'Walking', 'Others']

# Loop through the datasets and add traces directly to the figure
for i in range(len(datasets)):
    naam = f"{dataset_names[i]}_average"
    df = datasets[i][datasets[i]['Reismotieven'] == 'Totaal']
    fig.add_trace(
        go.Scatter(
            x=df.index,  # Use the index as the x-axis (or specify the desired column)
            y=df['snelheid'],
            mode='lines',
            name=naam
        )
    )

# Show the combined plot
fig.update_layout(title='Average speed per travel mode', xaxis_title='year', yaxis_title='Speed (km/h)')
fig.show()



# Define the dataset names and create an empty figure
fig = go.Figure()
dataset_names = ['Car_driver', 'Car_passenger', 'Train', 'Bus_tram_metro', 'Bicycle', 'Walking']

# Loop through the datasets and add traces directly to the figure
for i in range(len(dataset_names)):
    naam = f"{dataset_names[i]}_average"
    df = datasets[i][datasets[i]['Reismotieven'] == 'Totaal']
    fig.add_trace(
        go.Scatter(
            x=df.index,  # Use the index as the x-axis (or specify the desired column)
            y=df['snelheid'],
            mode='lines',
            name=naam
        )
    )

# Show the combined plot
fig.update_layout(title='Average speed per travel mode', xaxis_title='year', yaxis_title='Speed (km/h)')
fig.show()



