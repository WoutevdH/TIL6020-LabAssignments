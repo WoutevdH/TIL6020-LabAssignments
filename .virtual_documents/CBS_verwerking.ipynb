import pandas as pd
import numpy as np
import matplotlib.pyplot as plt
import seaborn as sns
sns.set_theme(style="darkgrid")


path = r"CBS.csv"

data = pd.read_csv(path,sep=';',skiprows=[0, 1, 2, 3 ],header=[0, 1, 2],index_col=[0])
data = data.replace(',', '.', regex=True)

data = data.dropna(thresh=data.shape[1] - 1)
data = data.drop('Unnamed: 1_level_0',axis=1,level=0)
data.index = data.index.str.replace('*', '', regex=False)
display(data)





totaal = data.iloc[:,[0, 1, 2, 3]]
Bestuurder = data.iloc[:,[0, 4, 5, 6]]
Passagier = data.iloc[:,[0, 7, 8, 9]]
Trein = data.iloc[:,[0, 10, 11, 12]]
BTM = data.iloc[:,[0, 13, 14, 15]]
Fiets = data.iloc[:,[0, 16, 17, 18]]
Lopen = data.iloc[:,[0, 19, 20, 21]]
Overige = data.iloc[:,[0, 22, 23, 24]]

# Create a list of the datasets you want to process
datasets = [totaal, Bestuurder, Passagier, Trein, BTM, Fiets, Lopen, Overige]

# Iterate over each dataset
for df in datasets:
    # Drop the first two levels of the column index (if applicable)
    df.columns = df.columns.droplevel([0, 1])
    
    # Convert relevant columns to numeric, handling errors
    df['aantal'] = pd.to_numeric(df['aantal'], errors='coerce')
    df['km'] = pd.to_numeric(df['km'], errors='coerce')
    df['Minuten'] = pd.to_numeric(df['Minuten'], errors='coerce')
    
    # Calculate 'snelheid' (speed) by dividing distance by time in hours
    df['snelheid'] = df['km'] / (df['Minuten'] / 60)
    
print(Fiets)


totaal_totaal = []
totaal_vrijetijd = []

for i in range(len(totaal)):
    if totaal.iloc[i,0] == 'Totaal':
        totaal_totaal.append(i)
    if totaal.iloc[i,0] == 'Vrije tijd':
        totaal_vrijetijd.append(i)
display(totaal_vrijetijd)

    
totaalTotaal = totaal.iloc[totaal_totaal,:]
totaalVrijetijd = totaal.iloc[totaal_vrijetijd,:]
totaalTotaal.reset_index(inplace=True)
totaalVrijetijd.reset_index(inplace=True)

a = np.array(totaalTotaal.iloc[:,0])
b = pd.to_numeric(np.array(totaalTotaal.iloc[:,3]))
c = pd.to_numeric(np.array(totaalVrijetijd.iloc[:,3]))
sns.relplot(x=a, y=b, kind="line", aspect=2)
sns.relplot(x=a, y=c, kind="line", aspect=2)

        






