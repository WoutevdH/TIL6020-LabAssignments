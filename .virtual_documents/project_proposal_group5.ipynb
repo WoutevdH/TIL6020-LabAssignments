


























import random as rnd
names = ['Hugo', 'Jelle', 'Wouter', 'Martijn', 'Patrick']

def wieTrektEenBak(names):
    amount = len(names)
    bakkentrekker = rnd.choice(names)
    print(f'{bakkentrekker} trekt een bak!') 

wieTrektEenBak(names)



