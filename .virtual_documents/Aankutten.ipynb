import pandas as pd




path = r"C:\wouter\2024-2025\Vakken\TIL Python programming\Github\TIL6020-LabAssignments\Testdata\kilometerdata.csv"


data = pd.read_csv(path, sep=';', on_bad_lines='warn')
display(data)
