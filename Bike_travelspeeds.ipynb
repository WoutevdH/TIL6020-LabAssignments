{
 "cells": [
  {
   "cell_type": "code",
   "execution_count": 4,
   "id": "06fad610",
   "metadata": {},
   "outputs": [],
   "source": [
    "import pandas as pd\n",
    "import numpy as np\n",
    "import matplotlib.pyplot as plt\n",
    "import seaborn as sns\n",
    "import plotly.express as px\n",
    "import plotly.graph_objects as go\n",
    "from plotly.offline import iplot\n",
    "\n",
    "# import seaborn as sns\n",
    "# sns.set_theme(style=\"darkgrid\")\n"
   ]
  },
  {
   "cell_type": "code",
   "execution_count": 7,
   "id": "ee464aa3",
   "metadata": {
    "scrolled": true
   },
   "outputs": [
    {
     "data": {
      "text/html": [
       "<div>\n",
       "<style scoped>\n",
       "    .dataframe tbody tr th:only-of-type {\n",
       "        vertical-align: middle;\n",
       "    }\n",
       "\n",
       "    .dataframe tbody tr th {\n",
       "        vertical-align: top;\n",
       "    }\n",
       "\n",
       "    .dataframe thead tr th {\n",
       "        text-align: left;\n",
       "    }\n",
       "</style>\n",
       "<table border=\"1\" class=\"dataframe\">\n",
       "  <thead>\n",
       "    <tr>\n",
       "      <th></th>\n",
       "      <th>Vervoerwijzen</th>\n",
       "      <th colspan=\"3\" halign=\"left\">Totaal</th>\n",
       "      <th colspan=\"3\" halign=\"left\">Auto (bestuurder)</th>\n",
       "      <th colspan=\"3\" halign=\"left\">Auto (passagier)</th>\n",
       "      <th>...</th>\n",
       "      <th>Bus/tram/metro</th>\n",
       "      <th colspan=\"3\" halign=\"left\">Fiets</th>\n",
       "      <th colspan=\"3\" halign=\"left\">Lopen</th>\n",
       "      <th colspan=\"3\" halign=\"left\">Overige vervoerwijze</th>\n",
       "    </tr>\n",
       "    <tr>\n",
       "      <th></th>\n",
       "      <th>Onderwerp</th>\n",
       "      <th>Ritten per persoon per dag (gemiddeld)</th>\n",
       "      <th>Afgelegde afstand per rit (gemiddeld)</th>\n",
       "      <th>Reisduur per rit</th>\n",
       "      <th>Ritten per persoon per dag (gemiddeld)</th>\n",
       "      <th>Afgelegde afstand per rit (gemiddeld)</th>\n",
       "      <th>Reisduur per rit</th>\n",
       "      <th>Ritten per persoon per dag (gemiddeld)</th>\n",
       "      <th>Afgelegde afstand per rit (gemiddeld)</th>\n",
       "      <th>Reisduur per rit</th>\n",
       "      <th>...</th>\n",
       "      <th>Reisduur per rit</th>\n",
       "      <th>Ritten per persoon per dag (gemiddeld)</th>\n",
       "      <th>Afgelegde afstand per rit (gemiddeld)</th>\n",
       "      <th>Reisduur per rit</th>\n",
       "      <th>Ritten per persoon per dag (gemiddeld)</th>\n",
       "      <th>Afgelegde afstand per rit (gemiddeld)</th>\n",
       "      <th>Reisduur per rit</th>\n",
       "      <th>Ritten per persoon per dag (gemiddeld)</th>\n",
       "      <th>Afgelegde afstand per rit (gemiddeld)</th>\n",
       "      <th>Reisduur per rit</th>\n",
       "    </tr>\n",
       "    <tr>\n",
       "      <th>Perioden</th>\n",
       "      <th>Reismotieven</th>\n",
       "      <th>aantal</th>\n",
       "      <th>km</th>\n",
       "      <th>Minuten</th>\n",
       "      <th>aantal</th>\n",
       "      <th>km</th>\n",
       "      <th>Minuten</th>\n",
       "      <th>aantal</th>\n",
       "      <th>km</th>\n",
       "      <th>Minuten</th>\n",
       "      <th>...</th>\n",
       "      <th>Minuten</th>\n",
       "      <th>aantal</th>\n",
       "      <th>km</th>\n",
       "      <th>Minuten</th>\n",
       "      <th>aantal</th>\n",
       "      <th>km</th>\n",
       "      <th>Minuten</th>\n",
       "      <th>aantal</th>\n",
       "      <th>km</th>\n",
       "      <th>Minuten</th>\n",
       "    </tr>\n",
       "  </thead>\n",
       "  <tbody>\n",
       "    <tr>\n",
       "      <th>1999</th>\n",
       "      <td>Totaal</td>\n",
       "      <td>3.41</td>\n",
       "      <td>10.96</td>\n",
       "      <td>23.72</td>\n",
       "      <td>1.06</td>\n",
       "      <td>16.16</td>\n",
       "      <td>23.91</td>\n",
       "      <td>0.48</td>\n",
       "      <td>19.04</td>\n",
       "      <td>28.42</td>\n",
       "      <td>...</td>\n",
       "      <td>27.45</td>\n",
       "      <td>0.87</td>\n",
       "      <td>3.18</td>\n",
       "      <td>19.02</td>\n",
       "      <td>0.65</td>\n",
       "      <td>1.3</td>\n",
       "      <td>20.87</td>\n",
       "      <td>0.12</td>\n",
       "      <td>17.13</td>\n",
       "      <td>32.31</td>\n",
       "    </tr>\n",
       "    <tr>\n",
       "      <th>1999</th>\n",
       "      <td>Van en naar het werk</td>\n",
       "      <td>0.59</td>\n",
       "      <td>14.78</td>\n",
       "      <td>24.83</td>\n",
       "      <td>0.23</td>\n",
       "      <td>20.62</td>\n",
       "      <td>28.76</td>\n",
       "      <td>0.05</td>\n",
       "      <td>21</td>\n",
       "      <td>31.52</td>\n",
       "      <td>...</td>\n",
       "      <td>25.63</td>\n",
       "      <td>0.15</td>\n",
       "      <td>3.5</td>\n",
       "      <td>17.29</td>\n",
       "      <td>0.05</td>\n",
       "      <td>0.89</td>\n",
       "      <td>10.52</td>\n",
       "      <td>0.05</td>\n",
       "      <td>17.77</td>\n",
       "      <td>27.97</td>\n",
       "    </tr>\n",
       "    <tr>\n",
       "      <th>1999</th>\n",
       "      <td>Winkelen. boodschappen doen</td>\n",
       "      <td>0.73</td>\n",
       "      <td>4.96</td>\n",
       "      <td>14.97</td>\n",
       "      <td>0.23</td>\n",
       "      <td>6.94</td>\n",
       "      <td>14.57</td>\n",
       "      <td>0.09</td>\n",
       "      <td>9.99</td>\n",
       "      <td>19.11</td>\n",
       "      <td>...</td>\n",
       "      <td>25.27</td>\n",
       "      <td>0.2</td>\n",
       "      <td>1.84</td>\n",
       "      <td>12.41</td>\n",
       "      <td>0.16</td>\n",
       "      <td>0.89</td>\n",
       "      <td>13.36</td>\n",
       "      <td>0.01</td>\n",
       "      <td>6.61</td>\n",
       "      <td>16.83</td>\n",
       "    </tr>\n",
       "    <tr>\n",
       "      <th>1999</th>\n",
       "      <td>Onderwijs volgen. cursus. kinderopvang</td>\n",
       "      <td>0.3</td>\n",
       "      <td>6.85</td>\n",
       "      <td>17.64</td>\n",
       "      <td>0.02</td>\n",
       "      <td>21.61</td>\n",
       "      <td>25.68</td>\n",
       "      <td>0.03</td>\n",
       "      <td>8.84</td>\n",
       "      <td>17.26</td>\n",
       "      <td>...</td>\n",
       "      <td>27.43</td>\n",
       "      <td>0.12</td>\n",
       "      <td>2.81</td>\n",
       "      <td>15.61</td>\n",
       "      <td>0.08</td>\n",
       "      <td>0.71</td>\n",
       "      <td>9.97</td>\n",
       "      <td>0.01</td>\n",
       "      <td>9.96</td>\n",
       "      <td>28.17</td>\n",
       "    </tr>\n",
       "    <tr>\n",
       "      <th>1999</th>\n",
       "      <td>Vrije tijd</td>\n",
       "      <td>1.19</td>\n",
       "      <td>12.42</td>\n",
       "      <td>31.37</td>\n",
       "      <td>0.31</td>\n",
       "      <td>18.15</td>\n",
       "      <td>27.9</td>\n",
       "      <td>0.25</td>\n",
       "      <td>21.47</td>\n",
       "      <td>32.46</td>\n",
       "      <td>...</td>\n",
       "      <td>31.66</td>\n",
       "      <td>0.27</td>\n",
       "      <td>4.61</td>\n",
       "      <td>28.74</td>\n",
       "      <td>0.27</td>\n",
       "      <td>1.93</td>\n",
       "      <td>33.08</td>\n",
       "      <td>0.03</td>\n",
       "      <td>16.92</td>\n",
       "      <td>45.59</td>\n",
       "    </tr>\n",
       "    <tr>\n",
       "      <th>...</th>\n",
       "      <td>...</td>\n",
       "      <td>...</td>\n",
       "      <td>...</td>\n",
       "      <td>...</td>\n",
       "      <td>...</td>\n",
       "      <td>...</td>\n",
       "      <td>...</td>\n",
       "      <td>...</td>\n",
       "      <td>...</td>\n",
       "      <td>...</td>\n",
       "      <td>...</td>\n",
       "      <td>...</td>\n",
       "      <td>...</td>\n",
       "      <td>...</td>\n",
       "      <td>...</td>\n",
       "      <td>...</td>\n",
       "      <td>...</td>\n",
       "      <td>...</td>\n",
       "      <td>...</td>\n",
       "      <td>...</td>\n",
       "      <td>...</td>\n",
       "    </tr>\n",
       "    <tr>\n",
       "      <th>2019</th>\n",
       "      <td>Van en naar het werk</td>\n",
       "      <td>0.61</td>\n",
       "      <td>16.13</td>\n",
       "      <td>24.83</td>\n",
       "      <td>0.25</td>\n",
       "      <td>24.99</td>\n",
       "      <td>30.38</td>\n",
       "      <td>0.02</td>\n",
       "      <td>21.43</td>\n",
       "      <td>28.94</td>\n",
       "      <td>...</td>\n",
       "      <td>24.49</td>\n",
       "      <td>0.16</td>\n",
       "      <td>4.04</td>\n",
       "      <td>18.03</td>\n",
       "      <td>0.07</td>\n",
       "      <td>0.79</td>\n",
       "      <td>9.69</td>\n",
       "      <td>0.04</td>\n",
       "      <td>21.54</td>\n",
       "      <td>29.36</td>\n",
       "    </tr>\n",
       "    <tr>\n",
       "      <th>2019</th>\n",
       "      <td>Winkelen. boodschappen doen</td>\n",
       "      <td>0.57</td>\n",
       "      <td>5.36</td>\n",
       "      <td>14.35</td>\n",
       "      <td>0.2</td>\n",
       "      <td>7.78</td>\n",
       "      <td>14.86</td>\n",
       "      <td>0.06</td>\n",
       "      <td>11.65</td>\n",
       "      <td>19.34</td>\n",
       "      <td>...</td>\n",
       "      <td>23.8</td>\n",
       "      <td>0.16</td>\n",
       "      <td>2.06</td>\n",
       "      <td>11.91</td>\n",
       "      <td>0.12</td>\n",
       "      <td>0.8</td>\n",
       "      <td>11.59</td>\n",
       "      <td>0.01</td>\n",
       "      <td>5.61</td>\n",
       "      <td>15.99</td>\n",
       "    </tr>\n",
       "    <tr>\n",
       "      <th>2019</th>\n",
       "      <td>Onderwijs volgen. cursus. kinderopvang</td>\n",
       "      <td>0.28</td>\n",
       "      <td>7.28</td>\n",
       "      <td>18.58</td>\n",
       "      <td>0.01</td>\n",
       "      <td>26.09</td>\n",
       "      <td>33.31</td>\n",
       "      <td>0.02</td>\n",
       "      <td>8.11</td>\n",
       "      <td>16.54</td>\n",
       "      <td>...</td>\n",
       "      <td>26.89</td>\n",
       "      <td>0.13</td>\n",
       "      <td>3.26</td>\n",
       "      <td>16.69</td>\n",
       "      <td>0.06</td>\n",
       "      <td>0.67</td>\n",
       "      <td>8.39</td>\n",
       "      <td>0.01</td>\n",
       "      <td>11.64</td>\n",
       "      <td>27.59</td>\n",
       "    </tr>\n",
       "    <tr>\n",
       "      <th>2019</th>\n",
       "      <td>Vrije tijd</td>\n",
       "      <td>1.05</td>\n",
       "      <td>13.5</td>\n",
       "      <td>32.59</td>\n",
       "      <td>0.26</td>\n",
       "      <td>22.07</td>\n",
       "      <td>29.47</td>\n",
       "      <td>0.18</td>\n",
       "      <td>25.03</td>\n",
       "      <td>32.44</td>\n",
       "      <td>...</td>\n",
       "      <td>28.53</td>\n",
       "      <td>0.27</td>\n",
       "      <td>5.12</td>\n",
       "      <td>31.04</td>\n",
       "      <td>0.27</td>\n",
       "      <td>2.31</td>\n",
       "      <td>33.87</td>\n",
       "      <td>0.03</td>\n",
       "      <td>19.79</td>\n",
       "      <td>45.64</td>\n",
       "    </tr>\n",
       "    <tr>\n",
       "      <th>2019</th>\n",
       "      <td>Overige reismotieven</td>\n",
       "      <td>0.45</td>\n",
       "      <td>11.87</td>\n",
       "      <td>19.57</td>\n",
       "      <td>0.21</td>\n",
       "      <td>16.31</td>\n",
       "      <td>22.08</td>\n",
       "      <td>0.05</td>\n",
       "      <td>18.76</td>\n",
       "      <td>25.47</td>\n",
       "      <td>...</td>\n",
       "      <td>25.18</td>\n",
       "      <td>0.1</td>\n",
       "      <td>2.29</td>\n",
       "      <td>12.67</td>\n",
       "      <td>0.06</td>\n",
       "      <td>0.77</td>\n",
       "      <td>10.05</td>\n",
       "      <td>0.01</td>\n",
       "      <td>17.78</td>\n",
       "      <td>29.11</td>\n",
       "    </tr>\n",
       "  </tbody>\n",
       "</table>\n",
       "<p>126 rows × 25 columns</p>\n",
       "</div>"
      ],
      "text/plain": [
       "                                   Vervoerwijzen  \\\n",
       "                                       Onderwerp   \n",
       "Perioden                            Reismotieven   \n",
       "1999                                      Totaal   \n",
       "1999                        Van en naar het werk   \n",
       "1999                 Winkelen. boodschappen doen   \n",
       "1999      Onderwijs volgen. cursus. kinderopvang   \n",
       "1999                                  Vrije tijd   \n",
       "...                                          ...   \n",
       "2019                        Van en naar het werk   \n",
       "2019                 Winkelen. boodschappen doen   \n",
       "2019      Onderwijs volgen. cursus. kinderopvang   \n",
       "2019                                  Vrije tijd   \n",
       "2019                        Overige reismotieven   \n",
       "\n",
       "                                         Totaal  \\\n",
       "         Ritten per persoon per dag (gemiddeld)   \n",
       "Perioden                                 aantal   \n",
       "1999                                       3.41   \n",
       "1999                                       0.59   \n",
       "1999                                       0.73   \n",
       "1999                                        0.3   \n",
       "1999                                       1.19   \n",
       "...                                         ...   \n",
       "2019                                       0.61   \n",
       "2019                                       0.57   \n",
       "2019                                       0.28   \n",
       "2019                                       1.05   \n",
       "2019                                       0.45   \n",
       "\n",
       "                                                                 \\\n",
       "         Afgelegde afstand per rit (gemiddeld) Reisduur per rit   \n",
       "Perioden                                    km          Minuten   \n",
       "1999                                     10.96            23.72   \n",
       "1999                                     14.78            24.83   \n",
       "1999                                      4.96            14.97   \n",
       "1999                                      6.85            17.64   \n",
       "1999                                     12.42            31.37   \n",
       "...                                        ...              ...   \n",
       "2019                                     16.13            24.83   \n",
       "2019                                      5.36            14.35   \n",
       "2019                                      7.28            18.58   \n",
       "2019                                      13.5            32.59   \n",
       "2019                                     11.87            19.57   \n",
       "\n",
       "                              Auto (bestuurder)  \\\n",
       "         Ritten per persoon per dag (gemiddeld)   \n",
       "Perioden                                 aantal   \n",
       "1999                                       1.06   \n",
       "1999                                       0.23   \n",
       "1999                                       0.23   \n",
       "1999                                       0.02   \n",
       "1999                                       0.31   \n",
       "...                                         ...   \n",
       "2019                                       0.25   \n",
       "2019                                        0.2   \n",
       "2019                                       0.01   \n",
       "2019                                       0.26   \n",
       "2019                                       0.21   \n",
       "\n",
       "                                                                 \\\n",
       "         Afgelegde afstand per rit (gemiddeld) Reisduur per rit   \n",
       "Perioden                                    km          Minuten   \n",
       "1999                                     16.16            23.91   \n",
       "1999                                     20.62            28.76   \n",
       "1999                                      6.94            14.57   \n",
       "1999                                     21.61            25.68   \n",
       "1999                                     18.15             27.9   \n",
       "...                                        ...              ...   \n",
       "2019                                     24.99            30.38   \n",
       "2019                                      7.78            14.86   \n",
       "2019                                     26.09            33.31   \n",
       "2019                                     22.07            29.47   \n",
       "2019                                     16.31            22.08   \n",
       "\n",
       "                               Auto (passagier)  \\\n",
       "         Ritten per persoon per dag (gemiddeld)   \n",
       "Perioden                                 aantal   \n",
       "1999                                       0.48   \n",
       "1999                                       0.05   \n",
       "1999                                       0.09   \n",
       "1999                                       0.03   \n",
       "1999                                       0.25   \n",
       "...                                         ...   \n",
       "2019                                       0.02   \n",
       "2019                                       0.06   \n",
       "2019                                       0.02   \n",
       "2019                                       0.18   \n",
       "2019                                       0.05   \n",
       "\n",
       "                                                                 ...  \\\n",
       "         Afgelegde afstand per rit (gemiddeld) Reisduur per rit  ...   \n",
       "Perioden                                    km          Minuten  ...   \n",
       "1999                                     19.04            28.42  ...   \n",
       "1999                                        21            31.52  ...   \n",
       "1999                                      9.99            19.11  ...   \n",
       "1999                                      8.84            17.26  ...   \n",
       "1999                                     21.47            32.46  ...   \n",
       "...                                        ...              ...  ...   \n",
       "2019                                     21.43            28.94  ...   \n",
       "2019                                     11.65            19.34  ...   \n",
       "2019                                      8.11            16.54  ...   \n",
       "2019                                     25.03            32.44  ...   \n",
       "2019                                     18.76            25.47  ...   \n",
       "\n",
       "           Bus/tram/metro                                  Fiets  \\\n",
       "         Reisduur per rit Ritten per persoon per dag (gemiddeld)   \n",
       "Perioden          Minuten                                 aantal   \n",
       "1999                27.45                                   0.87   \n",
       "1999                25.63                                   0.15   \n",
       "1999                25.27                                    0.2   \n",
       "1999                27.43                                   0.12   \n",
       "1999                31.66                                   0.27   \n",
       "...                   ...                                    ...   \n",
       "2019                24.49                                   0.16   \n",
       "2019                 23.8                                   0.16   \n",
       "2019                26.89                                   0.13   \n",
       "2019                28.53                                   0.27   \n",
       "2019                25.18                                    0.1   \n",
       "\n",
       "                                                                 \\\n",
       "         Afgelegde afstand per rit (gemiddeld) Reisduur per rit   \n",
       "Perioden                                    km          Minuten   \n",
       "1999                                      3.18            19.02   \n",
       "1999                                       3.5            17.29   \n",
       "1999                                      1.84            12.41   \n",
       "1999                                      2.81            15.61   \n",
       "1999                                      4.61            28.74   \n",
       "...                                        ...              ...   \n",
       "2019                                      4.04            18.03   \n",
       "2019                                      2.06            11.91   \n",
       "2019                                      3.26            16.69   \n",
       "2019                                      5.12            31.04   \n",
       "2019                                      2.29            12.67   \n",
       "\n",
       "                                          Lopen  \\\n",
       "         Ritten per persoon per dag (gemiddeld)   \n",
       "Perioden                                 aantal   \n",
       "1999                                       0.65   \n",
       "1999                                       0.05   \n",
       "1999                                       0.16   \n",
       "1999                                       0.08   \n",
       "1999                                       0.27   \n",
       "...                                         ...   \n",
       "2019                                       0.07   \n",
       "2019                                       0.12   \n",
       "2019                                       0.06   \n",
       "2019                                       0.27   \n",
       "2019                                       0.06   \n",
       "\n",
       "                                                                 \\\n",
       "         Afgelegde afstand per rit (gemiddeld) Reisduur per rit   \n",
       "Perioden                                    km          Minuten   \n",
       "1999                                       1.3            20.87   \n",
       "1999                                      0.89            10.52   \n",
       "1999                                      0.89            13.36   \n",
       "1999                                      0.71             9.97   \n",
       "1999                                      1.93            33.08   \n",
       "...                                        ...              ...   \n",
       "2019                                      0.79             9.69   \n",
       "2019                                       0.8            11.59   \n",
       "2019                                      0.67             8.39   \n",
       "2019                                      2.31            33.87   \n",
       "2019                                      0.77            10.05   \n",
       "\n",
       "                           Overige vervoerwijze  \\\n",
       "         Ritten per persoon per dag (gemiddeld)   \n",
       "Perioden                                 aantal   \n",
       "1999                                       0.12   \n",
       "1999                                       0.05   \n",
       "1999                                       0.01   \n",
       "1999                                       0.01   \n",
       "1999                                       0.03   \n",
       "...                                         ...   \n",
       "2019                                       0.04   \n",
       "2019                                       0.01   \n",
       "2019                                       0.01   \n",
       "2019                                       0.03   \n",
       "2019                                       0.01   \n",
       "\n",
       "                                                                 \n",
       "         Afgelegde afstand per rit (gemiddeld) Reisduur per rit  \n",
       "Perioden                                    km          Minuten  \n",
       "1999                                     17.13            32.31  \n",
       "1999                                     17.77            27.97  \n",
       "1999                                      6.61            16.83  \n",
       "1999                                      9.96            28.17  \n",
       "1999                                     16.92            45.59  \n",
       "...                                        ...              ...  \n",
       "2019                                     21.54            29.36  \n",
       "2019                                      5.61            15.99  \n",
       "2019                                     11.64            27.59  \n",
       "2019                                     19.79            45.64  \n",
       "2019                                     17.78            29.11  \n",
       "\n",
       "[126 rows x 25 columns]"
      ]
     },
     "metadata": {},
     "output_type": "display_data"
    }
   ],
   "source": [
    "path = r\"CBS.csv\"\n",
    "\n",
    "data = pd.read_csv(path,sep=';',skiprows=[0, 1, 2, 3 ],header=[0, 1, 2],index_col=[0])\n",
    "data = data.replace(',', '.', regex=True)\n",
    "\n",
    "data = data.dropna(thresh=data.shape[1] - 1)\n",
    "data = data.drop('Unnamed: 1_level_0',axis=1,level=0)\n",
    "data.index = data.index.str.replace('*', '', regex=False)\n",
    "display(data)\n",
    "\n"
   ]
  },
  {
   "cell_type": "code",
   "execution_count": 8,
   "id": "009d5ed6",
   "metadata": {},
   "outputs": [
    {
     "name": "stderr",
     "output_type": "stream",
     "text": [
      "C:\\Users\\hugov\\AppData\\Local\\Temp\\ipykernel_32660\\1141217162.py:19: SettingWithCopyWarning:\n",
      "\n",
      "\n",
      "A value is trying to be set on a copy of a slice from a DataFrame.\n",
      "Try using .loc[row_indexer,col_indexer] = value instead\n",
      "\n",
      "See the caveats in the documentation: https://pandas.pydata.org/pandas-docs/stable/user_guide/indexing.html#returning-a-view-versus-a-copy\n",
      "\n",
      "C:\\Users\\hugov\\AppData\\Local\\Temp\\ipykernel_32660\\1141217162.py:20: SettingWithCopyWarning:\n",
      "\n",
      "\n",
      "A value is trying to be set on a copy of a slice from a DataFrame.\n",
      "Try using .loc[row_indexer,col_indexer] = value instead\n",
      "\n",
      "See the caveats in the documentation: https://pandas.pydata.org/pandas-docs/stable/user_guide/indexing.html#returning-a-view-versus-a-copy\n",
      "\n",
      "C:\\Users\\hugov\\AppData\\Local\\Temp\\ipykernel_32660\\1141217162.py:21: SettingWithCopyWarning:\n",
      "\n",
      "\n",
      "A value is trying to be set on a copy of a slice from a DataFrame.\n",
      "Try using .loc[row_indexer,col_indexer] = value instead\n",
      "\n",
      "See the caveats in the documentation: https://pandas.pydata.org/pandas-docs/stable/user_guide/indexing.html#returning-a-view-versus-a-copy\n",
      "\n",
      "C:\\Users\\hugov\\AppData\\Local\\Temp\\ipykernel_32660\\1141217162.py:24: SettingWithCopyWarning:\n",
      "\n",
      "\n",
      "A value is trying to be set on a copy of a slice from a DataFrame.\n",
      "Try using .loc[row_indexer,col_indexer] = value instead\n",
      "\n",
      "See the caveats in the documentation: https://pandas.pydata.org/pandas-docs/stable/user_guide/indexing.html#returning-a-view-versus-a-copy\n",
      "\n",
      "C:\\Users\\hugov\\AppData\\Local\\Temp\\ipykernel_32660\\1141217162.py:19: SettingWithCopyWarning:\n",
      "\n",
      "\n",
      "A value is trying to be set on a copy of a slice from a DataFrame.\n",
      "Try using .loc[row_indexer,col_indexer] = value instead\n",
      "\n",
      "See the caveats in the documentation: https://pandas.pydata.org/pandas-docs/stable/user_guide/indexing.html#returning-a-view-versus-a-copy\n",
      "\n",
      "C:\\Users\\hugov\\AppData\\Local\\Temp\\ipykernel_32660\\1141217162.py:20: SettingWithCopyWarning:\n",
      "\n",
      "\n",
      "A value is trying to be set on a copy of a slice from a DataFrame.\n",
      "Try using .loc[row_indexer,col_indexer] = value instead\n",
      "\n",
      "See the caveats in the documentation: https://pandas.pydata.org/pandas-docs/stable/user_guide/indexing.html#returning-a-view-versus-a-copy\n",
      "\n",
      "C:\\Users\\hugov\\AppData\\Local\\Temp\\ipykernel_32660\\1141217162.py:21: SettingWithCopyWarning:\n",
      "\n",
      "\n",
      "A value is trying to be set on a copy of a slice from a DataFrame.\n",
      "Try using .loc[row_indexer,col_indexer] = value instead\n",
      "\n",
      "See the caveats in the documentation: https://pandas.pydata.org/pandas-docs/stable/user_guide/indexing.html#returning-a-view-versus-a-copy\n",
      "\n",
      "C:\\Users\\hugov\\AppData\\Local\\Temp\\ipykernel_32660\\1141217162.py:24: SettingWithCopyWarning:\n",
      "\n",
      "\n",
      "A value is trying to be set on a copy of a slice from a DataFrame.\n",
      "Try using .loc[row_indexer,col_indexer] = value instead\n",
      "\n",
      "See the caveats in the documentation: https://pandas.pydata.org/pandas-docs/stable/user_guide/indexing.html#returning-a-view-versus-a-copy\n",
      "\n",
      "C:\\Users\\hugov\\AppData\\Local\\Temp\\ipykernel_32660\\1141217162.py:19: SettingWithCopyWarning:\n",
      "\n",
      "\n",
      "A value is trying to be set on a copy of a slice from a DataFrame.\n",
      "Try using .loc[row_indexer,col_indexer] = value instead\n",
      "\n",
      "See the caveats in the documentation: https://pandas.pydata.org/pandas-docs/stable/user_guide/indexing.html#returning-a-view-versus-a-copy\n",
      "\n",
      "C:\\Users\\hugov\\AppData\\Local\\Temp\\ipykernel_32660\\1141217162.py:20: SettingWithCopyWarning:\n",
      "\n",
      "\n",
      "A value is trying to be set on a copy of a slice from a DataFrame.\n",
      "Try using .loc[row_indexer,col_indexer] = value instead\n",
      "\n",
      "See the caveats in the documentation: https://pandas.pydata.org/pandas-docs/stable/user_guide/indexing.html#returning-a-view-versus-a-copy\n",
      "\n",
      "C:\\Users\\hugov\\AppData\\Local\\Temp\\ipykernel_32660\\1141217162.py:21: SettingWithCopyWarning:\n",
      "\n",
      "\n",
      "A value is trying to be set on a copy of a slice from a DataFrame.\n",
      "Try using .loc[row_indexer,col_indexer] = value instead\n",
      "\n",
      "See the caveats in the documentation: https://pandas.pydata.org/pandas-docs/stable/user_guide/indexing.html#returning-a-view-versus-a-copy\n",
      "\n",
      "C:\\Users\\hugov\\AppData\\Local\\Temp\\ipykernel_32660\\1141217162.py:24: SettingWithCopyWarning:\n",
      "\n",
      "\n",
      "A value is trying to be set on a copy of a slice from a DataFrame.\n",
      "Try using .loc[row_indexer,col_indexer] = value instead\n",
      "\n",
      "See the caveats in the documentation: https://pandas.pydata.org/pandas-docs/stable/user_guide/indexing.html#returning-a-view-versus-a-copy\n",
      "\n",
      "C:\\Users\\hugov\\AppData\\Local\\Temp\\ipykernel_32660\\1141217162.py:19: SettingWithCopyWarning:\n",
      "\n",
      "\n",
      "A value is trying to be set on a copy of a slice from a DataFrame.\n",
      "Try using .loc[row_indexer,col_indexer] = value instead\n",
      "\n",
      "See the caveats in the documentation: https://pandas.pydata.org/pandas-docs/stable/user_guide/indexing.html#returning-a-view-versus-a-copy\n",
      "\n",
      "C:\\Users\\hugov\\AppData\\Local\\Temp\\ipykernel_32660\\1141217162.py:20: SettingWithCopyWarning:\n",
      "\n",
      "\n",
      "A value is trying to be set on a copy of a slice from a DataFrame.\n",
      "Try using .loc[row_indexer,col_indexer] = value instead\n",
      "\n",
      "See the caveats in the documentation: https://pandas.pydata.org/pandas-docs/stable/user_guide/indexing.html#returning-a-view-versus-a-copy\n",
      "\n",
      "C:\\Users\\hugov\\AppData\\Local\\Temp\\ipykernel_32660\\1141217162.py:21: SettingWithCopyWarning:\n",
      "\n",
      "\n",
      "A value is trying to be set on a copy of a slice from a DataFrame.\n",
      "Try using .loc[row_indexer,col_indexer] = value instead\n",
      "\n",
      "See the caveats in the documentation: https://pandas.pydata.org/pandas-docs/stable/user_guide/indexing.html#returning-a-view-versus-a-copy\n",
      "\n",
      "C:\\Users\\hugov\\AppData\\Local\\Temp\\ipykernel_32660\\1141217162.py:24: SettingWithCopyWarning:\n",
      "\n",
      "\n",
      "A value is trying to be set on a copy of a slice from a DataFrame.\n",
      "Try using .loc[row_indexer,col_indexer] = value instead\n",
      "\n",
      "See the caveats in the documentation: https://pandas.pydata.org/pandas-docs/stable/user_guide/indexing.html#returning-a-view-versus-a-copy\n",
      "\n",
      "C:\\Users\\hugov\\AppData\\Local\\Temp\\ipykernel_32660\\1141217162.py:19: SettingWithCopyWarning:\n",
      "\n",
      "\n",
      "A value is trying to be set on a copy of a slice from a DataFrame.\n",
      "Try using .loc[row_indexer,col_indexer] = value instead\n",
      "\n",
      "See the caveats in the documentation: https://pandas.pydata.org/pandas-docs/stable/user_guide/indexing.html#returning-a-view-versus-a-copy\n",
      "\n",
      "C:\\Users\\hugov\\AppData\\Local\\Temp\\ipykernel_32660\\1141217162.py:20: SettingWithCopyWarning:\n",
      "\n",
      "\n",
      "A value is trying to be set on a copy of a slice from a DataFrame.\n",
      "Try using .loc[row_indexer,col_indexer] = value instead\n",
      "\n",
      "See the caveats in the documentation: https://pandas.pydata.org/pandas-docs/stable/user_guide/indexing.html#returning-a-view-versus-a-copy\n",
      "\n",
      "C:\\Users\\hugov\\AppData\\Local\\Temp\\ipykernel_32660\\1141217162.py:21: SettingWithCopyWarning:\n",
      "\n",
      "\n",
      "A value is trying to be set on a copy of a slice from a DataFrame.\n",
      "Try using .loc[row_indexer,col_indexer] = value instead\n",
      "\n",
      "See the caveats in the documentation: https://pandas.pydata.org/pandas-docs/stable/user_guide/indexing.html#returning-a-view-versus-a-copy\n",
      "\n",
      "C:\\Users\\hugov\\AppData\\Local\\Temp\\ipykernel_32660\\1141217162.py:24: SettingWithCopyWarning:\n",
      "\n",
      "\n",
      "A value is trying to be set on a copy of a slice from a DataFrame.\n",
      "Try using .loc[row_indexer,col_indexer] = value instead\n",
      "\n",
      "See the caveats in the documentation: https://pandas.pydata.org/pandas-docs/stable/user_guide/indexing.html#returning-a-view-versus-a-copy\n",
      "\n",
      "C:\\Users\\hugov\\AppData\\Local\\Temp\\ipykernel_32660\\1141217162.py:19: SettingWithCopyWarning:\n",
      "\n",
      "\n",
      "A value is trying to be set on a copy of a slice from a DataFrame.\n",
      "Try using .loc[row_indexer,col_indexer] = value instead\n",
      "\n",
      "See the caveats in the documentation: https://pandas.pydata.org/pandas-docs/stable/user_guide/indexing.html#returning-a-view-versus-a-copy\n",
      "\n",
      "C:\\Users\\hugov\\AppData\\Local\\Temp\\ipykernel_32660\\1141217162.py:20: SettingWithCopyWarning:\n",
      "\n",
      "\n",
      "A value is trying to be set on a copy of a slice from a DataFrame.\n",
      "Try using .loc[row_indexer,col_indexer] = value instead\n",
      "\n",
      "See the caveats in the documentation: https://pandas.pydata.org/pandas-docs/stable/user_guide/indexing.html#returning-a-view-versus-a-copy\n",
      "\n",
      "C:\\Users\\hugov\\AppData\\Local\\Temp\\ipykernel_32660\\1141217162.py:21: SettingWithCopyWarning:\n",
      "\n",
      "\n",
      "A value is trying to be set on a copy of a slice from a DataFrame.\n",
      "Try using .loc[row_indexer,col_indexer] = value instead\n",
      "\n",
      "See the caveats in the documentation: https://pandas.pydata.org/pandas-docs/stable/user_guide/indexing.html#returning-a-view-versus-a-copy\n",
      "\n",
      "C:\\Users\\hugov\\AppData\\Local\\Temp\\ipykernel_32660\\1141217162.py:24: SettingWithCopyWarning:\n",
      "\n",
      "\n",
      "A value is trying to be set on a copy of a slice from a DataFrame.\n",
      "Try using .loc[row_indexer,col_indexer] = value instead\n",
      "\n",
      "See the caveats in the documentation: https://pandas.pydata.org/pandas-docs/stable/user_guide/indexing.html#returning-a-view-versus-a-copy\n",
      "\n",
      "C:\\Users\\hugov\\AppData\\Local\\Temp\\ipykernel_32660\\1141217162.py:19: SettingWithCopyWarning:\n",
      "\n",
      "\n",
      "A value is trying to be set on a copy of a slice from a DataFrame.\n",
      "Try using .loc[row_indexer,col_indexer] = value instead\n",
      "\n",
      "See the caveats in the documentation: https://pandas.pydata.org/pandas-docs/stable/user_guide/indexing.html#returning-a-view-versus-a-copy\n",
      "\n",
      "C:\\Users\\hugov\\AppData\\Local\\Temp\\ipykernel_32660\\1141217162.py:20: SettingWithCopyWarning:\n",
      "\n",
      "\n",
      "A value is trying to be set on a copy of a slice from a DataFrame.\n",
      "Try using .loc[row_indexer,col_indexer] = value instead\n",
      "\n",
      "See the caveats in the documentation: https://pandas.pydata.org/pandas-docs/stable/user_guide/indexing.html#returning-a-view-versus-a-copy\n",
      "\n",
      "C:\\Users\\hugov\\AppData\\Local\\Temp\\ipykernel_32660\\1141217162.py:21: SettingWithCopyWarning:\n",
      "\n",
      "\n",
      "A value is trying to be set on a copy of a slice from a DataFrame.\n",
      "Try using .loc[row_indexer,col_indexer] = value instead\n",
      "\n",
      "See the caveats in the documentation: https://pandas.pydata.org/pandas-docs/stable/user_guide/indexing.html#returning-a-view-versus-a-copy\n",
      "\n",
      "C:\\Users\\hugov\\AppData\\Local\\Temp\\ipykernel_32660\\1141217162.py:24: SettingWithCopyWarning:\n",
      "\n",
      "\n",
      "A value is trying to be set on a copy of a slice from a DataFrame.\n",
      "Try using .loc[row_indexer,col_indexer] = value instead\n",
      "\n",
      "See the caveats in the documentation: https://pandas.pydata.org/pandas-docs/stable/user_guide/indexing.html#returning-a-view-versus-a-copy\n",
      "\n",
      "C:\\Users\\hugov\\AppData\\Local\\Temp\\ipykernel_32660\\1141217162.py:19: SettingWithCopyWarning:\n",
      "\n",
      "\n",
      "A value is trying to be set on a copy of a slice from a DataFrame.\n",
      "Try using .loc[row_indexer,col_indexer] = value instead\n",
      "\n",
      "See the caveats in the documentation: https://pandas.pydata.org/pandas-docs/stable/user_guide/indexing.html#returning-a-view-versus-a-copy\n",
      "\n",
      "C:\\Users\\hugov\\AppData\\Local\\Temp\\ipykernel_32660\\1141217162.py:20: SettingWithCopyWarning:\n",
      "\n",
      "\n",
      "A value is trying to be set on a copy of a slice from a DataFrame.\n",
      "Try using .loc[row_indexer,col_indexer] = value instead\n",
      "\n",
      "See the caveats in the documentation: https://pandas.pydata.org/pandas-docs/stable/user_guide/indexing.html#returning-a-view-versus-a-copy\n",
      "\n",
      "C:\\Users\\hugov\\AppData\\Local\\Temp\\ipykernel_32660\\1141217162.py:21: SettingWithCopyWarning:\n",
      "\n",
      "\n",
      "A value is trying to be set on a copy of a slice from a DataFrame.\n",
      "Try using .loc[row_indexer,col_indexer] = value instead\n",
      "\n",
      "See the caveats in the documentation: https://pandas.pydata.org/pandas-docs/stable/user_guide/indexing.html#returning-a-view-versus-a-copy\n",
      "\n",
      "C:\\Users\\hugov\\AppData\\Local\\Temp\\ipykernel_32660\\1141217162.py:24: SettingWithCopyWarning:\n",
      "\n",
      "\n",
      "A value is trying to be set on a copy of a slice from a DataFrame.\n",
      "Try using .loc[row_indexer,col_indexer] = value instead\n",
      "\n",
      "See the caveats in the documentation: https://pandas.pydata.org/pandas-docs/stable/user_guide/indexing.html#returning-a-view-versus-a-copy\n",
      "\n"
     ]
    }
   ],
   "source": [
    "\n",
    "totaal = data.iloc[:,[0, 1, 2, 3]]\n",
    "Bestuurder = data.iloc[:,[0, 4, 5, 6]]\n",
    "Passagier = data.iloc[:,[0, 7, 8, 9]]\n",
    "Trein = data.iloc[:,[0, 10, 11, 12]]\n",
    "BTM = data.iloc[:,[0, 13, 14, 15]]\n",
    "Fiets = data.iloc[:,[0, 16, 17, 18]]\n",
    "Lopen = data.iloc[:,[0, 19, 20, 21]]\n",
    "Overige = data.iloc[:,[0, 22, 23, 24]]\n",
    "\n",
    "# Create a list of the datasets you want to process\n",
    "datasets = [totaal, Bestuurder, Passagier, Trein, BTM, Fiets, Lopen, Overige]\n",
    "\n",
    "# Iterate over each dataset\n",
    "for df in datasets:\n",
    "    # Drop the first two levels of the column index (if applicable)\n",
    "    df.columns = df.columns.droplevel([0, 1])\n",
    "    \n",
    "    # Convert relevant columns to numeric, handling errors\n",
    "    df['aantal'] = pd.to_numeric(df['aantal'], errors='coerce')\n",
    "    df['km'] = pd.to_numeric(df['km'], errors='coerce')\n",
    "    df['Minuten'] = pd.to_numeric(df['Minuten'], errors='coerce')\n",
    "    \n",
    "    # Calculate 'snelheid' (speed) by dividing distance by time in hours\n",
    "    df['snelheid'] = df['km'] / (df['Minuten'] / 60)\n"
   ]
  },
  {
   "cell_type": "code",
   "execution_count": 44,
   "id": "81c242cd",
   "metadata": {},
   "outputs": [
    {
     "data": {
      "text/html": [
       "<div>\n",
       "<style scoped>\n",
       "    .dataframe tbody tr th:only-of-type {\n",
       "        vertical-align: middle;\n",
       "    }\n",
       "\n",
       "    .dataframe tbody tr th {\n",
       "        vertical-align: top;\n",
       "    }\n",
       "\n",
       "    .dataframe thead th {\n",
       "        text-align: right;\n",
       "    }\n",
       "</style>\n",
       "<table border=\"1\" class=\"dataframe\">\n",
       "  <thead>\n",
       "    <tr style=\"text-align: right;\">\n",
       "      <th></th>\n",
       "      <th>eBikeSales</th>\n",
       "      <th>cumsum</th>\n",
       "    </tr>\n",
       "    <tr>\n",
       "      <th>Year</th>\n",
       "      <th></th>\n",
       "      <th></th>\n",
       "    </tr>\n",
       "  </thead>\n",
       "  <tbody>\n",
       "    <tr>\n",
       "      <th>2004</th>\n",
       "      <td>25</td>\n",
       "      <td>25</td>\n",
       "    </tr>\n",
       "    <tr>\n",
       "      <th>2005</th>\n",
       "      <td>37</td>\n",
       "      <td>62</td>\n",
       "    </tr>\n",
       "    <tr>\n",
       "      <th>2006</th>\n",
       "      <td>40</td>\n",
       "      <td>102</td>\n",
       "    </tr>\n",
       "    <tr>\n",
       "      <th>2007</th>\n",
       "      <td>84</td>\n",
       "      <td>186</td>\n",
       "    </tr>\n",
       "    <tr>\n",
       "      <th>2008</th>\n",
       "      <td>134</td>\n",
       "      <td>320</td>\n",
       "    </tr>\n",
       "    <tr>\n",
       "      <th>2009</th>\n",
       "      <td>154</td>\n",
       "      <td>474</td>\n",
       "    </tr>\n",
       "    <tr>\n",
       "      <th>2010</th>\n",
       "      <td>170</td>\n",
       "      <td>644</td>\n",
       "    </tr>\n",
       "    <tr>\n",
       "      <th>2011</th>\n",
       "      <td>180</td>\n",
       "      <td>824</td>\n",
       "    </tr>\n",
       "    <tr>\n",
       "      <th>2012</th>\n",
       "      <td>175</td>\n",
       "      <td>999</td>\n",
       "    </tr>\n",
       "    <tr>\n",
       "      <th>2013</th>\n",
       "      <td>192</td>\n",
       "      <td>1,191</td>\n",
       "    </tr>\n",
       "    <tr>\n",
       "      <th>2014</th>\n",
       "      <td>223</td>\n",
       "      <td>1,414</td>\n",
       "    </tr>\n",
       "    <tr>\n",
       "      <th>2015</th>\n",
       "      <td>276</td>\n",
       "      <td>1,690</td>\n",
       "    </tr>\n",
       "    <tr>\n",
       "      <th>2016</th>\n",
       "      <td>269</td>\n",
       "      <td>1,959</td>\n",
       "    </tr>\n",
       "    <tr>\n",
       "      <th>2017</th>\n",
       "      <td>294</td>\n",
       "      <td>2,253</td>\n",
       "    </tr>\n",
       "    <tr>\n",
       "      <th>2018</th>\n",
       "      <td>409</td>\n",
       "      <td>2,662</td>\n",
       "    </tr>\n",
       "    <tr>\n",
       "      <th>2019</th>\n",
       "      <td>420</td>\n",
       "      <td>3,082</td>\n",
       "    </tr>\n",
       "    <tr>\n",
       "      <th>2020</th>\n",
       "      <td>547</td>\n",
       "      <td>3,629</td>\n",
       "    </tr>\n",
       "    <tr>\n",
       "      <th>2021</th>\n",
       "      <td>478</td>\n",
       "      <td>4,107</td>\n",
       "    </tr>\n",
       "    <tr>\n",
       "      <th>2022</th>\n",
       "      <td>486</td>\n",
       "      <td>4,593</td>\n",
       "    </tr>\n",
       "  </tbody>\n",
       "</table>\n",
       "</div>"
      ],
      "text/plain": [
       "      eBikeSales cumsum\n",
       "Year                   \n",
       "2004          25     25\n",
       "2005          37     62\n",
       "2006          40    102\n",
       "2007          84    186\n",
       "2008         134    320\n",
       "2009         154    474\n",
       "2010         170    644\n",
       "2011         180    824\n",
       "2012         175    999\n",
       "2013         192  1,191\n",
       "2014         223  1,414\n",
       "2015         276  1,690\n",
       "2016         269  1,959\n",
       "2017         294  2,253\n",
       "2018         409  2,662\n",
       "2019         420  3,082\n",
       "2020         547  3,629\n",
       "2021         478  4,107\n",
       "2022         486  4,593"
      ]
     },
     "metadata": {},
     "output_type": "display_data"
    }
   ],
   "source": [
    "e_bike_data = pd.read_csv(\"e-bike-sales.csv\", index_col=0)\n",
    "display(e_bike_data)"
   ]
  },
  {
   "cell_type": "code",
   "execution_count": 48,
   "id": "b425399a",
   "metadata": {},
   "outputs": [
    {
     "data": {
      "text/html": [
       "<div>\n",
       "<style scoped>\n",
       "    .dataframe tbody tr th:only-of-type {\n",
       "        vertical-align: middle;\n",
       "    }\n",
       "\n",
       "    .dataframe tbody tr th {\n",
       "        vertical-align: top;\n",
       "    }\n",
       "\n",
       "    .dataframe thead th {\n",
       "        text-align: right;\n",
       "    }\n",
       "</style>\n",
       "<table border=\"1\" class=\"dataframe\">\n",
       "  <thead>\n",
       "    <tr style=\"text-align: right;\">\n",
       "      <th>Perioden</th>\n",
       "      <th>Reismotieven</th>\n",
       "      <th>aantal</th>\n",
       "      <th>km</th>\n",
       "      <th>Minuten</th>\n",
       "      <th>snelheid</th>\n",
       "    </tr>\n",
       "  </thead>\n",
       "  <tbody>\n",
       "    <tr>\n",
       "      <th>1999</th>\n",
       "      <td>Totaal</td>\n",
       "      <td>0.87</td>\n",
       "      <td>3.18</td>\n",
       "      <td>19.02</td>\n",
       "      <td>10.031546</td>\n",
       "    </tr>\n",
       "    <tr>\n",
       "      <th>1999</th>\n",
       "      <td>Van en naar het werk</td>\n",
       "      <td>0.15</td>\n",
       "      <td>3.50</td>\n",
       "      <td>17.29</td>\n",
       "      <td>12.145749</td>\n",
       "    </tr>\n",
       "    <tr>\n",
       "      <th>1999</th>\n",
       "      <td>Winkelen. boodschappen doen</td>\n",
       "      <td>0.20</td>\n",
       "      <td>1.84</td>\n",
       "      <td>12.41</td>\n",
       "      <td>8.896052</td>\n",
       "    </tr>\n",
       "    <tr>\n",
       "      <th>1999</th>\n",
       "      <td>Onderwijs volgen. cursus. kinderopvang</td>\n",
       "      <td>0.12</td>\n",
       "      <td>2.81</td>\n",
       "      <td>15.61</td>\n",
       "      <td>10.800769</td>\n",
       "    </tr>\n",
       "    <tr>\n",
       "      <th>1999</th>\n",
       "      <td>Vrije tijd</td>\n",
       "      <td>0.27</td>\n",
       "      <td>4.61</td>\n",
       "      <td>28.74</td>\n",
       "      <td>9.624217</td>\n",
       "    </tr>\n",
       "    <tr>\n",
       "      <th>...</th>\n",
       "      <td>...</td>\n",
       "      <td>...</td>\n",
       "      <td>...</td>\n",
       "      <td>...</td>\n",
       "      <td>...</td>\n",
       "    </tr>\n",
       "    <tr>\n",
       "      <th>2019</th>\n",
       "      <td>Van en naar het werk</td>\n",
       "      <td>0.16</td>\n",
       "      <td>4.04</td>\n",
       "      <td>18.03</td>\n",
       "      <td>13.444260</td>\n",
       "    </tr>\n",
       "    <tr>\n",
       "      <th>2019</th>\n",
       "      <td>Winkelen. boodschappen doen</td>\n",
       "      <td>0.16</td>\n",
       "      <td>2.06</td>\n",
       "      <td>11.91</td>\n",
       "      <td>10.377834</td>\n",
       "    </tr>\n",
       "    <tr>\n",
       "      <th>2019</th>\n",
       "      <td>Onderwijs volgen. cursus. kinderopvang</td>\n",
       "      <td>0.13</td>\n",
       "      <td>3.26</td>\n",
       "      <td>16.69</td>\n",
       "      <td>11.719593</td>\n",
       "    </tr>\n",
       "    <tr>\n",
       "      <th>2019</th>\n",
       "      <td>Vrije tijd</td>\n",
       "      <td>0.27</td>\n",
       "      <td>5.12</td>\n",
       "      <td>31.04</td>\n",
       "      <td>9.896907</td>\n",
       "    </tr>\n",
       "    <tr>\n",
       "      <th>2019</th>\n",
       "      <td>Overige reismotieven</td>\n",
       "      <td>0.10</td>\n",
       "      <td>2.29</td>\n",
       "      <td>12.67</td>\n",
       "      <td>10.844515</td>\n",
       "    </tr>\n",
       "  </tbody>\n",
       "</table>\n",
       "<p>126 rows × 5 columns</p>\n",
       "</div>"
      ],
      "text/plain": [
       "Perioden                            Reismotieven  aantal    km  Minuten  \\\n",
       "1999                                      Totaal    0.87  3.18    19.02   \n",
       "1999                        Van en naar het werk    0.15  3.50    17.29   \n",
       "1999                 Winkelen. boodschappen doen    0.20  1.84    12.41   \n",
       "1999      Onderwijs volgen. cursus. kinderopvang    0.12  2.81    15.61   \n",
       "1999                                  Vrije tijd    0.27  4.61    28.74   \n",
       "...                                          ...     ...   ...      ...   \n",
       "2019                        Van en naar het werk    0.16  4.04    18.03   \n",
       "2019                 Winkelen. boodschappen doen    0.16  2.06    11.91   \n",
       "2019      Onderwijs volgen. cursus. kinderopvang    0.13  3.26    16.69   \n",
       "2019                                  Vrije tijd    0.27  5.12    31.04   \n",
       "2019                        Overige reismotieven    0.10  2.29    12.67   \n",
       "\n",
       "Perioden   snelheid  \n",
       "1999      10.031546  \n",
       "1999      12.145749  \n",
       "1999       8.896052  \n",
       "1999      10.800769  \n",
       "1999       9.624217  \n",
       "...             ...  \n",
       "2019      13.444260  \n",
       "2019      10.377834  \n",
       "2019      11.719593  \n",
       "2019       9.896907  \n",
       "2019      10.844515  \n",
       "\n",
       "[126 rows x 5 columns]"
      ]
     },
     "metadata": {},
     "output_type": "display_data"
    },
    {
     "data": {
      "application/vnd.plotly.v1+json": {
       "config": {
        "plotlyServerURL": "https://plot.ly"
       },
       "data": [
        {
         "mode": "lines",
         "name": "Fiets Totaal",
         "type": "scatter",
         "x": [
          "1999",
          "2000",
          "2001",
          "2002",
          "2003",
          "2004",
          "2005",
          "2006",
          "2007",
          "2008",
          "2009",
          "2010",
          "2011",
          "2012",
          "2013",
          "2014",
          "2015",
          "2016",
          "2017",
          "2018",
          "2019"
         ],
         "y": [
          10.031545741324921,
          10.105263157894738,
          10.174880763116057,
          10.229088971763453,
          10.246202200104767,
          10.309062336301729,
          10.346970481615744,
          10.460732984293193,
          10.482115085536547,
          10.560253699788584,
          10.58091286307054,
          10.597402597402596,
          10.631741140215718,
          10.644171779141105,
          10.728476821192052,
          10.682046138415243,
          10.75075075075075,
          10.783132530120481,
          10.862587763289868,
          10.90094574415132,
          10.895596239485402
         ]
        },
        {
         "mode": "lines",
         "name": "Fiets Van en naar het werk",
         "type": "scatter",
         "x": [
          "1999",
          "2000",
          "2001",
          "2002",
          "2003",
          "2004",
          "2005",
          "2006",
          "2007",
          "2008",
          "2009",
          "2010",
          "2011",
          "2012",
          "2013",
          "2014",
          "2015",
          "2016",
          "2017",
          "2018",
          "2019"
         ],
         "y": [
          12.145748987854253,
          12.264808362369338,
          12.326388888888888,
          12.40535818287711,
          12.430555555555554,
          12.471131639722863,
          12.461799660441423,
          12.543909348441927,
          12.562076749435665,
          12.687679083094556,
          12.735527809307605,
          12.736486486486484,
          12.864378165447384,
          12.978482446206115,
          13.080407701019253,
          13.075630252100838,
          13.16909294512878,
          13.199329983249582,
          13.200663349917082,
          13.318534961154272,
          13.444259567387686
         ]
        },
        {
         "mode": "lines",
         "name": "Fiets Winkelen. boodschappen doen",
         "type": "scatter",
         "x": [
          "1999",
          "2000",
          "2001",
          "2002",
          "2003",
          "2004",
          "2005",
          "2006",
          "2007",
          "2008",
          "2009",
          "2010",
          "2011",
          "2012",
          "2013",
          "2014",
          "2015",
          "2016",
          "2017",
          "2018",
          "2019"
         ],
         "y": [
          8.896051571313457,
          9.021827000808408,
          9.181669394435351,
          9.211822660098523,
          9.295081967213115,
          9.257142857142856,
          9.378068739770866,
          9.544324772162385,
          9.635761589403973,
          9.625935162094764,
          9.808173477898249,
          9.793899422918383,
          9.867768595041323,
          9.933444259567388,
          10.008340283569641,
          10.1,
          10.142259414225942,
          10.227848101265824,
          10.370994940978077,
          10.310142497904442,
          10.377833753148614
         ]
        },
        {
         "mode": "lines",
         "name": "Fiets Onderwijs volgen. cursus. kinderopvang",
         "type": "scatter",
         "x": [
          "1999",
          "2000",
          "2001",
          "2002",
          "2003",
          "2004",
          "2005",
          "2006",
          "2007",
          "2008",
          "2009",
          "2010",
          "2011",
          "2012",
          "2013",
          "2014",
          "2015",
          "2016",
          "2017",
          "2018",
          "2019"
         ],
         "y": [
          10.80076873798847,
          10.902111324376198,
          11.039380245319562,
          11.095360824742269,
          11.11111111111111,
          11.206675224646984,
          11.269035532994923,
          11.3430935709739,
          11.421319796954315,
          11.428571428571429,
          11.481246026700571,
          11.526717557251908,
          11.545741324921135,
          11.498127340823968,
          11.53130812151271,
          11.575091575091577,
          11.597560975609756,
          11.637462235649547,
          11.605970149253732,
          11.668667466986795,
          11.719592570401437
         ]
        },
        {
         "mode": "lines",
         "name": "Fiets Vrije tijd",
         "type": "scatter",
         "x": [
          "1999",
          "2000",
          "2001",
          "2002",
          "2003",
          "2004",
          "2005",
          "2006",
          "2007",
          "2008",
          "2009",
          "2010",
          "2011",
          "2012",
          "2013",
          "2014",
          "2015",
          "2016",
          "2017",
          "2018",
          "2019"
         ],
         "y": [
          9.624217118997914,
          9.645093945720252,
          9.721254355400697,
          9.738219895287958,
          9.745354439091534,
          9.688676017789941,
          9.757927037163315,
          9.815573770491802,
          9.834067050457161,
          9.842465753424658,
          9.844384303112314,
          9.850746268656716,
          9.800796812749004,
          9.840319361277444,
          9.896907216494846,
          9.840546697038725,
          9.882352941176471,
          9.862745098039216,
          9.976950938426079,
          10,
          9.896907216494846
         ]
        },
        {
         "mode": "lines",
         "name": "Fiets Overige reismotieven",
         "type": "scatter",
         "x": [
          "1999",
          "2000",
          "2001",
          "2002",
          "2003",
          "2004",
          "2005",
          "2006",
          "2007",
          "2008",
          "2009",
          "2010",
          "2011",
          "2012",
          "2013",
          "2014",
          "2015",
          "2016",
          "2017",
          "2018",
          "2019"
         ],
         "y": [
          9.554419284149015,
          9.591078066914498,
          9.63963963963964,
          9.652567975830815,
          9.706546275395034,
          9.861751152073733,
          9.953703703703702,
          10.116550116550117,
          10.200927357032459,
          10.319066147859921,
          10.459143968871595,
          10.479134466769706,
          10.596436870642911,
          10.563706563706564,
          10.654205607476635,
          10.643642072213499,
          10.655090765588003,
          10.70063694267516,
          10.739856801909308,
          10.874097834803527,
          10.844514601420679
         ]
        },
        {
         "mode": "lines",
         "name": "eBike Sales",
         "type": "scatter",
         "x": [
          2004,
          2005,
          2006,
          2007,
          2008,
          2009,
          2010,
          2011,
          2012,
          2013,
          2014,
          2015,
          2016,
          2017,
          2018,
          2019,
          2020,
          2021,
          2022
         ],
         "y": [
          25,
          37,
          40,
          84,
          134,
          154,
          170,
          180,
          175,
          192,
          223,
          276,
          269,
          294,
          409,
          420,
          547,
          478,
          486
         ],
         "yaxis": "y2"
        }
       ],
       "layout": {
        "template": {
         "data": {
          "bar": [
           {
            "error_x": {
             "color": "#2a3f5f"
            },
            "error_y": {
             "color": "#2a3f5f"
            },
            "marker": {
             "line": {
              "color": "#E5ECF6",
              "width": 0.5
             },
             "pattern": {
              "fillmode": "overlay",
              "size": 10,
              "solidity": 0.2
             }
            },
            "type": "bar"
           }
          ],
          "barpolar": [
           {
            "marker": {
             "line": {
              "color": "#E5ECF6",
              "width": 0.5
             },
             "pattern": {
              "fillmode": "overlay",
              "size": 10,
              "solidity": 0.2
             }
            },
            "type": "barpolar"
           }
          ],
          "carpet": [
           {
            "aaxis": {
             "endlinecolor": "#2a3f5f",
             "gridcolor": "white",
             "linecolor": "white",
             "minorgridcolor": "white",
             "startlinecolor": "#2a3f5f"
            },
            "baxis": {
             "endlinecolor": "#2a3f5f",
             "gridcolor": "white",
             "linecolor": "white",
             "minorgridcolor": "white",
             "startlinecolor": "#2a3f5f"
            },
            "type": "carpet"
           }
          ],
          "choropleth": [
           {
            "colorbar": {
             "outlinewidth": 0,
             "ticks": ""
            },
            "type": "choropleth"
           }
          ],
          "contour": [
           {
            "colorbar": {
             "outlinewidth": 0,
             "ticks": ""
            },
            "colorscale": [
             [
              0,
              "#0d0887"
             ],
             [
              0.1111111111111111,
              "#46039f"
             ],
             [
              0.2222222222222222,
              "#7201a8"
             ],
             [
              0.3333333333333333,
              "#9c179e"
             ],
             [
              0.4444444444444444,
              "#bd3786"
             ],
             [
              0.5555555555555556,
              "#d8576b"
             ],
             [
              0.6666666666666666,
              "#ed7953"
             ],
             [
              0.7777777777777778,
              "#fb9f3a"
             ],
             [
              0.8888888888888888,
              "#fdca26"
             ],
             [
              1,
              "#f0f921"
             ]
            ],
            "type": "contour"
           }
          ],
          "contourcarpet": [
           {
            "colorbar": {
             "outlinewidth": 0,
             "ticks": ""
            },
            "type": "contourcarpet"
           }
          ],
          "heatmap": [
           {
            "colorbar": {
             "outlinewidth": 0,
             "ticks": ""
            },
            "colorscale": [
             [
              0,
              "#0d0887"
             ],
             [
              0.1111111111111111,
              "#46039f"
             ],
             [
              0.2222222222222222,
              "#7201a8"
             ],
             [
              0.3333333333333333,
              "#9c179e"
             ],
             [
              0.4444444444444444,
              "#bd3786"
             ],
             [
              0.5555555555555556,
              "#d8576b"
             ],
             [
              0.6666666666666666,
              "#ed7953"
             ],
             [
              0.7777777777777778,
              "#fb9f3a"
             ],
             [
              0.8888888888888888,
              "#fdca26"
             ],
             [
              1,
              "#f0f921"
             ]
            ],
            "type": "heatmap"
           }
          ],
          "heatmapgl": [
           {
            "colorbar": {
             "outlinewidth": 0,
             "ticks": ""
            },
            "colorscale": [
             [
              0,
              "#0d0887"
             ],
             [
              0.1111111111111111,
              "#46039f"
             ],
             [
              0.2222222222222222,
              "#7201a8"
             ],
             [
              0.3333333333333333,
              "#9c179e"
             ],
             [
              0.4444444444444444,
              "#bd3786"
             ],
             [
              0.5555555555555556,
              "#d8576b"
             ],
             [
              0.6666666666666666,
              "#ed7953"
             ],
             [
              0.7777777777777778,
              "#fb9f3a"
             ],
             [
              0.8888888888888888,
              "#fdca26"
             ],
             [
              1,
              "#f0f921"
             ]
            ],
            "type": "heatmapgl"
           }
          ],
          "histogram": [
           {
            "marker": {
             "pattern": {
              "fillmode": "overlay",
              "size": 10,
              "solidity": 0.2
             }
            },
            "type": "histogram"
           }
          ],
          "histogram2d": [
           {
            "colorbar": {
             "outlinewidth": 0,
             "ticks": ""
            },
            "colorscale": [
             [
              0,
              "#0d0887"
             ],
             [
              0.1111111111111111,
              "#46039f"
             ],
             [
              0.2222222222222222,
              "#7201a8"
             ],
             [
              0.3333333333333333,
              "#9c179e"
             ],
             [
              0.4444444444444444,
              "#bd3786"
             ],
             [
              0.5555555555555556,
              "#d8576b"
             ],
             [
              0.6666666666666666,
              "#ed7953"
             ],
             [
              0.7777777777777778,
              "#fb9f3a"
             ],
             [
              0.8888888888888888,
              "#fdca26"
             ],
             [
              1,
              "#f0f921"
             ]
            ],
            "type": "histogram2d"
           }
          ],
          "histogram2dcontour": [
           {
            "colorbar": {
             "outlinewidth": 0,
             "ticks": ""
            },
            "colorscale": [
             [
              0,
              "#0d0887"
             ],
             [
              0.1111111111111111,
              "#46039f"
             ],
             [
              0.2222222222222222,
              "#7201a8"
             ],
             [
              0.3333333333333333,
              "#9c179e"
             ],
             [
              0.4444444444444444,
              "#bd3786"
             ],
             [
              0.5555555555555556,
              "#d8576b"
             ],
             [
              0.6666666666666666,
              "#ed7953"
             ],
             [
              0.7777777777777778,
              "#fb9f3a"
             ],
             [
              0.8888888888888888,
              "#fdca26"
             ],
             [
              1,
              "#f0f921"
             ]
            ],
            "type": "histogram2dcontour"
           }
          ],
          "mesh3d": [
           {
            "colorbar": {
             "outlinewidth": 0,
             "ticks": ""
            },
            "type": "mesh3d"
           }
          ],
          "parcoords": [
           {
            "line": {
             "colorbar": {
              "outlinewidth": 0,
              "ticks": ""
             }
            },
            "type": "parcoords"
           }
          ],
          "pie": [
           {
            "automargin": true,
            "type": "pie"
           }
          ],
          "scatter": [
           {
            "fillpattern": {
             "fillmode": "overlay",
             "size": 10,
             "solidity": 0.2
            },
            "type": "scatter"
           }
          ],
          "scatter3d": [
           {
            "line": {
             "colorbar": {
              "outlinewidth": 0,
              "ticks": ""
             }
            },
            "marker": {
             "colorbar": {
              "outlinewidth": 0,
              "ticks": ""
             }
            },
            "type": "scatter3d"
           }
          ],
          "scattercarpet": [
           {
            "marker": {
             "colorbar": {
              "outlinewidth": 0,
              "ticks": ""
             }
            },
            "type": "scattercarpet"
           }
          ],
          "scattergeo": [
           {
            "marker": {
             "colorbar": {
              "outlinewidth": 0,
              "ticks": ""
             }
            },
            "type": "scattergeo"
           }
          ],
          "scattergl": [
           {
            "marker": {
             "colorbar": {
              "outlinewidth": 0,
              "ticks": ""
             }
            },
            "type": "scattergl"
           }
          ],
          "scattermapbox": [
           {
            "marker": {
             "colorbar": {
              "outlinewidth": 0,
              "ticks": ""
             }
            },
            "type": "scattermapbox"
           }
          ],
          "scatterpolar": [
           {
            "marker": {
             "colorbar": {
              "outlinewidth": 0,
              "ticks": ""
             }
            },
            "type": "scatterpolar"
           }
          ],
          "scatterpolargl": [
           {
            "marker": {
             "colorbar": {
              "outlinewidth": 0,
              "ticks": ""
             }
            },
            "type": "scatterpolargl"
           }
          ],
          "scatterternary": [
           {
            "marker": {
             "colorbar": {
              "outlinewidth": 0,
              "ticks": ""
             }
            },
            "type": "scatterternary"
           }
          ],
          "surface": [
           {
            "colorbar": {
             "outlinewidth": 0,
             "ticks": ""
            },
            "colorscale": [
             [
              0,
              "#0d0887"
             ],
             [
              0.1111111111111111,
              "#46039f"
             ],
             [
              0.2222222222222222,
              "#7201a8"
             ],
             [
              0.3333333333333333,
              "#9c179e"
             ],
             [
              0.4444444444444444,
              "#bd3786"
             ],
             [
              0.5555555555555556,
              "#d8576b"
             ],
             [
              0.6666666666666666,
              "#ed7953"
             ],
             [
              0.7777777777777778,
              "#fb9f3a"
             ],
             [
              0.8888888888888888,
              "#fdca26"
             ],
             [
              1,
              "#f0f921"
             ]
            ],
            "type": "surface"
           }
          ],
          "table": [
           {
            "cells": {
             "fill": {
              "color": "#EBF0F8"
             },
             "line": {
              "color": "white"
             }
            },
            "header": {
             "fill": {
              "color": "#C8D4E3"
             },
             "line": {
              "color": "white"
             }
            },
            "type": "table"
           }
          ]
         },
         "layout": {
          "annotationdefaults": {
           "arrowcolor": "#2a3f5f",
           "arrowhead": 0,
           "arrowwidth": 1
          },
          "autotypenumbers": "strict",
          "coloraxis": {
           "colorbar": {
            "outlinewidth": 0,
            "ticks": ""
           }
          },
          "colorscale": {
           "diverging": [
            [
             0,
             "#8e0152"
            ],
            [
             0.1,
             "#c51b7d"
            ],
            [
             0.2,
             "#de77ae"
            ],
            [
             0.3,
             "#f1b6da"
            ],
            [
             0.4,
             "#fde0ef"
            ],
            [
             0.5,
             "#f7f7f7"
            ],
            [
             0.6,
             "#e6f5d0"
            ],
            [
             0.7,
             "#b8e186"
            ],
            [
             0.8,
             "#7fbc41"
            ],
            [
             0.9,
             "#4d9221"
            ],
            [
             1,
             "#276419"
            ]
           ],
           "sequential": [
            [
             0,
             "#0d0887"
            ],
            [
             0.1111111111111111,
             "#46039f"
            ],
            [
             0.2222222222222222,
             "#7201a8"
            ],
            [
             0.3333333333333333,
             "#9c179e"
            ],
            [
             0.4444444444444444,
             "#bd3786"
            ],
            [
             0.5555555555555556,
             "#d8576b"
            ],
            [
             0.6666666666666666,
             "#ed7953"
            ],
            [
             0.7777777777777778,
             "#fb9f3a"
            ],
            [
             0.8888888888888888,
             "#fdca26"
            ],
            [
             1,
             "#f0f921"
            ]
           ],
           "sequentialminus": [
            [
             0,
             "#0d0887"
            ],
            [
             0.1111111111111111,
             "#46039f"
            ],
            [
             0.2222222222222222,
             "#7201a8"
            ],
            [
             0.3333333333333333,
             "#9c179e"
            ],
            [
             0.4444444444444444,
             "#bd3786"
            ],
            [
             0.5555555555555556,
             "#d8576b"
            ],
            [
             0.6666666666666666,
             "#ed7953"
            ],
            [
             0.7777777777777778,
             "#fb9f3a"
            ],
            [
             0.8888888888888888,
             "#fdca26"
            ],
            [
             1,
             "#f0f921"
            ]
           ]
          },
          "colorway": [
           "#636efa",
           "#EF553B",
           "#00cc96",
           "#ab63fa",
           "#FFA15A",
           "#19d3f3",
           "#FF6692",
           "#B6E880",
           "#FF97FF",
           "#FECB52"
          ],
          "font": {
           "color": "#2a3f5f"
          },
          "geo": {
           "bgcolor": "white",
           "lakecolor": "white",
           "landcolor": "#E5ECF6",
           "showlakes": true,
           "showland": true,
           "subunitcolor": "white"
          },
          "hoverlabel": {
           "align": "left"
          },
          "hovermode": "closest",
          "mapbox": {
           "style": "light"
          },
          "paper_bgcolor": "white",
          "plot_bgcolor": "#E5ECF6",
          "polar": {
           "angularaxis": {
            "gridcolor": "white",
            "linecolor": "white",
            "ticks": ""
           },
           "bgcolor": "#E5ECF6",
           "radialaxis": {
            "gridcolor": "white",
            "linecolor": "white",
            "ticks": ""
           }
          },
          "scene": {
           "xaxis": {
            "backgroundcolor": "#E5ECF6",
            "gridcolor": "white",
            "gridwidth": 2,
            "linecolor": "white",
            "showbackground": true,
            "ticks": "",
            "zerolinecolor": "white"
           },
           "yaxis": {
            "backgroundcolor": "#E5ECF6",
            "gridcolor": "white",
            "gridwidth": 2,
            "linecolor": "white",
            "showbackground": true,
            "ticks": "",
            "zerolinecolor": "white"
           },
           "zaxis": {
            "backgroundcolor": "#E5ECF6",
            "gridcolor": "white",
            "gridwidth": 2,
            "linecolor": "white",
            "showbackground": true,
            "ticks": "",
            "zerolinecolor": "white"
           }
          },
          "shapedefaults": {
           "line": {
            "color": "#2a3f5f"
           }
          },
          "ternary": {
           "aaxis": {
            "gridcolor": "white",
            "linecolor": "white",
            "ticks": ""
           },
           "baxis": {
            "gridcolor": "white",
            "linecolor": "white",
            "ticks": ""
           },
           "bgcolor": "#E5ECF6",
           "caxis": {
            "gridcolor": "white",
            "linecolor": "white",
            "ticks": ""
           }
          },
          "title": {
           "x": 0.05
          },
          "xaxis": {
           "automargin": true,
           "gridcolor": "white",
           "linecolor": "white",
           "ticks": "",
           "title": {
            "standoff": 15
           },
           "zerolinecolor": "white",
           "zerolinewidth": 2
          },
          "yaxis": {
           "automargin": true,
           "gridcolor": "white",
           "linecolor": "white",
           "ticks": "",
           "title": {
            "standoff": 15
           },
           "zerolinecolor": "white",
           "zerolinewidth": 2
          }
         }
        },
        "title": {
         "text": "Fiets Snelheid and eBike Sales Over Time"
        },
        "xaxis": {
         "title": {
          "text": "Year"
         }
        },
        "yaxis": {
         "title": {
          "text": "Fiets Snelheid"
         }
        },
        "yaxis2": {
         "overlaying": "y",
         "side": "right",
         "title": {
          "text": "eBike Sales"
         }
        }
       }
      }
     },
     "metadata": {},
     "output_type": "display_data"
    }
   ],
   "source": [
    "# dict for the dataframes and their names\n",
    "dfs = {\"df1\" : Fiets, \"df2\": e_bike_data}\n",
    "\n",
    "display(Fiets)\n",
    "\n",
    "fig = go.Figure()\n",
    "# Plot each travel motive separately\n",
    "for motive in Fiets['Reismotieven'].unique():\n",
    "    motive_data = Fiets[Fiets['Reismotieven'] == motive]\n",
    "    fig.add_trace(go.Scatter(x=motive_data.index, y=motive_data['snelheid'], mode='lines', name=f'Fiets {motive}'))\n",
    "\n",
    "# Add e_bike_data to the plot with a secondary y-axis\n",
    "fig.add_trace(go.Scatter(x=e_bike_data.index, y=e_bike_data['eBikeSales'], mode='lines', name='eBike Sales', yaxis='y2'))\n",
    "\n",
    "# Update layout for secondary y-axis\n",
    "fig.update_layout(\n",
    "    title='Fiets Snelheid and eBike Sales Over Time',\n",
    "    xaxis_title='Year',\n",
    "    yaxis_title='Fiets Snelheid',\n",
    "    yaxis2=dict(\n",
    "        title='eBike Sales',\n",
    "        overlaying='y',\n",
    "        side='right'\n",
    "    )\n",
    ")\n",
    "\n",
    "fig.show()"
   ]
  },
  {
   "cell_type": "code",
   "execution_count": null,
   "id": "8e0fb90d",
   "metadata": {},
   "outputs": [],
   "source": []
  }
 ],
 "metadata": {
  "kernelspec": {
   "display_name": "TIL6022",
   "language": "python",
   "name": "python3"
  },
  "language_info": {
   "codemirror_mode": {
    "name": "ipython",
    "version": 3
   },
   "file_extension": ".py",
   "mimetype": "text/x-python",
   "name": "python",
   "nbconvert_exporter": "python",
   "pygments_lexer": "ipython3",
   "version": "3.12.5"
  }
 },
 "nbformat": 4,
 "nbformat_minor": 5
}
