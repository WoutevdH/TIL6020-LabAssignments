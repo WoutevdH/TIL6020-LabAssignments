{
 "cells": [
  {
   "cell_type": "code",
   "execution_count": 13,
   "id": "06fad610",
   "metadata": {},
   "outputs": [],
   "source": [
    "import pandas as pd\n",
    "import numpy as np\n",
    "import matplotlib.pyplot as plt\n",
    "# import seaborn as sns\n",
    "# sns.set_theme(style=\"darkgrid\")\n",
    "import plotly.express as px\n",
    "import plotly.graph_objects as go"
   ]
  },
  {
   "cell_type": "code",
   "execution_count": 2,
   "id": "ee464aa3",
   "metadata": {
    "scrolled": true
   },
   "outputs": [
    {
     "data": {
      "text/html": [
       "<div>\n",
       "<style scoped>\n",
       "    .dataframe tbody tr th:only-of-type {\n",
       "        vertical-align: middle;\n",
       "    }\n",
       "\n",
       "    .dataframe tbody tr th {\n",
       "        vertical-align: top;\n",
       "    }\n",
       "\n",
       "    .dataframe thead tr th {\n",
       "        text-align: left;\n",
       "    }\n",
       "</style>\n",
       "<table border=\"1\" class=\"dataframe\">\n",
       "  <thead>\n",
       "    <tr>\n",
       "      <th></th>\n",
       "      <th>Vervoerwijzen</th>\n",
       "      <th colspan=\"3\" halign=\"left\">Totaal</th>\n",
       "      <th colspan=\"3\" halign=\"left\">Auto (bestuurder)</th>\n",
       "      <th colspan=\"3\" halign=\"left\">Auto (passagier)</th>\n",
       "      <th>...</th>\n",
       "      <th>Bus/tram/metro</th>\n",
       "      <th colspan=\"3\" halign=\"left\">Fiets</th>\n",
       "      <th colspan=\"3\" halign=\"left\">Lopen</th>\n",
       "      <th colspan=\"3\" halign=\"left\">Overige vervoerwijze</th>\n",
       "    </tr>\n",
       "    <tr>\n",
       "      <th></th>\n",
       "      <th>Onderwerp</th>\n",
       "      <th>Ritten per persoon per dag (gemiddeld)</th>\n",
       "      <th>Afgelegde afstand per rit (gemiddeld)</th>\n",
       "      <th>Reisduur per rit</th>\n",
       "      <th>Ritten per persoon per dag (gemiddeld)</th>\n",
       "      <th>Afgelegde afstand per rit (gemiddeld)</th>\n",
       "      <th>Reisduur per rit</th>\n",
       "      <th>Ritten per persoon per dag (gemiddeld)</th>\n",
       "      <th>Afgelegde afstand per rit (gemiddeld)</th>\n",
       "      <th>Reisduur per rit</th>\n",
       "      <th>...</th>\n",
       "      <th>Reisduur per rit</th>\n",
       "      <th>Ritten per persoon per dag (gemiddeld)</th>\n",
       "      <th>Afgelegde afstand per rit (gemiddeld)</th>\n",
       "      <th>Reisduur per rit</th>\n",
       "      <th>Ritten per persoon per dag (gemiddeld)</th>\n",
       "      <th>Afgelegde afstand per rit (gemiddeld)</th>\n",
       "      <th>Reisduur per rit</th>\n",
       "      <th>Ritten per persoon per dag (gemiddeld)</th>\n",
       "      <th>Afgelegde afstand per rit (gemiddeld)</th>\n",
       "      <th>Reisduur per rit</th>\n",
       "    </tr>\n",
       "    <tr>\n",
       "      <th>Perioden</th>\n",
       "      <th>Reismotieven</th>\n",
       "      <th>aantal</th>\n",
       "      <th>km</th>\n",
       "      <th>Minuten</th>\n",
       "      <th>aantal</th>\n",
       "      <th>km</th>\n",
       "      <th>Minuten</th>\n",
       "      <th>aantal</th>\n",
       "      <th>km</th>\n",
       "      <th>Minuten</th>\n",
       "      <th>...</th>\n",
       "      <th>Minuten</th>\n",
       "      <th>aantal</th>\n",
       "      <th>km</th>\n",
       "      <th>Minuten</th>\n",
       "      <th>aantal</th>\n",
       "      <th>km</th>\n",
       "      <th>Minuten</th>\n",
       "      <th>aantal</th>\n",
       "      <th>km</th>\n",
       "      <th>Minuten</th>\n",
       "    </tr>\n",
       "  </thead>\n",
       "  <tbody>\n",
       "    <tr>\n",
       "      <th>1999</th>\n",
       "      <td>Totaal</td>\n",
       "      <td>3.41</td>\n",
       "      <td>10.96</td>\n",
       "      <td>23.72</td>\n",
       "      <td>1.06</td>\n",
       "      <td>16.16</td>\n",
       "      <td>23.91</td>\n",
       "      <td>0.48</td>\n",
       "      <td>19.04</td>\n",
       "      <td>28.42</td>\n",
       "      <td>...</td>\n",
       "      <td>27.45</td>\n",
       "      <td>0.87</td>\n",
       "      <td>3.18</td>\n",
       "      <td>19.02</td>\n",
       "      <td>0.65</td>\n",
       "      <td>1.3</td>\n",
       "      <td>20.87</td>\n",
       "      <td>0.12</td>\n",
       "      <td>17.13</td>\n",
       "      <td>32.31</td>\n",
       "    </tr>\n",
       "    <tr>\n",
       "      <th>1999</th>\n",
       "      <td>Van en naar het werk</td>\n",
       "      <td>0.59</td>\n",
       "      <td>14.78</td>\n",
       "      <td>24.83</td>\n",
       "      <td>0.23</td>\n",
       "      <td>20.62</td>\n",
       "      <td>28.76</td>\n",
       "      <td>0.05</td>\n",
       "      <td>21</td>\n",
       "      <td>31.52</td>\n",
       "      <td>...</td>\n",
       "      <td>25.63</td>\n",
       "      <td>0.15</td>\n",
       "      <td>3.5</td>\n",
       "      <td>17.29</td>\n",
       "      <td>0.05</td>\n",
       "      <td>0.89</td>\n",
       "      <td>10.52</td>\n",
       "      <td>0.05</td>\n",
       "      <td>17.77</td>\n",
       "      <td>27.97</td>\n",
       "    </tr>\n",
       "    <tr>\n",
       "      <th>1999</th>\n",
       "      <td>Winkelen. boodschappen doen</td>\n",
       "      <td>0.73</td>\n",
       "      <td>4.96</td>\n",
       "      <td>14.97</td>\n",
       "      <td>0.23</td>\n",
       "      <td>6.94</td>\n",
       "      <td>14.57</td>\n",
       "      <td>0.09</td>\n",
       "      <td>9.99</td>\n",
       "      <td>19.11</td>\n",
       "      <td>...</td>\n",
       "      <td>25.27</td>\n",
       "      <td>0.2</td>\n",
       "      <td>1.84</td>\n",
       "      <td>12.41</td>\n",
       "      <td>0.16</td>\n",
       "      <td>0.89</td>\n",
       "      <td>13.36</td>\n",
       "      <td>0.01</td>\n",
       "      <td>6.61</td>\n",
       "      <td>16.83</td>\n",
       "    </tr>\n",
       "    <tr>\n",
       "      <th>1999</th>\n",
       "      <td>Onderwijs volgen. cursus. kinderopvang</td>\n",
       "      <td>0.3</td>\n",
       "      <td>6.85</td>\n",
       "      <td>17.64</td>\n",
       "      <td>0.02</td>\n",
       "      <td>21.61</td>\n",
       "      <td>25.68</td>\n",
       "      <td>0.03</td>\n",
       "      <td>8.84</td>\n",
       "      <td>17.26</td>\n",
       "      <td>...</td>\n",
       "      <td>27.43</td>\n",
       "      <td>0.12</td>\n",
       "      <td>2.81</td>\n",
       "      <td>15.61</td>\n",
       "      <td>0.08</td>\n",
       "      <td>0.71</td>\n",
       "      <td>9.97</td>\n",
       "      <td>0.01</td>\n",
       "      <td>9.96</td>\n",
       "      <td>28.17</td>\n",
       "    </tr>\n",
       "    <tr>\n",
       "      <th>1999</th>\n",
       "      <td>Vrije tijd</td>\n",
       "      <td>1.19</td>\n",
       "      <td>12.42</td>\n",
       "      <td>31.37</td>\n",
       "      <td>0.31</td>\n",
       "      <td>18.15</td>\n",
       "      <td>27.9</td>\n",
       "      <td>0.25</td>\n",
       "      <td>21.47</td>\n",
       "      <td>32.46</td>\n",
       "      <td>...</td>\n",
       "      <td>31.66</td>\n",
       "      <td>0.27</td>\n",
       "      <td>4.61</td>\n",
       "      <td>28.74</td>\n",
       "      <td>0.27</td>\n",
       "      <td>1.93</td>\n",
       "      <td>33.08</td>\n",
       "      <td>0.03</td>\n",
       "      <td>16.92</td>\n",
       "      <td>45.59</td>\n",
       "    </tr>\n",
       "    <tr>\n",
       "      <th>...</th>\n",
       "      <td>...</td>\n",
       "      <td>...</td>\n",
       "      <td>...</td>\n",
       "      <td>...</td>\n",
       "      <td>...</td>\n",
       "      <td>...</td>\n",
       "      <td>...</td>\n",
       "      <td>...</td>\n",
       "      <td>...</td>\n",
       "      <td>...</td>\n",
       "      <td>...</td>\n",
       "      <td>...</td>\n",
       "      <td>...</td>\n",
       "      <td>...</td>\n",
       "      <td>...</td>\n",
       "      <td>...</td>\n",
       "      <td>...</td>\n",
       "      <td>...</td>\n",
       "      <td>...</td>\n",
       "      <td>...</td>\n",
       "      <td>...</td>\n",
       "    </tr>\n",
       "    <tr>\n",
       "      <th>2019</th>\n",
       "      <td>Van en naar het werk</td>\n",
       "      <td>0.61</td>\n",
       "      <td>16.13</td>\n",
       "      <td>24.83</td>\n",
       "      <td>0.25</td>\n",
       "      <td>24.99</td>\n",
       "      <td>30.38</td>\n",
       "      <td>0.02</td>\n",
       "      <td>21.43</td>\n",
       "      <td>28.94</td>\n",
       "      <td>...</td>\n",
       "      <td>24.49</td>\n",
       "      <td>0.16</td>\n",
       "      <td>4.04</td>\n",
       "      <td>18.03</td>\n",
       "      <td>0.07</td>\n",
       "      <td>0.79</td>\n",
       "      <td>9.69</td>\n",
       "      <td>0.04</td>\n",
       "      <td>21.54</td>\n",
       "      <td>29.36</td>\n",
       "    </tr>\n",
       "    <tr>\n",
       "      <th>2019</th>\n",
       "      <td>Winkelen. boodschappen doen</td>\n",
       "      <td>0.57</td>\n",
       "      <td>5.36</td>\n",
       "      <td>14.35</td>\n",
       "      <td>0.2</td>\n",
       "      <td>7.78</td>\n",
       "      <td>14.86</td>\n",
       "      <td>0.06</td>\n",
       "      <td>11.65</td>\n",
       "      <td>19.34</td>\n",
       "      <td>...</td>\n",
       "      <td>23.8</td>\n",
       "      <td>0.16</td>\n",
       "      <td>2.06</td>\n",
       "      <td>11.91</td>\n",
       "      <td>0.12</td>\n",
       "      <td>0.8</td>\n",
       "      <td>11.59</td>\n",
       "      <td>0.01</td>\n",
       "      <td>5.61</td>\n",
       "      <td>15.99</td>\n",
       "    </tr>\n",
       "    <tr>\n",
       "      <th>2019</th>\n",
       "      <td>Onderwijs volgen. cursus. kinderopvang</td>\n",
       "      <td>0.28</td>\n",
       "      <td>7.28</td>\n",
       "      <td>18.58</td>\n",
       "      <td>0.01</td>\n",
       "      <td>26.09</td>\n",
       "      <td>33.31</td>\n",
       "      <td>0.02</td>\n",
       "      <td>8.11</td>\n",
       "      <td>16.54</td>\n",
       "      <td>...</td>\n",
       "      <td>26.89</td>\n",
       "      <td>0.13</td>\n",
       "      <td>3.26</td>\n",
       "      <td>16.69</td>\n",
       "      <td>0.06</td>\n",
       "      <td>0.67</td>\n",
       "      <td>8.39</td>\n",
       "      <td>0.01</td>\n",
       "      <td>11.64</td>\n",
       "      <td>27.59</td>\n",
       "    </tr>\n",
       "    <tr>\n",
       "      <th>2019</th>\n",
       "      <td>Vrije tijd</td>\n",
       "      <td>1.05</td>\n",
       "      <td>13.5</td>\n",
       "      <td>32.59</td>\n",
       "      <td>0.26</td>\n",
       "      <td>22.07</td>\n",
       "      <td>29.47</td>\n",
       "      <td>0.18</td>\n",
       "      <td>25.03</td>\n",
       "      <td>32.44</td>\n",
       "      <td>...</td>\n",
       "      <td>28.53</td>\n",
       "      <td>0.27</td>\n",
       "      <td>5.12</td>\n",
       "      <td>31.04</td>\n",
       "      <td>0.27</td>\n",
       "      <td>2.31</td>\n",
       "      <td>33.87</td>\n",
       "      <td>0.03</td>\n",
       "      <td>19.79</td>\n",
       "      <td>45.64</td>\n",
       "    </tr>\n",
       "    <tr>\n",
       "      <th>2019</th>\n",
       "      <td>Overige reismotieven</td>\n",
       "      <td>0.45</td>\n",
       "      <td>11.87</td>\n",
       "      <td>19.57</td>\n",
       "      <td>0.21</td>\n",
       "      <td>16.31</td>\n",
       "      <td>22.08</td>\n",
       "      <td>0.05</td>\n",
       "      <td>18.76</td>\n",
       "      <td>25.47</td>\n",
       "      <td>...</td>\n",
       "      <td>25.18</td>\n",
       "      <td>0.1</td>\n",
       "      <td>2.29</td>\n",
       "      <td>12.67</td>\n",
       "      <td>0.06</td>\n",
       "      <td>0.77</td>\n",
       "      <td>10.05</td>\n",
       "      <td>0.01</td>\n",
       "      <td>17.78</td>\n",
       "      <td>29.11</td>\n",
       "    </tr>\n",
       "  </tbody>\n",
       "</table>\n",
       "<p>126 rows × 25 columns</p>\n",
       "</div>"
      ],
      "text/plain": [
       "                                   Vervoerwijzen  \\\n",
       "                                       Onderwerp   \n",
       "Perioden                            Reismotieven   \n",
       "1999                                      Totaal   \n",
       "1999                        Van en naar het werk   \n",
       "1999                 Winkelen. boodschappen doen   \n",
       "1999      Onderwijs volgen. cursus. kinderopvang   \n",
       "1999                                  Vrije tijd   \n",
       "...                                          ...   \n",
       "2019                        Van en naar het werk   \n",
       "2019                 Winkelen. boodschappen doen   \n",
       "2019      Onderwijs volgen. cursus. kinderopvang   \n",
       "2019                                  Vrije tijd   \n",
       "2019                        Overige reismotieven   \n",
       "\n",
       "                                         Totaal  \\\n",
       "         Ritten per persoon per dag (gemiddeld)   \n",
       "Perioden                                 aantal   \n",
       "1999                                       3.41   \n",
       "1999                                       0.59   \n",
       "1999                                       0.73   \n",
       "1999                                        0.3   \n",
       "1999                                       1.19   \n",
       "...                                         ...   \n",
       "2019                                       0.61   \n",
       "2019                                       0.57   \n",
       "2019                                       0.28   \n",
       "2019                                       1.05   \n",
       "2019                                       0.45   \n",
       "\n",
       "                                                                 \\\n",
       "         Afgelegde afstand per rit (gemiddeld) Reisduur per rit   \n",
       "Perioden                                    km          Minuten   \n",
       "1999                                     10.96            23.72   \n",
       "1999                                     14.78            24.83   \n",
       "1999                                      4.96            14.97   \n",
       "1999                                      6.85            17.64   \n",
       "1999                                     12.42            31.37   \n",
       "...                                        ...              ...   \n",
       "2019                                     16.13            24.83   \n",
       "2019                                      5.36            14.35   \n",
       "2019                                      7.28            18.58   \n",
       "2019                                      13.5            32.59   \n",
       "2019                                     11.87            19.57   \n",
       "\n",
       "                              Auto (bestuurder)  \\\n",
       "         Ritten per persoon per dag (gemiddeld)   \n",
       "Perioden                                 aantal   \n",
       "1999                                       1.06   \n",
       "1999                                       0.23   \n",
       "1999                                       0.23   \n",
       "1999                                       0.02   \n",
       "1999                                       0.31   \n",
       "...                                         ...   \n",
       "2019                                       0.25   \n",
       "2019                                        0.2   \n",
       "2019                                       0.01   \n",
       "2019                                       0.26   \n",
       "2019                                       0.21   \n",
       "\n",
       "                                                                 \\\n",
       "         Afgelegde afstand per rit (gemiddeld) Reisduur per rit   \n",
       "Perioden                                    km          Minuten   \n",
       "1999                                     16.16            23.91   \n",
       "1999                                     20.62            28.76   \n",
       "1999                                      6.94            14.57   \n",
       "1999                                     21.61            25.68   \n",
       "1999                                     18.15             27.9   \n",
       "...                                        ...              ...   \n",
       "2019                                     24.99            30.38   \n",
       "2019                                      7.78            14.86   \n",
       "2019                                     26.09            33.31   \n",
       "2019                                     22.07            29.47   \n",
       "2019                                     16.31            22.08   \n",
       "\n",
       "                               Auto (passagier)  \\\n",
       "         Ritten per persoon per dag (gemiddeld)   \n",
       "Perioden                                 aantal   \n",
       "1999                                       0.48   \n",
       "1999                                       0.05   \n",
       "1999                                       0.09   \n",
       "1999                                       0.03   \n",
       "1999                                       0.25   \n",
       "...                                         ...   \n",
       "2019                                       0.02   \n",
       "2019                                       0.06   \n",
       "2019                                       0.02   \n",
       "2019                                       0.18   \n",
       "2019                                       0.05   \n",
       "\n",
       "                                                                 ...  \\\n",
       "         Afgelegde afstand per rit (gemiddeld) Reisduur per rit  ...   \n",
       "Perioden                                    km          Minuten  ...   \n",
       "1999                                     19.04            28.42  ...   \n",
       "1999                                        21            31.52  ...   \n",
       "1999                                      9.99            19.11  ...   \n",
       "1999                                      8.84            17.26  ...   \n",
       "1999                                     21.47            32.46  ...   \n",
       "...                                        ...              ...  ...   \n",
       "2019                                     21.43            28.94  ...   \n",
       "2019                                     11.65            19.34  ...   \n",
       "2019                                      8.11            16.54  ...   \n",
       "2019                                     25.03            32.44  ...   \n",
       "2019                                     18.76            25.47  ...   \n",
       "\n",
       "           Bus/tram/metro                                  Fiets  \\\n",
       "         Reisduur per rit Ritten per persoon per dag (gemiddeld)   \n",
       "Perioden          Minuten                                 aantal   \n",
       "1999                27.45                                   0.87   \n",
       "1999                25.63                                   0.15   \n",
       "1999                25.27                                    0.2   \n",
       "1999                27.43                                   0.12   \n",
       "1999                31.66                                   0.27   \n",
       "...                   ...                                    ...   \n",
       "2019                24.49                                   0.16   \n",
       "2019                 23.8                                   0.16   \n",
       "2019                26.89                                   0.13   \n",
       "2019                28.53                                   0.27   \n",
       "2019                25.18                                    0.1   \n",
       "\n",
       "                                                                 \\\n",
       "         Afgelegde afstand per rit (gemiddeld) Reisduur per rit   \n",
       "Perioden                                    km          Minuten   \n",
       "1999                                      3.18            19.02   \n",
       "1999                                       3.5            17.29   \n",
       "1999                                      1.84            12.41   \n",
       "1999                                      2.81            15.61   \n",
       "1999                                      4.61            28.74   \n",
       "...                                        ...              ...   \n",
       "2019                                      4.04            18.03   \n",
       "2019                                      2.06            11.91   \n",
       "2019                                      3.26            16.69   \n",
       "2019                                      5.12            31.04   \n",
       "2019                                      2.29            12.67   \n",
       "\n",
       "                                          Lopen  \\\n",
       "         Ritten per persoon per dag (gemiddeld)   \n",
       "Perioden                                 aantal   \n",
       "1999                                       0.65   \n",
       "1999                                       0.05   \n",
       "1999                                       0.16   \n",
       "1999                                       0.08   \n",
       "1999                                       0.27   \n",
       "...                                         ...   \n",
       "2019                                       0.07   \n",
       "2019                                       0.12   \n",
       "2019                                       0.06   \n",
       "2019                                       0.27   \n",
       "2019                                       0.06   \n",
       "\n",
       "                                                                 \\\n",
       "         Afgelegde afstand per rit (gemiddeld) Reisduur per rit   \n",
       "Perioden                                    km          Minuten   \n",
       "1999                                       1.3            20.87   \n",
       "1999                                      0.89            10.52   \n",
       "1999                                      0.89            13.36   \n",
       "1999                                      0.71             9.97   \n",
       "1999                                      1.93            33.08   \n",
       "...                                        ...              ...   \n",
       "2019                                      0.79             9.69   \n",
       "2019                                       0.8            11.59   \n",
       "2019                                      0.67             8.39   \n",
       "2019                                      2.31            33.87   \n",
       "2019                                      0.77            10.05   \n",
       "\n",
       "                           Overige vervoerwijze  \\\n",
       "         Ritten per persoon per dag (gemiddeld)   \n",
       "Perioden                                 aantal   \n",
       "1999                                       0.12   \n",
       "1999                                       0.05   \n",
       "1999                                       0.01   \n",
       "1999                                       0.01   \n",
       "1999                                       0.03   \n",
       "...                                         ...   \n",
       "2019                                       0.04   \n",
       "2019                                       0.01   \n",
       "2019                                       0.01   \n",
       "2019                                       0.03   \n",
       "2019                                       0.01   \n",
       "\n",
       "                                                                 \n",
       "         Afgelegde afstand per rit (gemiddeld) Reisduur per rit  \n",
       "Perioden                                    km          Minuten  \n",
       "1999                                     17.13            32.31  \n",
       "1999                                     17.77            27.97  \n",
       "1999                                      6.61            16.83  \n",
       "1999                                      9.96            28.17  \n",
       "1999                                     16.92            45.59  \n",
       "...                                        ...              ...  \n",
       "2019                                     21.54            29.36  \n",
       "2019                                      5.61            15.99  \n",
       "2019                                     11.64            27.59  \n",
       "2019                                     19.79            45.64  \n",
       "2019                                     17.78            29.11  \n",
       "\n",
       "[126 rows x 25 columns]"
      ]
     },
     "metadata": {},
     "output_type": "display_data"
    }
   ],
   "source": [
    "path = r\"CBS.csv\"\n",
    "\n",
    "data = pd.read_csv(path,sep=';',skiprows=[0, 1, 2, 3 ],header=[0, 1, 2],index_col=[0])\n",
    "data = data.replace(',', '.', regex=True)\n",
    "\n",
    "data = data.dropna(thresh=data.shape[1] - 1)\n",
    "data = data.drop('Unnamed: 1_level_0',axis=1,level=0)\n",
    "data.index = data.index.str.replace('*', '', regex=False)\n",
    "display(data)\n",
    "\n"
   ]
  },
  {
   "cell_type": "code",
   "execution_count": 18,
   "id": "009d5ed6",
   "metadata": {},
   "outputs": [
    {
     "name": "stderr",
     "output_type": "stream",
     "text": [
      "C:\\Users\\vande\\AppData\\Local\\Temp\\ipykernel_19764\\1236275197.py:19: SettingWithCopyWarning:\n",
      "\n",
      "\n",
      "A value is trying to be set on a copy of a slice from a DataFrame.\n",
      "Try using .loc[row_indexer,col_indexer] = value instead\n",
      "\n",
      "See the caveats in the documentation: https://pandas.pydata.org/pandas-docs/stable/user_guide/indexing.html#returning-a-view-versus-a-copy\n",
      "\n",
      "C:\\Users\\vande\\AppData\\Local\\Temp\\ipykernel_19764\\1236275197.py:20: SettingWithCopyWarning:\n",
      "\n",
      "\n",
      "A value is trying to be set on a copy of a slice from a DataFrame.\n",
      "Try using .loc[row_indexer,col_indexer] = value instead\n",
      "\n",
      "See the caveats in the documentation: https://pandas.pydata.org/pandas-docs/stable/user_guide/indexing.html#returning-a-view-versus-a-copy\n",
      "\n",
      "C:\\Users\\vande\\AppData\\Local\\Temp\\ipykernel_19764\\1236275197.py:21: SettingWithCopyWarning:\n",
      "\n",
      "\n",
      "A value is trying to be set on a copy of a slice from a DataFrame.\n",
      "Try using .loc[row_indexer,col_indexer] = value instead\n",
      "\n",
      "See the caveats in the documentation: https://pandas.pydata.org/pandas-docs/stable/user_guide/indexing.html#returning-a-view-versus-a-copy\n",
      "\n",
      "C:\\Users\\vande\\AppData\\Local\\Temp\\ipykernel_19764\\1236275197.py:24: SettingWithCopyWarning:\n",
      "\n",
      "\n",
      "A value is trying to be set on a copy of a slice from a DataFrame.\n",
      "Try using .loc[row_indexer,col_indexer] = value instead\n",
      "\n",
      "See the caveats in the documentation: https://pandas.pydata.org/pandas-docs/stable/user_guide/indexing.html#returning-a-view-versus-a-copy\n",
      "\n",
      "C:\\Users\\vande\\AppData\\Local\\Temp\\ipykernel_19764\\1236275197.py:19: SettingWithCopyWarning:\n",
      "\n",
      "\n",
      "A value is trying to be set on a copy of a slice from a DataFrame.\n",
      "Try using .loc[row_indexer,col_indexer] = value instead\n",
      "\n",
      "See the caveats in the documentation: https://pandas.pydata.org/pandas-docs/stable/user_guide/indexing.html#returning-a-view-versus-a-copy\n",
      "\n",
      "C:\\Users\\vande\\AppData\\Local\\Temp\\ipykernel_19764\\1236275197.py:20: SettingWithCopyWarning:\n",
      "\n",
      "\n",
      "A value is trying to be set on a copy of a slice from a DataFrame.\n",
      "Try using .loc[row_indexer,col_indexer] = value instead\n",
      "\n",
      "See the caveats in the documentation: https://pandas.pydata.org/pandas-docs/stable/user_guide/indexing.html#returning-a-view-versus-a-copy\n",
      "\n",
      "C:\\Users\\vande\\AppData\\Local\\Temp\\ipykernel_19764\\1236275197.py:21: SettingWithCopyWarning:\n",
      "\n",
      "\n",
      "A value is trying to be set on a copy of a slice from a DataFrame.\n",
      "Try using .loc[row_indexer,col_indexer] = value instead\n",
      "\n",
      "See the caveats in the documentation: https://pandas.pydata.org/pandas-docs/stable/user_guide/indexing.html#returning-a-view-versus-a-copy\n",
      "\n",
      "C:\\Users\\vande\\AppData\\Local\\Temp\\ipykernel_19764\\1236275197.py:24: SettingWithCopyWarning:\n",
      "\n",
      "\n",
      "A value is trying to be set on a copy of a slice from a DataFrame.\n",
      "Try using .loc[row_indexer,col_indexer] = value instead\n",
      "\n",
      "See the caveats in the documentation: https://pandas.pydata.org/pandas-docs/stable/user_guide/indexing.html#returning-a-view-versus-a-copy\n",
      "\n",
      "C:\\Users\\vande\\AppData\\Local\\Temp\\ipykernel_19764\\1236275197.py:19: SettingWithCopyWarning:\n",
      "\n",
      "\n",
      "A value is trying to be set on a copy of a slice from a DataFrame.\n",
      "Try using .loc[row_indexer,col_indexer] = value instead\n",
      "\n",
      "See the caveats in the documentation: https://pandas.pydata.org/pandas-docs/stable/user_guide/indexing.html#returning-a-view-versus-a-copy\n",
      "\n",
      "C:\\Users\\vande\\AppData\\Local\\Temp\\ipykernel_19764\\1236275197.py:20: SettingWithCopyWarning:\n",
      "\n",
      "\n",
      "A value is trying to be set on a copy of a slice from a DataFrame.\n",
      "Try using .loc[row_indexer,col_indexer] = value instead\n",
      "\n",
      "See the caveats in the documentation: https://pandas.pydata.org/pandas-docs/stable/user_guide/indexing.html#returning-a-view-versus-a-copy\n",
      "\n",
      "C:\\Users\\vande\\AppData\\Local\\Temp\\ipykernel_19764\\1236275197.py:21: SettingWithCopyWarning:\n",
      "\n",
      "\n",
      "A value is trying to be set on a copy of a slice from a DataFrame.\n",
      "Try using .loc[row_indexer,col_indexer] = value instead\n",
      "\n",
      "See the caveats in the documentation: https://pandas.pydata.org/pandas-docs/stable/user_guide/indexing.html#returning-a-view-versus-a-copy\n",
      "\n",
      "C:\\Users\\vande\\AppData\\Local\\Temp\\ipykernel_19764\\1236275197.py:24: SettingWithCopyWarning:\n",
      "\n",
      "\n",
      "A value is trying to be set on a copy of a slice from a DataFrame.\n",
      "Try using .loc[row_indexer,col_indexer] = value instead\n",
      "\n",
      "See the caveats in the documentation: https://pandas.pydata.org/pandas-docs/stable/user_guide/indexing.html#returning-a-view-versus-a-copy\n",
      "\n",
      "C:\\Users\\vande\\AppData\\Local\\Temp\\ipykernel_19764\\1236275197.py:19: SettingWithCopyWarning:\n",
      "\n",
      "\n",
      "A value is trying to be set on a copy of a slice from a DataFrame.\n",
      "Try using .loc[row_indexer,col_indexer] = value instead\n",
      "\n",
      "See the caveats in the documentation: https://pandas.pydata.org/pandas-docs/stable/user_guide/indexing.html#returning-a-view-versus-a-copy\n",
      "\n",
      "C:\\Users\\vande\\AppData\\Local\\Temp\\ipykernel_19764\\1236275197.py:20: SettingWithCopyWarning:\n",
      "\n",
      "\n",
      "A value is trying to be set on a copy of a slice from a DataFrame.\n",
      "Try using .loc[row_indexer,col_indexer] = value instead\n",
      "\n",
      "See the caveats in the documentation: https://pandas.pydata.org/pandas-docs/stable/user_guide/indexing.html#returning-a-view-versus-a-copy\n",
      "\n",
      "C:\\Users\\vande\\AppData\\Local\\Temp\\ipykernel_19764\\1236275197.py:21: SettingWithCopyWarning:\n",
      "\n",
      "\n",
      "A value is trying to be set on a copy of a slice from a DataFrame.\n",
      "Try using .loc[row_indexer,col_indexer] = value instead\n",
      "\n",
      "See the caveats in the documentation: https://pandas.pydata.org/pandas-docs/stable/user_guide/indexing.html#returning-a-view-versus-a-copy\n",
      "\n",
      "C:\\Users\\vande\\AppData\\Local\\Temp\\ipykernel_19764\\1236275197.py:24: SettingWithCopyWarning:\n",
      "\n",
      "\n",
      "A value is trying to be set on a copy of a slice from a DataFrame.\n",
      "Try using .loc[row_indexer,col_indexer] = value instead\n",
      "\n",
      "See the caveats in the documentation: https://pandas.pydata.org/pandas-docs/stable/user_guide/indexing.html#returning-a-view-versus-a-copy\n",
      "\n",
      "C:\\Users\\vande\\AppData\\Local\\Temp\\ipykernel_19764\\1236275197.py:19: SettingWithCopyWarning:\n",
      "\n",
      "\n",
      "A value is trying to be set on a copy of a slice from a DataFrame.\n",
      "Try using .loc[row_indexer,col_indexer] = value instead\n",
      "\n",
      "See the caveats in the documentation: https://pandas.pydata.org/pandas-docs/stable/user_guide/indexing.html#returning-a-view-versus-a-copy\n",
      "\n",
      "C:\\Users\\vande\\AppData\\Local\\Temp\\ipykernel_19764\\1236275197.py:20: SettingWithCopyWarning:\n",
      "\n",
      "\n",
      "A value is trying to be set on a copy of a slice from a DataFrame.\n",
      "Try using .loc[row_indexer,col_indexer] = value instead\n",
      "\n",
      "See the caveats in the documentation: https://pandas.pydata.org/pandas-docs/stable/user_guide/indexing.html#returning-a-view-versus-a-copy\n",
      "\n",
      "C:\\Users\\vande\\AppData\\Local\\Temp\\ipykernel_19764\\1236275197.py:21: SettingWithCopyWarning:\n",
      "\n",
      "\n",
      "A value is trying to be set on a copy of a slice from a DataFrame.\n",
      "Try using .loc[row_indexer,col_indexer] = value instead\n",
      "\n",
      "See the caveats in the documentation: https://pandas.pydata.org/pandas-docs/stable/user_guide/indexing.html#returning-a-view-versus-a-copy\n",
      "\n",
      "C:\\Users\\vande\\AppData\\Local\\Temp\\ipykernel_19764\\1236275197.py:24: SettingWithCopyWarning:\n",
      "\n",
      "\n",
      "A value is trying to be set on a copy of a slice from a DataFrame.\n",
      "Try using .loc[row_indexer,col_indexer] = value instead\n",
      "\n",
      "See the caveats in the documentation: https://pandas.pydata.org/pandas-docs/stable/user_guide/indexing.html#returning-a-view-versus-a-copy\n",
      "\n",
      "C:\\Users\\vande\\AppData\\Local\\Temp\\ipykernel_19764\\1236275197.py:19: SettingWithCopyWarning:\n",
      "\n",
      "\n",
      "A value is trying to be set on a copy of a slice from a DataFrame.\n",
      "Try using .loc[row_indexer,col_indexer] = value instead\n",
      "\n",
      "See the caveats in the documentation: https://pandas.pydata.org/pandas-docs/stable/user_guide/indexing.html#returning-a-view-versus-a-copy\n",
      "\n",
      "C:\\Users\\vande\\AppData\\Local\\Temp\\ipykernel_19764\\1236275197.py:20: SettingWithCopyWarning:\n",
      "\n",
      "\n",
      "A value is trying to be set on a copy of a slice from a DataFrame.\n",
      "Try using .loc[row_indexer,col_indexer] = value instead\n",
      "\n",
      "See the caveats in the documentation: https://pandas.pydata.org/pandas-docs/stable/user_guide/indexing.html#returning-a-view-versus-a-copy\n",
      "\n",
      "C:\\Users\\vande\\AppData\\Local\\Temp\\ipykernel_19764\\1236275197.py:21: SettingWithCopyWarning:\n",
      "\n",
      "\n",
      "A value is trying to be set on a copy of a slice from a DataFrame.\n",
      "Try using .loc[row_indexer,col_indexer] = value instead\n",
      "\n",
      "See the caveats in the documentation: https://pandas.pydata.org/pandas-docs/stable/user_guide/indexing.html#returning-a-view-versus-a-copy\n",
      "\n",
      "C:\\Users\\vande\\AppData\\Local\\Temp\\ipykernel_19764\\1236275197.py:24: SettingWithCopyWarning:\n",
      "\n",
      "\n",
      "A value is trying to be set on a copy of a slice from a DataFrame.\n",
      "Try using .loc[row_indexer,col_indexer] = value instead\n",
      "\n",
      "See the caveats in the documentation: https://pandas.pydata.org/pandas-docs/stable/user_guide/indexing.html#returning-a-view-versus-a-copy\n",
      "\n",
      "C:\\Users\\vande\\AppData\\Local\\Temp\\ipykernel_19764\\1236275197.py:19: SettingWithCopyWarning:\n",
      "\n",
      "\n",
      "A value is trying to be set on a copy of a slice from a DataFrame.\n",
      "Try using .loc[row_indexer,col_indexer] = value instead\n",
      "\n",
      "See the caveats in the documentation: https://pandas.pydata.org/pandas-docs/stable/user_guide/indexing.html#returning-a-view-versus-a-copy\n",
      "\n",
      "C:\\Users\\vande\\AppData\\Local\\Temp\\ipykernel_19764\\1236275197.py:20: SettingWithCopyWarning:\n",
      "\n",
      "\n",
      "A value is trying to be set on a copy of a slice from a DataFrame.\n",
      "Try using .loc[row_indexer,col_indexer] = value instead\n",
      "\n",
      "See the caveats in the documentation: https://pandas.pydata.org/pandas-docs/stable/user_guide/indexing.html#returning-a-view-versus-a-copy\n",
      "\n",
      "C:\\Users\\vande\\AppData\\Local\\Temp\\ipykernel_19764\\1236275197.py:21: SettingWithCopyWarning:\n",
      "\n",
      "\n",
      "A value is trying to be set on a copy of a slice from a DataFrame.\n",
      "Try using .loc[row_indexer,col_indexer] = value instead\n",
      "\n",
      "See the caveats in the documentation: https://pandas.pydata.org/pandas-docs/stable/user_guide/indexing.html#returning-a-view-versus-a-copy\n",
      "\n",
      "C:\\Users\\vande\\AppData\\Local\\Temp\\ipykernel_19764\\1236275197.py:24: SettingWithCopyWarning:\n",
      "\n",
      "\n",
      "A value is trying to be set on a copy of a slice from a DataFrame.\n",
      "Try using .loc[row_indexer,col_indexer] = value instead\n",
      "\n",
      "See the caveats in the documentation: https://pandas.pydata.org/pandas-docs/stable/user_guide/indexing.html#returning-a-view-versus-a-copy\n",
      "\n",
      "C:\\Users\\vande\\AppData\\Local\\Temp\\ipykernel_19764\\1236275197.py:19: SettingWithCopyWarning:\n",
      "\n",
      "\n",
      "A value is trying to be set on a copy of a slice from a DataFrame.\n",
      "Try using .loc[row_indexer,col_indexer] = value instead\n",
      "\n",
      "See the caveats in the documentation: https://pandas.pydata.org/pandas-docs/stable/user_guide/indexing.html#returning-a-view-versus-a-copy\n",
      "\n",
      "C:\\Users\\vande\\AppData\\Local\\Temp\\ipykernel_19764\\1236275197.py:20: SettingWithCopyWarning:\n",
      "\n",
      "\n",
      "A value is trying to be set on a copy of a slice from a DataFrame.\n",
      "Try using .loc[row_indexer,col_indexer] = value instead\n",
      "\n",
      "See the caveats in the documentation: https://pandas.pydata.org/pandas-docs/stable/user_guide/indexing.html#returning-a-view-versus-a-copy\n",
      "\n",
      "C:\\Users\\vande\\AppData\\Local\\Temp\\ipykernel_19764\\1236275197.py:21: SettingWithCopyWarning:\n",
      "\n",
      "\n",
      "A value is trying to be set on a copy of a slice from a DataFrame.\n",
      "Try using .loc[row_indexer,col_indexer] = value instead\n",
      "\n",
      "See the caveats in the documentation: https://pandas.pydata.org/pandas-docs/stable/user_guide/indexing.html#returning-a-view-versus-a-copy\n",
      "\n",
      "C:\\Users\\vande\\AppData\\Local\\Temp\\ipykernel_19764\\1236275197.py:24: SettingWithCopyWarning:\n",
      "\n",
      "\n",
      "A value is trying to be set on a copy of a slice from a DataFrame.\n",
      "Try using .loc[row_indexer,col_indexer] = value instead\n",
      "\n",
      "See the caveats in the documentation: https://pandas.pydata.org/pandas-docs/stable/user_guide/indexing.html#returning-a-view-versus-a-copy\n",
      "\n"
     ]
    },
    {
     "data": {
      "text/html": [
       "<div>\n",
       "<style scoped>\n",
       "    .dataframe tbody tr th:only-of-type {\n",
       "        vertical-align: middle;\n",
       "    }\n",
       "\n",
       "    .dataframe tbody tr th {\n",
       "        vertical-align: top;\n",
       "    }\n",
       "\n",
       "    .dataframe thead th {\n",
       "        text-align: right;\n",
       "    }\n",
       "</style>\n",
       "<table border=\"1\" class=\"dataframe\">\n",
       "  <thead>\n",
       "    <tr style=\"text-align: right;\">\n",
       "      <th>Perioden</th>\n",
       "      <th>Reismotieven</th>\n",
       "      <th>aantal</th>\n",
       "      <th>km</th>\n",
       "      <th>Minuten</th>\n",
       "      <th>snelheid</th>\n",
       "    </tr>\n",
       "  </thead>\n",
       "  <tbody>\n",
       "    <tr>\n",
       "      <th>1999</th>\n",
       "      <td>Totaal</td>\n",
       "      <td>0.87</td>\n",
       "      <td>3.18</td>\n",
       "      <td>19.02</td>\n",
       "      <td>10.031546</td>\n",
       "    </tr>\n",
       "    <tr>\n",
       "      <th>1999</th>\n",
       "      <td>Van en naar het werk</td>\n",
       "      <td>0.15</td>\n",
       "      <td>3.50</td>\n",
       "      <td>17.29</td>\n",
       "      <td>12.145749</td>\n",
       "    </tr>\n",
       "    <tr>\n",
       "      <th>1999</th>\n",
       "      <td>Winkelen. boodschappen doen</td>\n",
       "      <td>0.20</td>\n",
       "      <td>1.84</td>\n",
       "      <td>12.41</td>\n",
       "      <td>8.896052</td>\n",
       "    </tr>\n",
       "    <tr>\n",
       "      <th>1999</th>\n",
       "      <td>Onderwijs volgen. cursus. kinderopvang</td>\n",
       "      <td>0.12</td>\n",
       "      <td>2.81</td>\n",
       "      <td>15.61</td>\n",
       "      <td>10.800769</td>\n",
       "    </tr>\n",
       "    <tr>\n",
       "      <th>1999</th>\n",
       "      <td>Vrije tijd</td>\n",
       "      <td>0.27</td>\n",
       "      <td>4.61</td>\n",
       "      <td>28.74</td>\n",
       "      <td>9.624217</td>\n",
       "    </tr>\n",
       "    <tr>\n",
       "      <th>...</th>\n",
       "      <td>...</td>\n",
       "      <td>...</td>\n",
       "      <td>...</td>\n",
       "      <td>...</td>\n",
       "      <td>...</td>\n",
       "    </tr>\n",
       "    <tr>\n",
       "      <th>2019</th>\n",
       "      <td>Van en naar het werk</td>\n",
       "      <td>0.16</td>\n",
       "      <td>4.04</td>\n",
       "      <td>18.03</td>\n",
       "      <td>13.444260</td>\n",
       "    </tr>\n",
       "    <tr>\n",
       "      <th>2019</th>\n",
       "      <td>Winkelen. boodschappen doen</td>\n",
       "      <td>0.16</td>\n",
       "      <td>2.06</td>\n",
       "      <td>11.91</td>\n",
       "      <td>10.377834</td>\n",
       "    </tr>\n",
       "    <tr>\n",
       "      <th>2019</th>\n",
       "      <td>Onderwijs volgen. cursus. kinderopvang</td>\n",
       "      <td>0.13</td>\n",
       "      <td>3.26</td>\n",
       "      <td>16.69</td>\n",
       "      <td>11.719593</td>\n",
       "    </tr>\n",
       "    <tr>\n",
       "      <th>2019</th>\n",
       "      <td>Vrije tijd</td>\n",
       "      <td>0.27</td>\n",
       "      <td>5.12</td>\n",
       "      <td>31.04</td>\n",
       "      <td>9.896907</td>\n",
       "    </tr>\n",
       "    <tr>\n",
       "      <th>2019</th>\n",
       "      <td>Overige reismotieven</td>\n",
       "      <td>0.10</td>\n",
       "      <td>2.29</td>\n",
       "      <td>12.67</td>\n",
       "      <td>10.844515</td>\n",
       "    </tr>\n",
       "  </tbody>\n",
       "</table>\n",
       "<p>126 rows × 5 columns</p>\n",
       "</div>"
      ],
      "text/plain": [
       "Perioden                            Reismotieven  aantal    km  Minuten  \\\n",
       "1999                                      Totaal    0.87  3.18    19.02   \n",
       "1999                        Van en naar het werk    0.15  3.50    17.29   \n",
       "1999                 Winkelen. boodschappen doen    0.20  1.84    12.41   \n",
       "1999      Onderwijs volgen. cursus. kinderopvang    0.12  2.81    15.61   \n",
       "1999                                  Vrije tijd    0.27  4.61    28.74   \n",
       "...                                          ...     ...   ...      ...   \n",
       "2019                        Van en naar het werk    0.16  4.04    18.03   \n",
       "2019                 Winkelen. boodschappen doen    0.16  2.06    11.91   \n",
       "2019      Onderwijs volgen. cursus. kinderopvang    0.13  3.26    16.69   \n",
       "2019                                  Vrije tijd    0.27  5.12    31.04   \n",
       "2019                        Overige reismotieven    0.10  2.29    12.67   \n",
       "\n",
       "Perioden   snelheid  \n",
       "1999      10.031546  \n",
       "1999      12.145749  \n",
       "1999       8.896052  \n",
       "1999      10.800769  \n",
       "1999       9.624217  \n",
       "...             ...  \n",
       "2019      13.444260  \n",
       "2019      10.377834  \n",
       "2019      11.719593  \n",
       "2019       9.896907  \n",
       "2019      10.844515  \n",
       "\n",
       "[126 rows x 5 columns]"
      ]
     },
     "metadata": {},
     "output_type": "display_data"
    }
   ],
   "source": [
    "\n",
    "Total = data.iloc[:,[0, 1, 2, 3]]\n",
    "Car_driver = data.iloc[:,[0, 4, 5, 6]]\n",
    "Car_passenger = data.iloc[:,[0, 7, 8, 9]]\n",
    "Train = data.iloc[:,[0, 10, 11, 12]]\n",
    "Bus_tram_metro = data.iloc[:,[0, 13, 14, 15]]\n",
    "Bicycle = data.iloc[:,[0, 16, 17, 18]]\n",
    "Walking = data.iloc[:,[0, 19, 20, 21]]\n",
    "Others = data.iloc[:,[0, 22, 23, 24]]\n",
    "\n",
    "# Create a list of the datasets you want to process\n",
    "datasets = [Total, Car_driver, Car_passenger, Train, Bus_tram_metro, Bicycle, Walking, Others]\n",
    "\n",
    "# Iterate over each dataset\n",
    "for df in datasets:\n",
    "    # Drop the first two levels of the column index (if applicable)\n",
    "    df.columns = df.columns.droplevel([0, 1])\n",
    "    \n",
    "    # Convert relevant columns to numeric, handling errors\n",
    "    df['aantal'] = pd.to_numeric(df['aantal'], errors='coerce')\n",
    "    df['km'] = pd.to_numeric(df['km'], errors='coerce')\n",
    "    df['Minuten'] = pd.to_numeric(df['Minuten'], errors='coerce')\n",
    "    \n",
    "    # Calculate 'snelheid' (speed) by dividing distance by time in hours\n",
    "    df['snelheid'] = df['km'] / (df['Minuten'] / 60)\n",
    "    \n",
    "display(Bicycle)"
   ]
  },
  {
   "cell_type": "code",
   "execution_count": 26,
   "id": "81c242cd",
   "metadata": {},
   "outputs": [],
   "source": [
    "#display(totaal)"
   ]
  },
  {
   "cell_type": "code",
   "execution_count": 31,
   "id": "b425399a",
   "metadata": {},
   "outputs": [
    {
     "data": {
      "image/png": "[encoded data removed]",
      "text/plain": [
       "<Figure size 1000x700 with 1 Axes>"
      ]
     },
     "metadata": {},
     "output_type": "display_data"
    }
   ],
   "source": [
    "# totalen_totaal = totaal[totaal['Reismotieven'] == 'Totaal']\n",
    "# display(totalen_totaal)\n",
    "# totalen_totaal['snelheid'].plot()\n",
    "\n",
    "dataset_names = ['Total', 'Car_driver', 'Car_passenger', 'Train', 'Bus_tram_metro', 'Bicycle', 'Walking', 'Others']\n",
    "plt.figure(figsize=(10, 7))\n",
    "\n",
    "for i in range(len(datasets)):\n",
    "    df_name = f\"{dataset_names[i]}_totaal\"\n",
    "    naam = f\"{dataset_names[i]}_totaal\"\n",
    "    df_name = datasets[i][datasets[i]['Reismotieven'] == 'Totaal']\n",
    "    df_name['snelheid'].plot(label=naam)\n",
    "    plt.legend()\n",
    "\n",
    "plt.show()"
   ]
  },
  {
   "cell_type": "code",
   "execution_count": 34,
   "id": "8e0fb90d",
   "metadata": {},
   "outputs": [
    {
     "data": {
      "application/vnd.plotly.v1+json": {
       "config": {
        "plotlyServerURL": "https://plot.ly"
       },
       "data": [
        {
         "mode": "lines",
         "name": "Total_average",
         "type": "scatter",
         "x": [
          "1999",
          "2000",
          "2001",
          "2002",
          "2003",
          "2004",
          "2005",
          "2006",
          "2007",
          "2008",
          "2009",
          "2010",
          "2011",
          "2012",
          "2013",
          "2014",
          "2015",
          "2016",
          "2017",
          "2018",
          "2019"
         ],
         "y": [
          27.723440134907253,
          27.812895069532235,
          27.85804816223067,
          28.122605363984675,
          28.008456659619448,
          28.06615776081425,
          28.037146475306034,
          27.88518362178134,
          27.814070351758797,
          27.731738573259292,
          27.735368956743006,
          27.906382978723403,
          28.30808080808081,
          28.011744966442958,
          28.40101522842639,
          27.993352721229748,
          28.235294117647058,
          28.232365145228215,
          28.60696517412935,
          28.695652173913047,
          28.883374689826308
         ]
        },
        {
         "mode": "lines",
         "name": "Car_driver_average",
         "type": "scatter",
         "x": [
          "1999",
          "2000",
          "2001",
          "2002",
          "2003",
          "2004",
          "2005",
          "2006",
          "2007",
          "2008",
          "2009",
          "2010",
          "2011",
          "2012",
          "2013",
          "2014",
          "2015",
          "2016",
          "2017",
          "2018",
          "2019"
         ],
         "y": [
          40.552070263488076,
          40.76086956521739,
          40.95238095238095,
          41.01297614064462,
          41.38275718450645,
          41.30128470783257,
          41.76494845360824,
          41.93336075689017,
          41.88216039279868,
          41.65777595404186,
          41.9926500612495,
          42.18788125254168,
          43.01657905378083,
          42.77395875454913,
          43.09995953055443,
          43.28502415458938,
          43.57487922705314,
          43.627608346709465,
          43.95516413130505,
          44.50299401197604,
          44.616
         ]
        },
        {
         "mode": "lines",
         "name": "Car_passenger_average",
         "type": "scatter",
         "x": [
          "1999",
          "2000",
          "2001",
          "2002",
          "2003",
          "2004",
          "2005",
          "2006",
          "2007",
          "2008",
          "2009",
          "2010",
          "2011",
          "2012",
          "2013",
          "2014",
          "2015",
          "2016",
          "2017",
          "2018",
          "2019"
         ],
         "y": [
          40.19704433497537,
          40.261484098939924,
          40.56127886323269,
          40.662393162393165,
          41.16055535777857,
          41.19275825346113,
          41.581196581196586,
          41.56989247311828,
          41.39634801288937,
          40.592057761732846,
          41.05263157894737,
          41.32996024575352,
          42.22943722943724,
          41.6101083032491,
          42.33381502890174,
          42.61057173678533,
          42.795076031860965,
          42.400290065264684,
          42.82909090909091,
          43.470054446460985,
          43.786724700761695
         ]
        },
        {
         "mode": "lines",
         "name": "Train_average",
         "type": "scatter",
         "x": [
          "1999",
          "2000",
          "2001",
          "2002",
          "2003",
          "2004",
          "2005",
          "2006",
          "2007",
          "2008",
          "2009",
          "2010",
          "2011",
          "2012",
          "2013",
          "2014",
          "2015",
          "2016",
          "2017",
          "2018",
          "2019"
         ],
         "y": [
          60.649095200629425,
          60.55489964580874,
          60.46254200434868,
          60.21386138613861,
          59.79640718562874,
          59.46204423191872,
          59.05256845892465,
          59.04435483870968,
          58.896969696969705,
          59.17408906882591,
          59.04435483870968,
          58.858761634965596,
          58.64214992927863,
          58.617343844754394,
          58.596774193548384,
          58.47979087070179,
          58.55640921957137,
          58.72907000201735,
          58.68426395939087,
          58.44502935816966,
          58.42456069480914
         ]
        },
        {
         "mode": "lines",
         "name": "Bus_tram_metro_average",
         "type": "scatter",
         "x": [
          "1999",
          "2000",
          "2001",
          "2002",
          "2003",
          "2004",
          "2005",
          "2006",
          "2007",
          "2008",
          "2009",
          "2010",
          "2011",
          "2012",
          "2013",
          "2014",
          "2015",
          "2016",
          "2017",
          "2018",
          "2019"
         ],
         "y": [
          26.207650273224047,
          26.328096455973693,
          26.23204419889503,
          25.79646017699115,
          25.101363803907113,
          24.845132743362832,
          23.96901512357064,
          22.843319687383698,
          22.527881040892193,
          22.40747663551402,
          22.5979843225084,
          21.85698240359416,
          21.65481093223512,
          21.26268320180383,
          20.928652321630807,
          21.143286949981196,
          20.749148694665156,
          20.57012542759407,
          20.351816443594647,
          19.793340987370836,
          19.639293937068306
         ]
        },
        {
         "mode": "lines",
         "name": "Bicycle_average",
         "type": "scatter",
         "x": [
          "1999",
          "2000",
          "2001",
          "2002",
          "2003",
          "2004",
          "2005",
          "2006",
          "2007",
          "2008",
          "2009",
          "2010",
          "2011",
          "2012",
          "2013",
          "2014",
          "2015",
          "2016",
          "2017",
          "2018",
          "2019"
         ],
         "y": [
          10.031545741324921,
          10.105263157894738,
          10.174880763116057,
          10.229088971763453,
          10.246202200104767,
          10.309062336301729,
          10.346970481615744,
          10.460732984293193,
          10.482115085536547,
          10.560253699788584,
          10.58091286307054,
          10.597402597402596,
          10.631741140215718,
          10.644171779141105,
          10.728476821192052,
          10.682046138415243,
          10.75075075075075,
          10.783132530120481,
          10.862587763289868,
          10.90094574415132,
          10.895596239485402
         ]
        },
        {
         "mode": "lines",
         "name": "Walking_average",
         "type": "scatter",
         "x": [
          "1999",
          "2000",
          "2001",
          "2002",
          "2003",
          "2004",
          "2005",
          "2006",
          "2007",
          "2008",
          "2009",
          "2010",
          "2011",
          "2012",
          "2013",
          "2014",
          "2015",
          "2016",
          "2017",
          "2018",
          "2019"
         ],
         "y": [
          3.737422137038812,
          3.7801989578398865,
          3.8490566037735854,
          3.8353510895883782,
          3.826749167063303,
          3.869076697606253,
          3.978547050219405,
          3.9961941008563273,
          4.044943820224719,
          4.003954522985665,
          4.10958904109589,
          4.158714213962833,
          4.126829268292683,
          4.061010486177311,
          4.16791604197901,
          4.131147540983607,
          4.094052558782849,
          4.046511627906977,
          4.102325581395348,
          4.187353629976581,
          4.195213514781793
         ]
        },
        {
         "mode": "lines",
         "name": "Others_average",
         "type": "scatter",
         "x": [
          "1999",
          "2000",
          "2001",
          "2002",
          "2003",
          "2004",
          "2005",
          "2006",
          "2007",
          "2008",
          "2009",
          "2010",
          "2011",
          "2012",
          "2013",
          "2014",
          "2015",
          "2016",
          "2017",
          "2018",
          "2019"
         ],
         "y": [
          31.810584958217262,
          31.655172413793103,
          31.71830985915493,
          32.49607535321821,
          33.06535747161706,
          32.09345794392524,
          32.96527159394479,
          33.47616173808087,
          31.575200237318302,
          31.289614057107,
          29.92537313432836,
          30.643776824034337,
          32.46674727932285,
          32.11861815958423,
          32.78350515463917,
          31.62721006892419,
          33.29067641681901,
          31.72306737038187,
          32.89655172413793,
          33.41075794621027,
          33.51283656856606
         ]
        }
       ],
       "layout": {
        "autosize": true,
        "template": {
         "data": {
          "bar": [
           {
            "error_x": {
             "color": "#2a3f5f"
            },
            "error_y": {
             "color": "#2a3f5f"
            },
            "marker": {
             "line": {
              "color": "#E5ECF6",
              "width": 0.5
             },
             "pattern": {
              "fillmode": "overlay",
              "size": 10,
              "solidity": 0.2
             }
            },
            "type": "bar"
           }
          ],
          "barpolar": [
           {
            "marker": {
             "line": {
              "color": "#E5ECF6",
              "width": 0.5
             },
             "pattern": {
              "fillmode": "overlay",
              "size": 10,
              "solidity": 0.2
             }
            },
            "type": "barpolar"
           }
          ],
          "carpet": [
           {
            "aaxis": {
             "endlinecolor": "#2a3f5f",
             "gridcolor": "white",
             "linecolor": "white",
             "minorgridcolor": "white",
             "startlinecolor": "#2a3f5f"
            },
            "baxis": {
             "endlinecolor": "#2a3f5f",
             "gridcolor": "white",
             "linecolor": "white",
             "minorgridcolor": "white",
             "startlinecolor": "#2a3f5f"
            },
            "type": "carpet"
           }
          ],
          "choropleth": [
           {
            "colorbar": {
             "outlinewidth": 0,
             "ticks": ""
            },
            "type": "choropleth"
           }
          ],
          "contour": [
           {
            "colorbar": {
             "outlinewidth": 0,
             "ticks": ""
            },
            "colorscale": [
             [
              0,
              "#0d0887"
             ],
             [
              0.1111111111111111,
              "#46039f"
             ],
             [
              0.2222222222222222,
              "#7201a8"
             ],
             [
              0.3333333333333333,
              "#9c179e"
             ],
             [
              0.4444444444444444,
              "#bd3786"
             ],
             [
              0.5555555555555556,
              "#d8576b"
             ],
             [
              0.6666666666666666,
              "#ed7953"
             ],
             [
              0.7777777777777778,
              "#fb9f3a"
             ],
             [
              0.8888888888888888,
              "#fdca26"
             ],
             [
              1,
              "#f0f921"
             ]
            ],
            "type": "contour"
           }
          ],
          "contourcarpet": [
           {
            "colorbar": {
             "outlinewidth": 0,
             "ticks": ""
            },
            "type": "contourcarpet"
           }
          ],
          "heatmap": [
           {
            "colorbar": {
             "outlinewidth": 0,
             "ticks": ""
            },
            "colorscale": [
             [
              0,
              "#0d0887"
             ],
             [
              0.1111111111111111,
              "#46039f"
             ],
             [
              0.2222222222222222,
              "#7201a8"
             ],
             [
              0.3333333333333333,
              "#9c179e"
             ],
             [
              0.4444444444444444,
              "#bd3786"
             ],
             [
              0.5555555555555556,
              "#d8576b"
             ],
             [
              0.6666666666666666,
              "#ed7953"
             ],
             [
              0.7777777777777778,
              "#fb9f3a"
             ],
             [
              0.8888888888888888,
              "#fdca26"
             ],
             [
              1,
              "#f0f921"
             ]
            ],
            "type": "heatmap"
           }
          ],
          "heatmapgl": [
           {
            "colorbar": {
             "outlinewidth": 0,
             "ticks": ""
            },
            "colorscale": [
             [
              0,
              "#0d0887"
             ],
             [
              0.1111111111111111,
              "#46039f"
             ],
             [
              0.2222222222222222,
              "#7201a8"
             ],
             [
              0.3333333333333333,
              "#9c179e"
             ],
             [
              0.4444444444444444,
              "#bd3786"
             ],
             [
              0.5555555555555556,
              "#d8576b"
             ],
             [
              0.6666666666666666,
              "#ed7953"
             ],
             [
              0.7777777777777778,
              "#fb9f3a"
             ],
             [
              0.8888888888888888,
              "#fdca26"
             ],
             [
              1,
              "#f0f921"
             ]
            ],
            "type": "heatmapgl"
           }
          ],
          "histogram": [
           {
            "marker": {
             "pattern": {
              "fillmode": "overlay",
              "size": 10,
              "solidity": 0.2
             }
            },
            "type": "histogram"
           }
          ],
          "histogram2d": [
           {
            "colorbar": {
             "outlinewidth": 0,
             "ticks": ""
            },
            "colorscale": [
             [
              0,
              "#0d0887"
             ],
             [
              0.1111111111111111,
              "#46039f"
             ],
             [
              0.2222222222222222,
              "#7201a8"
             ],
             [
              0.3333333333333333,
              "#9c179e"
             ],
             [
              0.4444444444444444,
              "#bd3786"
             ],
             [
              0.5555555555555556,
              "#d8576b"
             ],
             [
              0.6666666666666666,
              "#ed7953"
             ],
             [
              0.7777777777777778,
              "#fb9f3a"
             ],
             [
              0.8888888888888888,
              "#fdca26"
             ],
             [
              1,
              "#f0f921"
             ]
            ],
            "type": "histogram2d"
           }
          ],
          "histogram2dcontour": [
           {
            "colorbar": {
             "outlinewidth": 0,
             "ticks": ""
            },
            "colorscale": [
             [
              0,
              "#0d0887"
             ],
             [
              0.1111111111111111,
              "#46039f"
             ],
             [
              0.2222222222222222,
              "#7201a8"
             ],
             [
              0.3333333333333333,
              "#9c179e"
             ],
             [
              0.4444444444444444,
              "#bd3786"
             ],
             [
              0.5555555555555556,
              "#d8576b"
             ],
             [
              0.6666666666666666,
              "#ed7953"
             ],
             [
              0.7777777777777778,
              "#fb9f3a"
             ],
             [
              0.8888888888888888,
              "#fdca26"
             ],
             [
              1,
              "#f0f921"
             ]
            ],
            "type": "histogram2dcontour"
           }
          ],
          "mesh3d": [
           {
            "colorbar": {
             "outlinewidth": 0,
             "ticks": ""
            },
            "type": "mesh3d"
           }
          ],
          "parcoords": [
           {
            "line": {
             "colorbar": {
              "outlinewidth": 0,
              "ticks": ""
             }
            },
            "type": "parcoords"
           }
          ],
          "pie": [
           {
            "automargin": true,
            "type": "pie"
           }
          ],
          "scatter": [
           {
            "fillpattern": {
             "fillmode": "overlay",
             "size": 10,
             "solidity": 0.2
            },
            "type": "scatter"
           }
          ],
          "scatter3d": [
           {
            "line": {
             "colorbar": {
              "outlinewidth": 0,
              "ticks": ""
             }
            },
            "marker": {
             "colorbar": {
              "outlinewidth": 0,
              "ticks": ""
             }
            },
            "type": "scatter3d"
           }
          ],
          "scattercarpet": [
           {
            "marker": {
             "colorbar": {
              "outlinewidth": 0,
              "ticks": ""
             }
            },
            "type": "scattercarpet"
           }
          ],
          "scattergeo": [
           {
            "marker": {
             "colorbar": {
              "outlinewidth": 0,
              "ticks": ""
             }
            },
            "type": "scattergeo"
           }
          ],
          "scattergl": [
           {
            "marker": {
             "colorbar": {
              "outlinewidth": 0,
              "ticks": ""
             }
            },
            "type": "scattergl"
           }
          ],
          "scattermapbox": [
           {
            "marker": {
             "colorbar": {
              "outlinewidth": 0,
              "ticks": ""
             }
            },
            "type": "scattermapbox"
           }
          ],
          "scatterpolar": [
           {
            "marker": {
             "colorbar": {
              "outlinewidth": 0,
              "ticks": ""
             }
            },
            "type": "scatterpolar"
           }
          ],
          "scatterpolargl": [
           {
            "marker": {
             "colorbar": {
              "outlinewidth": 0,
              "ticks": ""
             }
            },
            "type": "scatterpolargl"
           }
          ],
          "scatterternary": [
           {
            "marker": {
             "colorbar": {
              "outlinewidth": 0,
              "ticks": ""
             }
            },
            "type": "scatterternary"
           }
          ],
          "surface": [
           {
            "colorbar": {
             "outlinewidth": 0,
             "ticks": ""
            },
            "colorscale": [
             [
              0,
              "#0d0887"
             ],
             [
              0.1111111111111111,
              "#46039f"
             ],
             [
              0.2222222222222222,
              "#7201a8"
             ],
             [
              0.3333333333333333,
              "#9c179e"
             ],
             [
              0.4444444444444444,
              "#bd3786"
             ],
             [
              0.5555555555555556,
              "#d8576b"
             ],
             [
              0.6666666666666666,
              "#ed7953"
             ],
             [
              0.7777777777777778,
              "#fb9f3a"
             ],
             [
              0.8888888888888888,
              "#fdca26"
             ],
             [
              1,
              "#f0f921"
             ]
            ],
            "type": "surface"
           }
          ],
          "table": [
           {
            "cells": {
             "fill": {
              "color": "#EBF0F8"
             },
             "line": {
              "color": "white"
             }
            },
            "header": {
             "fill": {
              "color": "#C8D4E3"
             },
             "line": {
              "color": "white"
             }
            },
            "type": "table"
           }
          ]
         },
         "layout": {
          "annotationdefaults": {
           "arrowcolor": "#2a3f5f",
           "arrowhead": 0,
           "arrowwidth": 1
          },
          "autotypenumbers": "strict",
          "coloraxis": {
           "colorbar": {
            "outlinewidth": 0,
            "ticks": ""
           }
          },
          "colorscale": {
           "diverging": [
            [
             0,
             "#8e0152"
            ],
            [
             0.1,
             "#c51b7d"
            ],
            [
             0.2,
             "#de77ae"
            ],
            [
             0.3,
             "#f1b6da"
            ],
            [
             0.4,
             "#fde0ef"
            ],
            [
             0.5,
             "#f7f7f7"
            ],
            [
             0.6,
             "#e6f5d0"
            ],
            [
             0.7,
             "#b8e186"
            ],
            [
             0.8,
             "#7fbc41"
            ],
            [
             0.9,
             "#4d9221"
            ],
            [
             1,
             "#276419"
            ]
           ],
           "sequential": [
            [
             0,
             "#0d0887"
            ],
            [
             0.1111111111111111,
             "#46039f"
            ],
            [
             0.2222222222222222,
             "#7201a8"
            ],
            [
             0.3333333333333333,
             "#9c179e"
            ],
            [
             0.4444444444444444,
             "#bd3786"
            ],
            [
             0.5555555555555556,
             "#d8576b"
            ],
            [
             0.6666666666666666,
             "#ed7953"
            ],
            [
             0.7777777777777778,
             "#fb9f3a"
            ],
            [
             0.8888888888888888,
             "#fdca26"
            ],
            [
             1,
             "#f0f921"
            ]
           ],
           "sequentialminus": [
            [
             0,
             "#0d0887"
            ],
            [
             0.1111111111111111,
             "#46039f"
            ],
            [
             0.2222222222222222,
             "#7201a8"
            ],
            [
             0.3333333333333333,
             "#9c179e"
            ],
            [
             0.4444444444444444,
             "#bd3786"
            ],
            [
             0.5555555555555556,
             "#d8576b"
            ],
            [
             0.6666666666666666,
             "#ed7953"
            ],
            [
             0.7777777777777778,
             "#fb9f3a"
            ],
            [
             0.8888888888888888,
             "#fdca26"
            ],
            [
             1,
             "#f0f921"
            ]
           ]
          },
          "colorway": [
           "#636efa",
           "#EF553B",
           "#00cc96",
           "#ab63fa",
           "#FFA15A",
           "#19d3f3",
           "#FF6692",
           "#B6E880",
           "#FF97FF",
           "#FECB52"
          ],
          "font": {
           "color": "#2a3f5f"
          },
          "geo": {
           "bgcolor": "white",
           "lakecolor": "white",
           "landcolor": "#E5ECF6",
           "showlakes": true,
           "showland": true,
           "subunitcolor": "white"
          },
          "hoverlabel": {
           "align": "left"
          },
          "hovermode": "closest",
          "mapbox": {
           "style": "light"
          },
          "paper_bgcolor": "white",
          "plot_bgcolor": "#E5ECF6",
          "polar": {
           "angularaxis": {
            "gridcolor": "white",
            "linecolor": "white",
            "ticks": ""
           },
           "bgcolor": "#E5ECF6",
           "radialaxis": {
            "gridcolor": "white",
            "linecolor": "white",
            "ticks": ""
           }
          },
          "scene": {
           "xaxis": {
            "backgroundcolor": "#E5ECF6",
            "gridcolor": "white",
            "gridwidth": 2,
            "linecolor": "white",
            "showbackground": true,
            "ticks": "",
            "zerolinecolor": "white"
           },
           "yaxis": {
            "backgroundcolor": "#E5ECF6",
            "gridcolor": "white",
            "gridwidth": 2,
            "linecolor": "white",
            "showbackground": true,
            "ticks": "",
            "zerolinecolor": "white"
           },
           "zaxis": {
            "backgroundcolor": "#E5ECF6",
            "gridcolor": "white",
            "gridwidth": 2,
            "linecolor": "white",
            "showbackground": true,
            "ticks": "",
            "zerolinecolor": "white"
           }
          },
          "shapedefaults": {
           "line": {
            "color": "#2a3f5f"
           }
          },
          "ternary": {
           "aaxis": {
            "gridcolor": "white",
            "linecolor": "white",
            "ticks": ""
           },
           "baxis": {
            "gridcolor": "white",
            "linecolor": "white",
            "ticks": ""
           },
           "bgcolor": "#E5ECF6",
           "caxis": {
            "gridcolor": "white",
            "linecolor": "white",
            "ticks": ""
           }
          },
          "title": {
           "x": 0.05
          },
          "xaxis": {
           "automargin": true,
           "gridcolor": "white",
           "linecolor": "white",
           "ticks": "",
           "title": {
            "standoff": 15
           },
           "zerolinecolor": "white",
           "zerolinewidth": 2
          },
          "yaxis": {
           "automargin": true,
           "gridcolor": "white",
           "linecolor": "white",
           "ticks": "",
           "title": {
            "standoff": 15
           },
           "zerolinecolor": "white",
           "zerolinewidth": 2
          }
         }
        },
        "title": {
         "text": "Average speed per travel mode"
        },
        "xaxis": {
         "autorange": true,
         "range": [
          0,
          20
         ],
         "title": {
          "text": "year"
         },
         "type": "category"
        },
        "yaxis": {
         "autorange": true,
         "range": [
          0.575662522394889,
          63.810854815273345
         ],
         "title": {
          "text": "Speed (km/h)"
         },
         "type": "linear"
        }
       }
      },
      "image/png": "[encoded data removed]",
      "text/html": [
       "<div>                            <div id=\"5897ac45-a9c4-4d36-97bd-053bcf6dd3e1\" class=\"plotly-graph-div\" style=\"height:525px; width:100%;\"></div>            <script type=\"text/javascript\">                require([\"plotly\"], function(Plotly) {                    window.PLOTLYENV=window.PLOTLYENV || {};                                    if (document.getElementById(\"5897ac45-a9c4-4d36-97bd-053bcf6dd3e1\")) {                    Plotly.newPlot(                        \"5897ac45-a9c4-4d36-97bd-053bcf6dd3e1\",                        [{\"mode\":\"lines\",\"name\":\"Total_average\",\"x\":[\"1999\",\"2000\",\"2001\",\"2002\",\"2003\",\"2004\",\"2005\",\"2006\",\"2007\",\"2008\",\"2009\",\"2010\",\"2011\",\"2012\",\"2013\",\"2014\",\"2015\",\"2016\",\"2017\",\"2018\",\"2019\"],\"y\":[27.723440134907253,27.812895069532235,27.85804816223067,28.122605363984675,28.008456659619448,28.06615776081425,28.037146475306034,27.88518362178134,27.814070351758797,27.731738573259292,27.735368956743006,27.906382978723403,28.30808080808081,28.011744966442958,28.40101522842639,27.993352721229748,28.235294117647058,28.232365145228215,28.60696517412935,28.695652173913047,28.883374689826308],\"type\":\"scatter\"},{\"mode\":\"lines\",\"name\":\"Car_driver_average\",\"x\":[\"1999\",\"2000\",\"2001\",\"2002\",\"2003\",\"2004\",\"2005\",\"2006\",\"2007\",\"2008\",\"2009\",\"2010\",\"2011\",\"2012\",\"2013\",\"2014\",\"2015\",\"2016\",\"2017\",\"2018\",\"2019\"],\"y\":[40.552070263488076,40.76086956521739,40.95238095238095,41.01297614064462,41.38275718450645,41.30128470783257,41.76494845360824,41.93336075689017,41.88216039279868,41.65777595404186,41.9926500612495,42.18788125254168,43.01657905378083,42.77395875454913,43.09995953055443,43.28502415458938,43.57487922705314,43.627608346709465,43.95516413130505,44.50299401197604,44.616],\"type\":\"scatter\"},{\"mode\":\"lines\",\"name\":\"Car_passenger_average\",\"x\":[\"1999\",\"2000\",\"2001\",\"2002\",\"2003\",\"2004\",\"2005\",\"2006\",\"2007\",\"2008\",\"2009\",\"2010\",\"2011\",\"2012\",\"2013\",\"2014\",\"2015\",\"2016\",\"2017\",\"2018\",\"2019\"],\"y\":[40.19704433497537,40.261484098939924,40.56127886323269,40.662393162393165,41.16055535777857,41.19275825346113,41.581196581196586,41.56989247311828,41.39634801288937,40.592057761732846,41.05263157894737,41.32996024575352,42.22943722943724,41.6101083032491,42.33381502890174,42.61057173678533,42.795076031860965,42.400290065264684,42.82909090909091,43.470054446460985,43.786724700761695],\"type\":\"scatter\"},{\"mode\":\"lines\",\"name\":\"Train_average\",\"x\":[\"1999\",\"2000\",\"2001\",\"2002\",\"2003\",\"2004\",\"2005\",\"2006\",\"2007\",\"2008\",\"2009\",\"2010\",\"2011\",\"2012\",\"2013\",\"2014\",\"2015\",\"2016\",\"2017\",\"2018\",\"2019\"],\"y\":[60.649095200629425,60.55489964580874,60.46254200434868,60.21386138613861,59.79640718562874,59.46204423191872,59.05256845892465,59.04435483870968,58.896969696969705,59.17408906882591,59.04435483870968,58.858761634965596,58.64214992927863,58.617343844754394,58.596774193548384,58.47979087070179,58.55640921957137,58.72907000201735,58.68426395939087,58.44502935816966,58.42456069480914],\"type\":\"scatter\"},{\"mode\":\"lines\",\"name\":\"Bus_tram_metro_average\",\"x\":[\"1999\",\"2000\",\"2001\",\"2002\",\"2003\",\"2004\",\"2005\",\"2006\",\"2007\",\"2008\",\"2009\",\"2010\",\"2011\",\"2012\",\"2013\",\"2014\",\"2015\",\"2016\",\"2017\",\"2018\",\"2019\"],\"y\":[26.207650273224047,26.328096455973693,26.23204419889503,25.79646017699115,25.101363803907113,24.845132743362832,23.96901512357064,22.843319687383698,22.527881040892193,22.40747663551402,22.5979843225084,21.85698240359416,21.65481093223512,21.26268320180383,20.928652321630807,21.143286949981196,20.749148694665156,20.57012542759407,20.351816443594647,19.793340987370836,19.639293937068306],\"type\":\"scatter\"},{\"mode\":\"lines\",\"name\":\"Bicycle_average\",\"x\":[\"1999\",\"2000\",\"2001\",\"2002\",\"2003\",\"2004\",\"2005\",\"2006\",\"2007\",\"2008\",\"2009\",\"2010\",\"2011\",\"2012\",\"2013\",\"2014\",\"2015\",\"2016\",\"2017\",\"2018\",\"2019\"],\"y\":[10.031545741324921,10.105263157894738,10.174880763116057,10.229088971763453,10.246202200104767,10.309062336301729,10.346970481615744,10.460732984293193,10.482115085536547,10.560253699788584,10.58091286307054,10.597402597402596,10.631741140215718,10.644171779141105,10.728476821192052,10.682046138415243,10.75075075075075,10.783132530120481,10.862587763289868,10.90094574415132,10.895596239485402],\"type\":\"scatter\"},{\"mode\":\"lines\",\"name\":\"Walking_average\",\"x\":[\"1999\",\"2000\",\"2001\",\"2002\",\"2003\",\"2004\",\"2005\",\"2006\",\"2007\",\"2008\",\"2009\",\"2010\",\"2011\",\"2012\",\"2013\",\"2014\",\"2015\",\"2016\",\"2017\",\"2018\",\"2019\"],\"y\":[3.737422137038812,3.7801989578398865,3.8490566037735854,3.8353510895883782,3.826749167063303,3.869076697606253,3.978547050219405,3.9961941008563273,4.044943820224719,4.003954522985665,4.10958904109589,4.158714213962833,4.126829268292683,4.061010486177311,4.16791604197901,4.131147540983607,4.094052558782849,4.046511627906977,4.102325581395348,4.187353629976581,4.195213514781793],\"type\":\"scatter\"},{\"mode\":\"lines\",\"name\":\"Others_average\",\"x\":[\"1999\",\"2000\",\"2001\",\"2002\",\"2003\",\"2004\",\"2005\",\"2006\",\"2007\",\"2008\",\"2009\",\"2010\",\"2011\",\"2012\",\"2013\",\"2014\",\"2015\",\"2016\",\"2017\",\"2018\",\"2019\"],\"y\":[31.810584958217262,31.655172413793103,31.71830985915493,32.49607535321821,33.06535747161706,32.09345794392524,32.96527159394479,33.47616173808087,31.575200237318302,31.289614057107,29.92537313432836,30.643776824034337,32.46674727932285,32.11861815958423,32.78350515463917,31.62721006892419,33.29067641681901,31.72306737038187,32.89655172413793,33.41075794621027,33.51283656856606],\"type\":\"scatter\"}],                        {\"template\":{\"data\":{\"histogram2dcontour\":[{\"type\":\"histogram2dcontour\",\"colorbar\":{\"outlinewidth\":0,\"ticks\":\"\"},\"colorscale\":[[0.0,\"#0d0887\"],[0.1111111111111111,\"#46039f\"],[0.2222222222222222,\"#7201a8\"],[0.3333333333333333,\"#9c179e\"],[0.4444444444444444,\"#bd3786\"],[0.5555555555555556,\"#d8576b\"],[0.6666666666666666,\"#ed7953\"],[0.7777777777777778,\"#fb9f3a\"],[0.8888888888888888,\"#fdca26\"],[1.0,\"#f0f921\"]]}],\"choropleth\":[{\"type\":\"choropleth\",\"colorbar\":{\"outlinewidth\":0,\"ticks\":\"\"}}],\"histogram2d\":[{\"type\":\"histogram2d\",\"colorbar\":{\"outlinewidth\":0,\"ticks\":\"\"},\"colorscale\":[[0.0,\"#0d0887\"],[0.1111111111111111,\"#46039f\"],[0.2222222222222222,\"#7201a8\"],[0.3333333333333333,\"#9c179e\"],[0.4444444444444444,\"#bd3786\"],[0.5555555555555556,\"#d8576b\"],[0.6666666666666666,\"#ed7953\"],[0.7777777777777778,\"#fb9f3a\"],[0.8888888888888888,\"#fdca26\"],[1.0,\"#f0f921\"]]}],\"heatmap\":[{\"type\":\"heatmap\",\"colorbar\":{\"outlinewidth\":0,\"ticks\":\"\"},\"colorscale\":[[0.0,\"#0d0887\"],[0.1111111111111111,\"#46039f\"],[0.2222222222222222,\"#7201a8\"],[0.3333333333333333,\"#9c179e\"],[0.4444444444444444,\"#bd3786\"],[0.5555555555555556,\"#d8576b\"],[0.6666666666666666,\"#ed7953\"],[0.7777777777777778,\"#fb9f3a\"],[0.8888888888888888,\"#fdca26\"],[1.0,\"#f0f921\"]]}],\"heatmapgl\":[{\"type\":\"heatmapgl\",\"colorbar\":{\"outlinewidth\":0,\"ticks\":\"\"},\"colorscale\":[[0.0,\"#0d0887\"],[0.1111111111111111,\"#46039f\"],[0.2222222222222222,\"#7201a8\"],[0.3333333333333333,\"#9c179e\"],[0.4444444444444444,\"#bd3786\"],[0.5555555555555556,\"#d8576b\"],[0.6666666666666666,\"#ed7953\"],[0.7777777777777778,\"#fb9f3a\"],[0.8888888888888888,\"#fdca26\"],[1.0,\"#f0f921\"]]}],\"contourcarpet\":[{\"type\":\"contourcarpet\",\"colorbar\":{\"outlinewidth\":0,\"ticks\":\"\"}}],\"contour\":[{\"type\":\"contour\",\"colorbar\":{\"outlinewidth\":0,\"ticks\":\"\"},\"colorscale\":[[0.0,\"#0d0887\"],[0.1111111111111111,\"#46039f\"],[0.2222222222222222,\"#7201a8\"],[0.3333333333333333,\"#9c179e\"],[0.4444444444444444,\"#bd3786\"],[0.5555555555555556,\"#d8576b\"],[0.6666666666666666,\"#ed7953\"],[0.7777777777777778,\"#fb9f3a\"],[0.8888888888888888,\"#fdca26\"],[1.0,\"#f0f921\"]]}],\"surface\":[{\"type\":\"surface\",\"colorbar\":{\"outlinewidth\":0,\"ticks\":\"\"},\"colorscale\":[[0.0,\"#0d0887\"],[0.1111111111111111,\"#46039f\"],[0.2222222222222222,\"#7201a8\"],[0.3333333333333333,\"#9c179e\"],[0.4444444444444444,\"#bd3786\"],[0.5555555555555556,\"#d8576b\"],[0.6666666666666666,\"#ed7953\"],[0.7777777777777778,\"#fb9f3a\"],[0.8888888888888888,\"#fdca26\"],[1.0,\"#f0f921\"]]}],\"mesh3d\":[{\"type\":\"mesh3d\",\"colorbar\":{\"outlinewidth\":0,\"ticks\":\"\"}}],\"scatter\":[{\"fillpattern\":{\"fillmode\":\"overlay\",\"size\":10,\"solidity\":0.2},\"type\":\"scatter\"}],\"parcoords\":[{\"type\":\"parcoords\",\"line\":{\"colorbar\":{\"outlinewidth\":0,\"ticks\":\"\"}}}],\"scatterpolargl\":[{\"type\":\"scatterpolargl\",\"marker\":{\"colorbar\":{\"outlinewidth\":0,\"ticks\":\"\"}}}],\"bar\":[{\"error_x\":{\"color\":\"#2a3f5f\"},\"error_y\":{\"color\":\"#2a3f5f\"},\"marker\":{\"line\":{\"color\":\"#E5ECF6\",\"width\":0.5},\"pattern\":{\"fillmode\":\"overlay\",\"size\":10,\"solidity\":0.2}},\"type\":\"bar\"}],\"scattergeo\":[{\"type\":\"scattergeo\",\"marker\":{\"colorbar\":{\"outlinewidth\":0,\"ticks\":\"\"}}}],\"scatterpolar\":[{\"type\":\"scatterpolar\",\"marker\":{\"colorbar\":{\"outlinewidth\":0,\"ticks\":\"\"}}}],\"histogram\":[{\"marker\":{\"pattern\":{\"fillmode\":\"overlay\",\"size\":10,\"solidity\":0.2}},\"type\":\"histogram\"}],\"scattergl\":[{\"type\":\"scattergl\",\"marker\":{\"colorbar\":{\"outlinewidth\":0,\"ticks\":\"\"}}}],\"scatter3d\":[{\"type\":\"scatter3d\",\"line\":{\"colorbar\":{\"outlinewidth\":0,\"ticks\":\"\"}},\"marker\":{\"colorbar\":{\"outlinewidth\":0,\"ticks\":\"\"}}}],\"scattermapbox\":[{\"type\":\"scattermapbox\",\"marker\":{\"colorbar\":{\"outlinewidth\":0,\"ticks\":\"\"}}}],\"scatterternary\":[{\"type\":\"scatterternary\",\"marker\":{\"colorbar\":{\"outlinewidth\":0,\"ticks\":\"\"}}}],\"scattercarpet\":[{\"type\":\"scattercarpet\",\"marker\":{\"colorbar\":{\"outlinewidth\":0,\"ticks\":\"\"}}}],\"carpet\":[{\"aaxis\":{\"endlinecolor\":\"#2a3f5f\",\"gridcolor\":\"white\",\"linecolor\":\"white\",\"minorgridcolor\":\"white\",\"startlinecolor\":\"#2a3f5f\"},\"baxis\":{\"endlinecolor\":\"#2a3f5f\",\"gridcolor\":\"white\",\"linecolor\":\"white\",\"minorgridcolor\":\"white\",\"startlinecolor\":\"#2a3f5f\"},\"type\":\"carpet\"}],\"table\":[{\"cells\":{\"fill\":{\"color\":\"#EBF0F8\"},\"line\":{\"color\":\"white\"}},\"header\":{\"fill\":{\"color\":\"#C8D4E3\"},\"line\":{\"color\":\"white\"}},\"type\":\"table\"}],\"barpolar\":[{\"marker\":{\"line\":{\"color\":\"#E5ECF6\",\"width\":0.5},\"pattern\":{\"fillmode\":\"overlay\",\"size\":10,\"solidity\":0.2}},\"type\":\"barpolar\"}],\"pie\":[{\"automargin\":true,\"type\":\"pie\"}]},\"layout\":{\"autotypenumbers\":\"strict\",\"colorway\":[\"#636efa\",\"#EF553B\",\"#00cc96\",\"#ab63fa\",\"#FFA15A\",\"#19d3f3\",\"#FF6692\",\"#B6E880\",\"#FF97FF\",\"#FECB52\"],\"font\":{\"color\":\"#2a3f5f\"},\"hovermode\":\"closest\",\"hoverlabel\":{\"align\":\"left\"},\"paper_bgcolor\":\"white\",\"plot_bgcolor\":\"#E5ECF6\",\"polar\":{\"bgcolor\":\"#E5ECF6\",\"angularaxis\":{\"gridcolor\":\"white\",\"linecolor\":\"white\",\"ticks\":\"\"},\"radialaxis\":{\"gridcolor\":\"white\",\"linecolor\":\"white\",\"ticks\":\"\"}},\"ternary\":{\"bgcolor\":\"#E5ECF6\",\"aaxis\":{\"gridcolor\":\"white\",\"linecolor\":\"white\",\"ticks\":\"\"},\"baxis\":{\"gridcolor\":\"white\",\"linecolor\":\"white\",\"ticks\":\"\"},\"caxis\":{\"gridcolor\":\"white\",\"linecolor\":\"white\",\"ticks\":\"\"}},\"coloraxis\":{\"colorbar\":{\"outlinewidth\":0,\"ticks\":\"\"}},\"colorscale\":{\"sequential\":[[0.0,\"#0d0887\"],[0.1111111111111111,\"#46039f\"],[0.2222222222222222,\"#7201a8\"],[0.3333333333333333,\"#9c179e\"],[0.4444444444444444,\"#bd3786\"],[0.5555555555555556,\"#d8576b\"],[0.6666666666666666,\"#ed7953\"],[0.7777777777777778,\"#fb9f3a\"],[0.8888888888888888,\"#fdca26\"],[1.0,\"#f0f921\"]],\"sequentialminus\":[[0.0,\"#0d0887\"],[0.1111111111111111,\"#46039f\"],[0.2222222222222222,\"#7201a8\"],[0.3333333333333333,\"#9c179e\"],[0.4444444444444444,\"#bd3786\"],[0.5555555555555556,\"#d8576b\"],[0.6666666666666666,\"#ed7953\"],[0.7777777777777778,\"#fb9f3a\"],[0.8888888888888888,\"#fdca26\"],[1.0,\"#f0f921\"]],\"diverging\":[[0,\"#8e0152\"],[0.1,\"#c51b7d\"],[0.2,\"#de77ae\"],[0.3,\"#f1b6da\"],[0.4,\"#fde0ef\"],[0.5,\"#f7f7f7\"],[0.6,\"#e6f5d0\"],[0.7,\"#b8e186\"],[0.8,\"#7fbc41\"],[0.9,\"#4d9221\"],[1,\"#276419\"]]},\"xaxis\":{\"gridcolor\":\"white\",\"linecolor\":\"white\",\"ticks\":\"\",\"title\":{\"standoff\":15},\"zerolinecolor\":\"white\",\"automargin\":true,\"zerolinewidth\":2},\"yaxis\":{\"gridcolor\":\"white\",\"linecolor\":\"white\",\"ticks\":\"\",\"title\":{\"standoff\":15},\"zerolinecolor\":\"white\",\"automargin\":true,\"zerolinewidth\":2},\"scene\":{\"xaxis\":{\"backgroundcolor\":\"#E5ECF6\",\"gridcolor\":\"white\",\"linecolor\":\"white\",\"showbackground\":true,\"ticks\":\"\",\"zerolinecolor\":\"white\",\"gridwidth\":2},\"yaxis\":{\"backgroundcolor\":\"#E5ECF6\",\"gridcolor\":\"white\",\"linecolor\":\"white\",\"showbackground\":true,\"ticks\":\"\",\"zerolinecolor\":\"white\",\"gridwidth\":2},\"zaxis\":{\"backgroundcolor\":\"#E5ECF6\",\"gridcolor\":\"white\",\"linecolor\":\"white\",\"showbackground\":true,\"ticks\":\"\",\"zerolinecolor\":\"white\",\"gridwidth\":2}},\"shapedefaults\":{\"line\":{\"color\":\"#2a3f5f\"}},\"annotationdefaults\":{\"arrowcolor\":\"#2a3f5f\",\"arrowhead\":0,\"arrowwidth\":1},\"geo\":{\"bgcolor\":\"white\",\"landcolor\":\"#E5ECF6\",\"subunitcolor\":\"white\",\"showland\":true,\"showlakes\":true,\"lakecolor\":\"white\"},\"title\":{\"x\":0.05},\"mapbox\":{\"style\":\"light\"}}},\"title\":{\"text\":\"Average speed per travel mode\"},\"xaxis\":{\"title\":{\"text\":\"year\"}},\"yaxis\":{\"title\":{\"text\":\"Speed (km\\u002fh)\"}}},                        {\"responsive\": true}                    ).then(function(){\n",
       "                            \n",
       "var gd = document.getElementById('5897ac45-a9c4-4d36-97bd-053bcf6dd3e1');\n",
       "var x = new MutationObserver(function (mutations, observer) {{\n",
       "        var display = window.getComputedStyle(gd).display;\n",
       "        if (!display || display === 'none') {{\n",
       "            console.log([gd, 'removed!']);\n",
       "            Plotly.purge(gd);\n",
       "            observer.disconnect();\n",
       "        }}\n",
       "}});\n",
       "\n",
       "// Listen for the removal of the full notebook cells\n",
       "var notebookContainer = gd.closest('#notebook-container');\n",
       "if (notebookContainer) {{\n",
       "    x.observe(notebookContainer, {childList: true});\n",
       "}}\n",
       "\n",
       "// Listen for the clearing of the current output cell\n",
       "var outputEl = gd.closest('.output');\n",
       "if (outputEl) {{\n",
       "    x.observe(outputEl, {childList: true});\n",
       "}}\n",
       "\n",
       "                        })                };                });            </script>        </div>"
      ]
     },
     "metadata": {},
     "output_type": "display_data"
    }
   ],
   "source": [
    "\n",
    "# Define the dataset names and create an empty figure\n",
    "fig = go.Figure()\n",
    "dataset_names = ['Total', 'Car_driver', 'Car_passenger', 'Train', 'Bus_tram_metro', 'Bicycle', 'Walking', 'Others']\n",
    "\n",
    "# Loop through the datasets and add traces directly to the figure\n",
    "for i in range(len(datasets)):\n",
    "    naam = f\"{dataset_names[i]}_average\"\n",
    "    df = datasets[i][datasets[i]['Reismotieven'] == 'Totaal']\n",
    "    fig.add_trace(\n",
    "        go.Scatter(\n",
    "            x=df.index,  # Use the index as the x-axis (or specify the desired column)\n",
    "            y=df['snelheid'],\n",
    "            mode='lines',\n",
    "            name=naam\n",
    "        )\n",
    "    )\n",
    "\n",
    "# Show the combined plot\n",
    "fig.update_layout(title='Average speed per travel mode', xaxis_title='year', yaxis_title='Speed (km/h)')\n",
    "fig.show()\n"
   ]
  },
  {
   "cell_type": "code",
   "execution_count": 36,
   "id": "d5b210c6",
   "metadata": {},
   "outputs": [
    {
     "data": {
      "application/vnd.plotly.v1+json": {
       "config": {
        "plotlyServerURL": "https://plot.ly"
       },
       "data": [
        {
         "mode": "lines",
         "name": "Car_driver_average",
         "type": "scatter",
         "x": [
          "1999",
          "2000",
          "2001",
          "2002",
          "2003",
          "2004",
          "2005",
          "2006",
          "2007",
          "2008",
          "2009",
          "2010",
          "2011",
          "2012",
          "2013",
          "2014",
          "2015",
          "2016",
          "2017",
          "2018",
          "2019"
         ],
         "y": [
          27.723440134907253,
          27.812895069532235,
          27.85804816223067,
          28.122605363984675,
          28.008456659619448,
          28.06615776081425,
          28.037146475306034,
          27.88518362178134,
          27.814070351758797,
          27.731738573259292,
          27.735368956743006,
          27.906382978723403,
          28.30808080808081,
          28.011744966442958,
          28.40101522842639,
          27.993352721229748,
          28.235294117647058,
          28.232365145228215,
          28.60696517412935,
          28.695652173913047,
          28.883374689826308
         ]
        },
        {
         "mode": "lines",
         "name": "Car_passenger_average",
         "type": "scatter",
         "x": [
          "1999",
          "2000",
          "2001",
          "2002",
          "2003",
          "2004",
          "2005",
          "2006",
          "2007",
          "2008",
          "2009",
          "2010",
          "2011",
          "2012",
          "2013",
          "2014",
          "2015",
          "2016",
          "2017",
          "2018",
          "2019"
         ],
         "y": [
          40.552070263488076,
          40.76086956521739,
          40.95238095238095,
          41.01297614064462,
          41.38275718450645,
          41.30128470783257,
          41.76494845360824,
          41.93336075689017,
          41.88216039279868,
          41.65777595404186,
          41.9926500612495,
          42.18788125254168,
          43.01657905378083,
          42.77395875454913,
          43.09995953055443,
          43.28502415458938,
          43.57487922705314,
          43.627608346709465,
          43.95516413130505,
          44.50299401197604,
          44.616
         ]
        },
        {
         "mode": "lines",
         "name": "Train_average",
         "type": "scatter",
         "x": [
          "1999",
          "2000",
          "2001",
          "2002",
          "2003",
          "2004",
          "2005",
          "2006",
          "2007",
          "2008",
          "2009",
          "2010",
          "2011",
          "2012",
          "2013",
          "2014",
          "2015",
          "2016",
          "2017",
          "2018",
          "2019"
         ],
         "y": [
          40.19704433497537,
          40.261484098939924,
          40.56127886323269,
          40.662393162393165,
          41.16055535777857,
          41.19275825346113,
          41.581196581196586,
          41.56989247311828,
          41.39634801288937,
          40.592057761732846,
          41.05263157894737,
          41.32996024575352,
          42.22943722943724,
          41.6101083032491,
          42.33381502890174,
          42.61057173678533,
          42.795076031860965,
          42.400290065264684,
          42.82909090909091,
          43.470054446460985,
          43.786724700761695
         ]
        },
        {
         "mode": "lines",
         "name": "Bus_tram_metro_average",
         "type": "scatter",
         "x": [
          "1999",
          "2000",
          "2001",
          "2002",
          "2003",
          "2004",
          "2005",
          "2006",
          "2007",
          "2008",
          "2009",
          "2010",
          "2011",
          "2012",
          "2013",
          "2014",
          "2015",
          "2016",
          "2017",
          "2018",
          "2019"
         ],
         "y": [
          60.649095200629425,
          60.55489964580874,
          60.46254200434868,
          60.21386138613861,
          59.79640718562874,
          59.46204423191872,
          59.05256845892465,
          59.04435483870968,
          58.896969696969705,
          59.17408906882591,
          59.04435483870968,
          58.858761634965596,
          58.64214992927863,
          58.617343844754394,
          58.596774193548384,
          58.47979087070179,
          58.55640921957137,
          58.72907000201735,
          58.68426395939087,
          58.44502935816966,
          58.42456069480914
         ]
        },
        {
         "mode": "lines",
         "name": "Bicycle_average",
         "type": "scatter",
         "x": [
          "1999",
          "2000",
          "2001",
          "2002",
          "2003",
          "2004",
          "2005",
          "2006",
          "2007",
          "2008",
          "2009",
          "2010",
          "2011",
          "2012",
          "2013",
          "2014",
          "2015",
          "2016",
          "2017",
          "2018",
          "2019"
         ],
         "y": [
          26.207650273224047,
          26.328096455973693,
          26.23204419889503,
          25.79646017699115,
          25.101363803907113,
          24.845132743362832,
          23.96901512357064,
          22.843319687383698,
          22.527881040892193,
          22.40747663551402,
          22.5979843225084,
          21.85698240359416,
          21.65481093223512,
          21.26268320180383,
          20.928652321630807,
          21.143286949981196,
          20.749148694665156,
          20.57012542759407,
          20.351816443594647,
          19.793340987370836,
          19.639293937068306
         ]
        },
        {
         "mode": "lines",
         "name": "Walking_average",
         "type": "scatter",
         "x": [
          "1999",
          "2000",
          "2001",
          "2002",
          "2003",
          "2004",
          "2005",
          "2006",
          "2007",
          "2008",
          "2009",
          "2010",
          "2011",
          "2012",
          "2013",
          "2014",
          "2015",
          "2016",
          "2017",
          "2018",
          "2019"
         ],
         "y": [
          10.031545741324921,
          10.105263157894738,
          10.174880763116057,
          10.229088971763453,
          10.246202200104767,
          10.309062336301729,
          10.346970481615744,
          10.460732984293193,
          10.482115085536547,
          10.560253699788584,
          10.58091286307054,
          10.597402597402596,
          10.631741140215718,
          10.644171779141105,
          10.728476821192052,
          10.682046138415243,
          10.75075075075075,
          10.783132530120481,
          10.862587763289868,
          10.90094574415132,
          10.895596239485402
         ]
        }
       ],
       "layout": {
        "template": {
         "data": {
          "bar": [
           {
            "error_x": {
             "color": "#2a3f5f"
            },
            "error_y": {
             "color": "#2a3f5f"
            },
            "marker": {
             "line": {
              "color": "#E5ECF6",
              "width": 0.5
             },
             "pattern": {
              "fillmode": "overlay",
              "size": 10,
              "solidity": 0.2
             }
            },
            "type": "bar"
           }
          ],
          "barpolar": [
           {
            "marker": {
             "line": {
              "color": "#E5ECF6",
              "width": 0.5
             },
             "pattern": {
              "fillmode": "overlay",
              "size": 10,
              "solidity": 0.2
             }
            },
            "type": "barpolar"
           }
          ],
          "carpet": [
           {
            "aaxis": {
             "endlinecolor": "#2a3f5f",
             "gridcolor": "white",
             "linecolor": "white",
             "minorgridcolor": "white",
             "startlinecolor": "#2a3f5f"
            },
            "baxis": {
             "endlinecolor": "#2a3f5f",
             "gridcolor": "white",
             "linecolor": "white",
             "minorgridcolor": "white",
             "startlinecolor": "#2a3f5f"
            },
            "type": "carpet"
           }
          ],
          "choropleth": [
           {
            "colorbar": {
             "outlinewidth": 0,
             "ticks": ""
            },
            "type": "choropleth"
           }
          ],
          "contour": [
           {
            "colorbar": {
             "outlinewidth": 0,
             "ticks": ""
            },
            "colorscale": [
             [
              0,
              "#0d0887"
             ],
             [
              0.1111111111111111,
              "#46039f"
             ],
             [
              0.2222222222222222,
              "#7201a8"
             ],
             [
              0.3333333333333333,
              "#9c179e"
             ],
             [
              0.4444444444444444,
              "#bd3786"
             ],
             [
              0.5555555555555556,
              "#d8576b"
             ],
             [
              0.6666666666666666,
              "#ed7953"
             ],
             [
              0.7777777777777778,
              "#fb9f3a"
             ],
             [
              0.8888888888888888,
              "#fdca26"
             ],
             [
              1,
              "#f0f921"
             ]
            ],
            "type": "contour"
           }
          ],
          "contourcarpet": [
           {
            "colorbar": {
             "outlinewidth": 0,
             "ticks": ""
            },
            "type": "contourcarpet"
           }
          ],
          "heatmap": [
           {
            "colorbar": {
             "outlinewidth": 0,
             "ticks": ""
            },
            "colorscale": [
             [
              0,
              "#0d0887"
             ],
             [
              0.1111111111111111,
              "#46039f"
             ],
             [
              0.2222222222222222,
              "#7201a8"
             ],
             [
              0.3333333333333333,
              "#9c179e"
             ],
             [
              0.4444444444444444,
              "#bd3786"
             ],
             [
              0.5555555555555556,
              "#d8576b"
             ],
             [
              0.6666666666666666,
              "#ed7953"
             ],
             [
              0.7777777777777778,
              "#fb9f3a"
             ],
             [
              0.8888888888888888,
              "#fdca26"
             ],
             [
              1,
              "#f0f921"
             ]
            ],
            "type": "heatmap"
           }
          ],
          "heatmapgl": [
           {
            "colorbar": {
             "outlinewidth": 0,
             "ticks": ""
            },
            "colorscale": [
             [
              0,
              "#0d0887"
             ],
             [
              0.1111111111111111,
              "#46039f"
             ],
             [
              0.2222222222222222,
              "#7201a8"
             ],
             [
              0.3333333333333333,
              "#9c179e"
             ],
             [
              0.4444444444444444,
              "#bd3786"
             ],
             [
              0.5555555555555556,
              "#d8576b"
             ],
             [
              0.6666666666666666,
              "#ed7953"
             ],
             [
              0.7777777777777778,
              "#fb9f3a"
             ],
             [
              0.8888888888888888,
              "#fdca26"
             ],
             [
              1,
              "#f0f921"
             ]
            ],
            "type": "heatmapgl"
           }
          ],
          "histogram": [
           {
            "marker": {
             "pattern": {
              "fillmode": "overlay",
              "size": 10,
              "solidity": 0.2
             }
            },
            "type": "histogram"
           }
          ],
          "histogram2d": [
           {
            "colorbar": {
             "outlinewidth": 0,
             "ticks": ""
            },
            "colorscale": [
             [
              0,
              "#0d0887"
             ],
             [
              0.1111111111111111,
              "#46039f"
             ],
             [
              0.2222222222222222,
              "#7201a8"
             ],
             [
              0.3333333333333333,
              "#9c179e"
             ],
             [
              0.4444444444444444,
              "#bd3786"
             ],
             [
              0.5555555555555556,
              "#d8576b"
             ],
             [
              0.6666666666666666,
              "#ed7953"
             ],
             [
              0.7777777777777778,
              "#fb9f3a"
             ],
             [
              0.8888888888888888,
              "#fdca26"
             ],
             [
              1,
              "#f0f921"
             ]
            ],
            "type": "histogram2d"
           }
          ],
          "histogram2dcontour": [
           {
            "colorbar": {
             "outlinewidth": 0,
             "ticks": ""
            },
            "colorscale": [
             [
              0,
              "#0d0887"
             ],
             [
              0.1111111111111111,
              "#46039f"
             ],
             [
              0.2222222222222222,
              "#7201a8"
             ],
             [
              0.3333333333333333,
              "#9c179e"
             ],
             [
              0.4444444444444444,
              "#bd3786"
             ],
             [
              0.5555555555555556,
              "#d8576b"
             ],
             [
              0.6666666666666666,
              "#ed7953"
             ],
             [
              0.7777777777777778,
              "#fb9f3a"
             ],
             [
              0.8888888888888888,
              "#fdca26"
             ],
             [
              1,
              "#f0f921"
             ]
            ],
            "type": "histogram2dcontour"
           }
          ],
          "mesh3d": [
           {
            "colorbar": {
             "outlinewidth": 0,
             "ticks": ""
            },
            "type": "mesh3d"
           }
          ],
          "parcoords": [
           {
            "line": {
             "colorbar": {
              "outlinewidth": 0,
              "ticks": ""
             }
            },
            "type": "parcoords"
           }
          ],
          "pie": [
           {
            "automargin": true,
            "type": "pie"
           }
          ],
          "scatter": [
           {
            "fillpattern": {
             "fillmode": "overlay",
             "size": 10,
             "solidity": 0.2
            },
            "type": "scatter"
           }
          ],
          "scatter3d": [
           {
            "line": {
             "colorbar": {
              "outlinewidth": 0,
              "ticks": ""
             }
            },
            "marker": {
             "colorbar": {
              "outlinewidth": 0,
              "ticks": ""
             }
            },
            "type": "scatter3d"
           }
          ],
          "scattercarpet": [
           {
            "marker": {
             "colorbar": {
              "outlinewidth": 0,
              "ticks": ""
             }
            },
            "type": "scattercarpet"
           }
          ],
          "scattergeo": [
           {
            "marker": {
             "colorbar": {
              "outlinewidth": 0,
              "ticks": ""
             }
            },
            "type": "scattergeo"
           }
          ],
          "scattergl": [
           {
            "marker": {
             "colorbar": {
              "outlinewidth": 0,
              "ticks": ""
             }
            },
            "type": "scattergl"
           }
          ],
          "scattermapbox": [
           {
            "marker": {
             "colorbar": {
              "outlinewidth": 0,
              "ticks": ""
             }
            },
            "type": "scattermapbox"
           }
          ],
          "scatterpolar": [
           {
            "marker": {
             "colorbar": {
              "outlinewidth": 0,
              "ticks": ""
             }
            },
            "type": "scatterpolar"
           }
          ],
          "scatterpolargl": [
           {
            "marker": {
             "colorbar": {
              "outlinewidth": 0,
              "ticks": ""
             }
            },
            "type": "scatterpolargl"
           }
          ],
          "scatterternary": [
           {
            "marker": {
             "colorbar": {
              "outlinewidth": 0,
              "ticks": ""
             }
            },
            "type": "scatterternary"
           }
          ],
          "surface": [
           {
            "colorbar": {
             "outlinewidth": 0,
             "ticks": ""
            },
            "colorscale": [
             [
              0,
              "#0d0887"
             ],
             [
              0.1111111111111111,
              "#46039f"
             ],
             [
              0.2222222222222222,
              "#7201a8"
             ],
             [
              0.3333333333333333,
              "#9c179e"
             ],
             [
              0.4444444444444444,
              "#bd3786"
             ],
             [
              0.5555555555555556,
              "#d8576b"
             ],
             [
              0.6666666666666666,
              "#ed7953"
             ],
             [
              0.7777777777777778,
              "#fb9f3a"
             ],
             [
              0.8888888888888888,
              "#fdca26"
             ],
             [
              1,
              "#f0f921"
             ]
            ],
            "type": "surface"
           }
          ],
          "table": [
           {
            "cells": {
             "fill": {
              "color": "#EBF0F8"
             },
             "line": {
              "color": "white"
             }
            },
            "header": {
             "fill": {
              "color": "#C8D4E3"
             },
             "line": {
              "color": "white"
             }
            },
            "type": "table"
           }
          ]
         },
         "layout": {
          "annotationdefaults": {
           "arrowcolor": "#2a3f5f",
           "arrowhead": 0,
           "arrowwidth": 1
          },
          "autotypenumbers": "strict",
          "coloraxis": {
           "colorbar": {
            "outlinewidth": 0,
            "ticks": ""
           }
          },
          "colorscale": {
           "diverging": [
            [
             0,
             "#8e0152"
            ],
            [
             0.1,
             "#c51b7d"
            ],
            [
             0.2,
             "#de77ae"
            ],
            [
             0.3,
             "#f1b6da"
            ],
            [
             0.4,
             "#fde0ef"
            ],
            [
             0.5,
             "#f7f7f7"
            ],
            [
             0.6,
             "#e6f5d0"
            ],
            [
             0.7,
             "#b8e186"
            ],
            [
             0.8,
             "#7fbc41"
            ],
            [
             0.9,
             "#4d9221"
            ],
            [
             1,
             "#276419"
            ]
           ],
           "sequential": [
            [
             0,
             "#0d0887"
            ],
            [
             0.1111111111111111,
             "#46039f"
            ],
            [
             0.2222222222222222,
             "#7201a8"
            ],
            [
             0.3333333333333333,
             "#9c179e"
            ],
            [
             0.4444444444444444,
             "#bd3786"
            ],
            [
             0.5555555555555556,
             "#d8576b"
            ],
            [
             0.6666666666666666,
             "#ed7953"
            ],
            [
             0.7777777777777778,
             "#fb9f3a"
            ],
            [
             0.8888888888888888,
             "#fdca26"
            ],
            [
             1,
             "#f0f921"
            ]
           ],
           "sequentialminus": [
            [
             0,
             "#0d0887"
            ],
            [
             0.1111111111111111,
             "#46039f"
            ],
            [
             0.2222222222222222,
             "#7201a8"
            ],
            [
             0.3333333333333333,
             "#9c179e"
            ],
            [
             0.4444444444444444,
             "#bd3786"
            ],
            [
             0.5555555555555556,
             "#d8576b"
            ],
            [
             0.6666666666666666,
             "#ed7953"
            ],
            [
             0.7777777777777778,
             "#fb9f3a"
            ],
            [
             0.8888888888888888,
             "#fdca26"
            ],
            [
             1,
             "#f0f921"
            ]
           ]
          },
          "colorway": [
           "#636efa",
           "#EF553B",
           "#00cc96",
           "#ab63fa",
           "#FFA15A",
           "#19d3f3",
           "#FF6692",
           "#B6E880",
           "#FF97FF",
           "#FECB52"
          ],
          "font": {
           "color": "#2a3f5f"
          },
          "geo": {
           "bgcolor": "white",
           "lakecolor": "white",
           "landcolor": "#E5ECF6",
           "showlakes": true,
           "showland": true,
           "subunitcolor": "white"
          },
          "hoverlabel": {
           "align": "left"
          },
          "hovermode": "closest",
          "mapbox": {
           "style": "light"
          },
          "paper_bgcolor": "white",
          "plot_bgcolor": "#E5ECF6",
          "polar": {
           "angularaxis": {
            "gridcolor": "white",
            "linecolor": "white",
            "ticks": ""
           },
           "bgcolor": "#E5ECF6",
           "radialaxis": {
            "gridcolor": "white",
            "linecolor": "white",
            "ticks": ""
           }
          },
          "scene": {
           "xaxis": {
            "backgroundcolor": "#E5ECF6",
            "gridcolor": "white",
            "gridwidth": 2,
            "linecolor": "white",
            "showbackground": true,
            "ticks": "",
            "zerolinecolor": "white"
           },
           "yaxis": {
            "backgroundcolor": "#E5ECF6",
            "gridcolor": "white",
            "gridwidth": 2,
            "linecolor": "white",
            "showbackground": true,
            "ticks": "",
            "zerolinecolor": "white"
           },
           "zaxis": {
            "backgroundcolor": "#E5ECF6",
            "gridcolor": "white",
            "gridwidth": 2,
            "linecolor": "white",
            "showbackground": true,
            "ticks": "",
            "zerolinecolor": "white"
           }
          },
          "shapedefaults": {
           "line": {
            "color": "#2a3f5f"
           }
          },
          "ternary": {
           "aaxis": {
            "gridcolor": "white",
            "linecolor": "white",
            "ticks": ""
           },
           "baxis": {
            "gridcolor": "white",
            "linecolor": "white",
            "ticks": ""
           },
           "bgcolor": "#E5ECF6",
           "caxis": {
            "gridcolor": "white",
            "linecolor": "white",
            "ticks": ""
           }
          },
          "title": {
           "x": 0.05
          },
          "xaxis": {
           "automargin": true,
           "gridcolor": "white",
           "linecolor": "white",
           "ticks": "",
           "title": {
            "standoff": 15
           },
           "zerolinecolor": "white",
           "zerolinewidth": 2
          },
          "yaxis": {
           "automargin": true,
           "gridcolor": "white",
           "linecolor": "white",
           "ticks": "",
           "title": {
            "standoff": 15
           },
           "zerolinecolor": "white",
           "zerolinewidth": 2
          }
         }
        },
        "title": {
         "text": "Average speed per travel mode"
        },
        "xaxis": {
         "title": {
          "text": "year"
         }
        },
        "yaxis": {
         "title": {
          "text": "Speed (km/h)"
         }
        }
       }
      },
      "text/html": [
       "<div>                            <div id=\"3f3ef7b0-0ca7-406b-ab01-c11b18400d57\" class=\"plotly-graph-div\" style=\"height:525px; width:100%;\"></div>            <script type=\"text/javascript\">                require([\"plotly\"], function(Plotly) {                    window.PLOTLYENV=window.PLOTLYENV || {};                                    if (document.getElementById(\"3f3ef7b0-0ca7-406b-ab01-c11b18400d57\")) {                    Plotly.newPlot(                        \"3f3ef7b0-0ca7-406b-ab01-c11b18400d57\",                        [{\"mode\":\"lines\",\"name\":\"Car_driver_average\",\"x\":[\"1999\",\"2000\",\"2001\",\"2002\",\"2003\",\"2004\",\"2005\",\"2006\",\"2007\",\"2008\",\"2009\",\"2010\",\"2011\",\"2012\",\"2013\",\"2014\",\"2015\",\"2016\",\"2017\",\"2018\",\"2019\"],\"y\":[27.723440134907253,27.812895069532235,27.85804816223067,28.122605363984675,28.008456659619448,28.06615776081425,28.037146475306034,27.88518362178134,27.814070351758797,27.731738573259292,27.735368956743006,27.906382978723403,28.30808080808081,28.011744966442958,28.40101522842639,27.993352721229748,28.235294117647058,28.232365145228215,28.60696517412935,28.695652173913047,28.883374689826308],\"type\":\"scatter\"},{\"mode\":\"lines\",\"name\":\"Car_passenger_average\",\"x\":[\"1999\",\"2000\",\"2001\",\"2002\",\"2003\",\"2004\",\"2005\",\"2006\",\"2007\",\"2008\",\"2009\",\"2010\",\"2011\",\"2012\",\"2013\",\"2014\",\"2015\",\"2016\",\"2017\",\"2018\",\"2019\"],\"y\":[40.552070263488076,40.76086956521739,40.95238095238095,41.01297614064462,41.38275718450645,41.30128470783257,41.76494845360824,41.93336075689017,41.88216039279868,41.65777595404186,41.9926500612495,42.18788125254168,43.01657905378083,42.77395875454913,43.09995953055443,43.28502415458938,43.57487922705314,43.627608346709465,43.95516413130505,44.50299401197604,44.616],\"type\":\"scatter\"},{\"mode\":\"lines\",\"name\":\"Train_average\",\"x\":[\"1999\",\"2000\",\"2001\",\"2002\",\"2003\",\"2004\",\"2005\",\"2006\",\"2007\",\"2008\",\"2009\",\"2010\",\"2011\",\"2012\",\"2013\",\"2014\",\"2015\",\"2016\",\"2017\",\"2018\",\"2019\"],\"y\":[40.19704433497537,40.261484098939924,40.56127886323269,40.662393162393165,41.16055535777857,41.19275825346113,41.581196581196586,41.56989247311828,41.39634801288937,40.592057761732846,41.05263157894737,41.32996024575352,42.22943722943724,41.6101083032491,42.33381502890174,42.61057173678533,42.795076031860965,42.400290065264684,42.82909090909091,43.470054446460985,43.786724700761695],\"type\":\"scatter\"},{\"mode\":\"lines\",\"name\":\"Bus_tram_metro_average\",\"x\":[\"1999\",\"2000\",\"2001\",\"2002\",\"2003\",\"2004\",\"2005\",\"2006\",\"2007\",\"2008\",\"2009\",\"2010\",\"2011\",\"2012\",\"2013\",\"2014\",\"2015\",\"2016\",\"2017\",\"2018\",\"2019\"],\"y\":[60.649095200629425,60.55489964580874,60.46254200434868,60.21386138613861,59.79640718562874,59.46204423191872,59.05256845892465,59.04435483870968,58.896969696969705,59.17408906882591,59.04435483870968,58.858761634965596,58.64214992927863,58.617343844754394,58.596774193548384,58.47979087070179,58.55640921957137,58.72907000201735,58.68426395939087,58.44502935816966,58.42456069480914],\"type\":\"scatter\"},{\"mode\":\"lines\",\"name\":\"Bicycle_average\",\"x\":[\"1999\",\"2000\",\"2001\",\"2002\",\"2003\",\"2004\",\"2005\",\"2006\",\"2007\",\"2008\",\"2009\",\"2010\",\"2011\",\"2012\",\"2013\",\"2014\",\"2015\",\"2016\",\"2017\",\"2018\",\"2019\"],\"y\":[26.207650273224047,26.328096455973693,26.23204419889503,25.79646017699115,25.101363803907113,24.845132743362832,23.96901512357064,22.843319687383698,22.527881040892193,22.40747663551402,22.5979843225084,21.85698240359416,21.65481093223512,21.26268320180383,20.928652321630807,21.143286949981196,20.749148694665156,20.57012542759407,20.351816443594647,19.793340987370836,19.639293937068306],\"type\":\"scatter\"},{\"mode\":\"lines\",\"name\":\"Walking_average\",\"x\":[\"1999\",\"2000\",\"2001\",\"2002\",\"2003\",\"2004\",\"2005\",\"2006\",\"2007\",\"2008\",\"2009\",\"2010\",\"2011\",\"2012\",\"2013\",\"2014\",\"2015\",\"2016\",\"2017\",\"2018\",\"2019\"],\"y\":[10.031545741324921,10.105263157894738,10.174880763116057,10.229088971763453,10.246202200104767,10.309062336301729,10.346970481615744,10.460732984293193,10.482115085536547,10.560253699788584,10.58091286307054,10.597402597402596,10.631741140215718,10.644171779141105,10.728476821192052,10.682046138415243,10.75075075075075,10.783132530120481,10.862587763289868,10.90094574415132,10.895596239485402],\"type\":\"scatter\"}],                        {\"template\":{\"data\":{\"histogram2dcontour\":[{\"type\":\"histogram2dcontour\",\"colorbar\":{\"outlinewidth\":0,\"ticks\":\"\"},\"colorscale\":[[0.0,\"#0d0887\"],[0.1111111111111111,\"#46039f\"],[0.2222222222222222,\"#7201a8\"],[0.3333333333333333,\"#9c179e\"],[0.4444444444444444,\"#bd3786\"],[0.5555555555555556,\"#d8576b\"],[0.6666666666666666,\"#ed7953\"],[0.7777777777777778,\"#fb9f3a\"],[0.8888888888888888,\"#fdca26\"],[1.0,\"#f0f921\"]]}],\"choropleth\":[{\"type\":\"choropleth\",\"colorbar\":{\"outlinewidth\":0,\"ticks\":\"\"}}],\"histogram2d\":[{\"type\":\"histogram2d\",\"colorbar\":{\"outlinewidth\":0,\"ticks\":\"\"},\"colorscale\":[[0.0,\"#0d0887\"],[0.1111111111111111,\"#46039f\"],[0.2222222222222222,\"#7201a8\"],[0.3333333333333333,\"#9c179e\"],[0.4444444444444444,\"#bd3786\"],[0.5555555555555556,\"#d8576b\"],[0.6666666666666666,\"#ed7953\"],[0.7777777777777778,\"#fb9f3a\"],[0.8888888888888888,\"#fdca26\"],[1.0,\"#f0f921\"]]}],\"heatmap\":[{\"type\":\"heatmap\",\"colorbar\":{\"outlinewidth\":0,\"ticks\":\"\"},\"colorscale\":[[0.0,\"#0d0887\"],[0.1111111111111111,\"#46039f\"],[0.2222222222222222,\"#7201a8\"],[0.3333333333333333,\"#9c179e\"],[0.4444444444444444,\"#bd3786\"],[0.5555555555555556,\"#d8576b\"],[0.6666666666666666,\"#ed7953\"],[0.7777777777777778,\"#fb9f3a\"],[0.8888888888888888,\"#fdca26\"],[1.0,\"#f0f921\"]]}],\"heatmapgl\":[{\"type\":\"heatmapgl\",\"colorbar\":{\"outlinewidth\":0,\"ticks\":\"\"},\"colorscale\":[[0.0,\"#0d0887\"],[0.1111111111111111,\"#46039f\"],[0.2222222222222222,\"#7201a8\"],[0.3333333333333333,\"#9c179e\"],[0.4444444444444444,\"#bd3786\"],[0.5555555555555556,\"#d8576b\"],[0.6666666666666666,\"#ed7953\"],[0.7777777777777778,\"#fb9f3a\"],[0.8888888888888888,\"#fdca26\"],[1.0,\"#f0f921\"]]}],\"contourcarpet\":[{\"type\":\"contourcarpet\",\"colorbar\":{\"outlinewidth\":0,\"ticks\":\"\"}}],\"contour\":[{\"type\":\"contour\",\"colorbar\":{\"outlinewidth\":0,\"ticks\":\"\"},\"colorscale\":[[0.0,\"#0d0887\"],[0.1111111111111111,\"#46039f\"],[0.2222222222222222,\"#7201a8\"],[0.3333333333333333,\"#9c179e\"],[0.4444444444444444,\"#bd3786\"],[0.5555555555555556,\"#d8576b\"],[0.6666666666666666,\"#ed7953\"],[0.7777777777777778,\"#fb9f3a\"],[0.8888888888888888,\"#fdca26\"],[1.0,\"#f0f921\"]]}],\"surface\":[{\"type\":\"surface\",\"colorbar\":{\"outlinewidth\":0,\"ticks\":\"\"},\"colorscale\":[[0.0,\"#0d0887\"],[0.1111111111111111,\"#46039f\"],[0.2222222222222222,\"#7201a8\"],[0.3333333333333333,\"#9c179e\"],[0.4444444444444444,\"#bd3786\"],[0.5555555555555556,\"#d8576b\"],[0.6666666666666666,\"#ed7953\"],[0.7777777777777778,\"#fb9f3a\"],[0.8888888888888888,\"#fdca26\"],[1.0,\"#f0f921\"]]}],\"mesh3d\":[{\"type\":\"mesh3d\",\"colorbar\":{\"outlinewidth\":0,\"ticks\":\"\"}}],\"scatter\":[{\"fillpattern\":{\"fillmode\":\"overlay\",\"size\":10,\"solidity\":0.2},\"type\":\"scatter\"}],\"parcoords\":[{\"type\":\"parcoords\",\"line\":{\"colorbar\":{\"outlinewidth\":0,\"ticks\":\"\"}}}],\"scatterpolargl\":[{\"type\":\"scatterpolargl\",\"marker\":{\"colorbar\":{\"outlinewidth\":0,\"ticks\":\"\"}}}],\"bar\":[{\"error_x\":{\"color\":\"#2a3f5f\"},\"error_y\":{\"color\":\"#2a3f5f\"},\"marker\":{\"line\":{\"color\":\"#E5ECF6\",\"width\":0.5},\"pattern\":{\"fillmode\":\"overlay\",\"size\":10,\"solidity\":0.2}},\"type\":\"bar\"}],\"scattergeo\":[{\"type\":\"scattergeo\",\"marker\":{\"colorbar\":{\"outlinewidth\":0,\"ticks\":\"\"}}}],\"scatterpolar\":[{\"type\":\"scatterpolar\",\"marker\":{\"colorbar\":{\"outlinewidth\":0,\"ticks\":\"\"}}}],\"histogram\":[{\"marker\":{\"pattern\":{\"fillmode\":\"overlay\",\"size\":10,\"solidity\":0.2}},\"type\":\"histogram\"}],\"scattergl\":[{\"type\":\"scattergl\",\"marker\":{\"colorbar\":{\"outlinewidth\":0,\"ticks\":\"\"}}}],\"scatter3d\":[{\"type\":\"scatter3d\",\"line\":{\"colorbar\":{\"outlinewidth\":0,\"ticks\":\"\"}},\"marker\":{\"colorbar\":{\"outlinewidth\":0,\"ticks\":\"\"}}}],\"scattermapbox\":[{\"type\":\"scattermapbox\",\"marker\":{\"colorbar\":{\"outlinewidth\":0,\"ticks\":\"\"}}}],\"scatterternary\":[{\"type\":\"scatterternary\",\"marker\":{\"colorbar\":{\"outlinewidth\":0,\"ticks\":\"\"}}}],\"scattercarpet\":[{\"type\":\"scattercarpet\",\"marker\":{\"colorbar\":{\"outlinewidth\":0,\"ticks\":\"\"}}}],\"carpet\":[{\"aaxis\":{\"endlinecolor\":\"#2a3f5f\",\"gridcolor\":\"white\",\"linecolor\":\"white\",\"minorgridcolor\":\"white\",\"startlinecolor\":\"#2a3f5f\"},\"baxis\":{\"endlinecolor\":\"#2a3f5f\",\"gridcolor\":\"white\",\"linecolor\":\"white\",\"minorgridcolor\":\"white\",\"startlinecolor\":\"#2a3f5f\"},\"type\":\"carpet\"}],\"table\":[{\"cells\":{\"fill\":{\"color\":\"#EBF0F8\"},\"line\":{\"color\":\"white\"}},\"header\":{\"fill\":{\"color\":\"#C8D4E3\"},\"line\":{\"color\":\"white\"}},\"type\":\"table\"}],\"barpolar\":[{\"marker\":{\"line\":{\"color\":\"#E5ECF6\",\"width\":0.5},\"pattern\":{\"fillmode\":\"overlay\",\"size\":10,\"solidity\":0.2}},\"type\":\"barpolar\"}],\"pie\":[{\"automargin\":true,\"type\":\"pie\"}]},\"layout\":{\"autotypenumbers\":\"strict\",\"colorway\":[\"#636efa\",\"#EF553B\",\"#00cc96\",\"#ab63fa\",\"#FFA15A\",\"#19d3f3\",\"#FF6692\",\"#B6E880\",\"#FF97FF\",\"#FECB52\"],\"font\":{\"color\":\"#2a3f5f\"},\"hovermode\":\"closest\",\"hoverlabel\":{\"align\":\"left\"},\"paper_bgcolor\":\"white\",\"plot_bgcolor\":\"#E5ECF6\",\"polar\":{\"bgcolor\":\"#E5ECF6\",\"angularaxis\":{\"gridcolor\":\"white\",\"linecolor\":\"white\",\"ticks\":\"\"},\"radialaxis\":{\"gridcolor\":\"white\",\"linecolor\":\"white\",\"ticks\":\"\"}},\"ternary\":{\"bgcolor\":\"#E5ECF6\",\"aaxis\":{\"gridcolor\":\"white\",\"linecolor\":\"white\",\"ticks\":\"\"},\"baxis\":{\"gridcolor\":\"white\",\"linecolor\":\"white\",\"ticks\":\"\"},\"caxis\":{\"gridcolor\":\"white\",\"linecolor\":\"white\",\"ticks\":\"\"}},\"coloraxis\":{\"colorbar\":{\"outlinewidth\":0,\"ticks\":\"\"}},\"colorscale\":{\"sequential\":[[0.0,\"#0d0887\"],[0.1111111111111111,\"#46039f\"],[0.2222222222222222,\"#7201a8\"],[0.3333333333333333,\"#9c179e\"],[0.4444444444444444,\"#bd3786\"],[0.5555555555555556,\"#d8576b\"],[0.6666666666666666,\"#ed7953\"],[0.7777777777777778,\"#fb9f3a\"],[0.8888888888888888,\"#fdca26\"],[1.0,\"#f0f921\"]],\"sequentialminus\":[[0.0,\"#0d0887\"],[0.1111111111111111,\"#46039f\"],[0.2222222222222222,\"#7201a8\"],[0.3333333333333333,\"#9c179e\"],[0.4444444444444444,\"#bd3786\"],[0.5555555555555556,\"#d8576b\"],[0.6666666666666666,\"#ed7953\"],[0.7777777777777778,\"#fb9f3a\"],[0.8888888888888888,\"#fdca26\"],[1.0,\"#f0f921\"]],\"diverging\":[[0,\"#8e0152\"],[0.1,\"#c51b7d\"],[0.2,\"#de77ae\"],[0.3,\"#f1b6da\"],[0.4,\"#fde0ef\"],[0.5,\"#f7f7f7\"],[0.6,\"#e6f5d0\"],[0.7,\"#b8e186\"],[0.8,\"#7fbc41\"],[0.9,\"#4d9221\"],[1,\"#276419\"]]},\"xaxis\":{\"gridcolor\":\"white\",\"linecolor\":\"white\",\"ticks\":\"\",\"title\":{\"standoff\":15},\"zerolinecolor\":\"white\",\"automargin\":true,\"zerolinewidth\":2},\"yaxis\":{\"gridcolor\":\"white\",\"linecolor\":\"white\",\"ticks\":\"\",\"title\":{\"standoff\":15},\"zerolinecolor\":\"white\",\"automargin\":true,\"zerolinewidth\":2},\"scene\":{\"xaxis\":{\"backgroundcolor\":\"#E5ECF6\",\"gridcolor\":\"white\",\"linecolor\":\"white\",\"showbackground\":true,\"ticks\":\"\",\"zerolinecolor\":\"white\",\"gridwidth\":2},\"yaxis\":{\"backgroundcolor\":\"#E5ECF6\",\"gridcolor\":\"white\",\"linecolor\":\"white\",\"showbackground\":true,\"ticks\":\"\",\"zerolinecolor\":\"white\",\"gridwidth\":2},\"zaxis\":{\"backgroundcolor\":\"#E5ECF6\",\"gridcolor\":\"white\",\"linecolor\":\"white\",\"showbackground\":true,\"ticks\":\"\",\"zerolinecolor\":\"white\",\"gridwidth\":2}},\"shapedefaults\":{\"line\":{\"color\":\"#2a3f5f\"}},\"annotationdefaults\":{\"arrowcolor\":\"#2a3f5f\",\"arrowhead\":0,\"arrowwidth\":1},\"geo\":{\"bgcolor\":\"white\",\"landcolor\":\"#E5ECF6\",\"subunitcolor\":\"white\",\"showland\":true,\"showlakes\":true,\"lakecolor\":\"white\"},\"title\":{\"x\":0.05},\"mapbox\":{\"style\":\"light\"}}},\"title\":{\"text\":\"Average speed per travel mode\"},\"xaxis\":{\"title\":{\"text\":\"year\"}},\"yaxis\":{\"title\":{\"text\":\"Speed (km\\u002fh)\"}}},                        {\"responsive\": true}                    ).then(function(){\n",
       "                            \n",
       "var gd = document.getElementById('3f3ef7b0-0ca7-406b-ab01-c11b18400d57');\n",
       "var x = new MutationObserver(function (mutations, observer) {{\n",
       "        var display = window.getComputedStyle(gd).display;\n",
       "        if (!display || display === 'none') {{\n",
       "            console.log([gd, 'removed!']);\n",
       "            Plotly.purge(gd);\n",
       "            observer.disconnect();\n",
       "        }}\n",
       "}});\n",
       "\n",
       "// Listen for the removal of the full notebook cells\n",
       "var notebookContainer = gd.closest('#notebook-container');\n",
       "if (notebookContainer) {{\n",
       "    x.observe(notebookContainer, {childList: true});\n",
       "}}\n",
       "\n",
       "// Listen for the clearing of the current output cell\n",
       "var outputEl = gd.closest('.output');\n",
       "if (outputEl) {{\n",
       "    x.observe(outputEl, {childList: true});\n",
       "}}\n",
       "\n",
       "                        })                };                });            </script>        </div>"
      ]
     },
     "metadata": {},
     "output_type": "display_data"
    }
   ],
   "source": [
    "# Define the dataset names and create an empty figure\n",
    "fig = go.Figure()\n",
    "dataset_names = ['Car_driver', 'Car_passenger', 'Train', 'Bus_tram_metro', 'Bicycle', 'Walking']\n",
    "\n",
    "# Loop through the datasets and add traces directly to the figure\n",
    "for i in range(len(dataset_names)):\n",
    "    naam = f\"{dataset_names[i]}_average\"\n",
    "    df = datasets[i][datasets[i]['Reismotieven'] == 'Totaal']\n",
    "    fig.add_trace(\n",
    "        go.Scatter(\n",
    "            x=df.index,  # Use the index as the x-axis (or specify the desired column)\n",
    "            y=df['snelheid'],\n",
    "            mode='lines',\n",
    "            name=naam\n",
    "        )\n",
    "    )\n",
    "\n",
    "# Show the combined plot\n",
    "fig.update_layout(title='Average speed per travel mode', xaxis_title='year', yaxis_title='Speed (km/h)')\n",
    "fig.show()"
   ]
  },
  {
   "cell_type": "code",
   "execution_count": null,
   "id": "46d05fc8",
   "metadata": {},
   "outputs": [],
   "source": []
  }
 ],
 "metadata": {
  "kernelspec": {
   "display_name": "Python 3 (ipykernel)",
   "language": "python",
   "name": "python3"
  },
  "language_info": {
   "codemirror_mode": {
    "name": "ipython",
    "version": 3
   },
   "file_extension": ".py",
   "mimetype": "text/x-python",
   "name": "python",
   "nbconvert_exporter": "python",
   "pygments_lexer": "ipython3",
   "version": "3.12.4"
  }
 },
 "nbformat": 4,
 "nbformat_minor": 5
}
