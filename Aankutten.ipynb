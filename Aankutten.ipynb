{
 "cells": [
  {
   "cell_type": "code",
   "execution_count": 3,
   "id": "06a2660b",
   "metadata": {},
   "outputs": [],
   "source": [
    "import pandas as pd\n",
    "\n"
   ]
  },
  {
   "cell_type": "code",
   "execution_count": 6,
   "id": "088e9d5d",
   "metadata": {},
   "outputs": [],
   "source": [
    "path = r\"C:\\wouter\\2024-2025\\Vakken\\TIL Python programming\\Github\\TIL6020-LabAssignments\\Testdata\\kilometerdata.csv\""
   ]
  },
  {
   "cell_type": "code",
   "execution_count": 13,
   "id": "d62f24ad",
   "metadata": {},
   "outputs": [
    {
     "name": "stderr",
     "output_type": "stream",
     "text": [
      "b'Skipping line 4: expected 1 fields, saw 2\\nSkipping line 5: expected 1 fields, saw 20\\nSkipping line 6: expected 1 fields, saw 20\\nSkipping line 7: expected 1 fields, saw 20\\nSkipping line 8: expected 1 fields, saw 20\\nSkipping line 9: expected 1 fields, saw 20\\nSkipping line 10: expected 1 fields, saw 20\\nSkipping line 11: expected 1 fields, saw 20\\nSkipping line 12: expected 1 fields, saw 20\\nSkipping line 13: expected 1 fields, saw 20\\nSkipping line 14: expected 1 fields, saw 20\\nSkipping line 15: expected 1 fields, saw 20\\n'\n"
     ]
    },
    {
     "data": {
      "text/html": [
       "<div>\n",
       "<style scoped>\n",
       "    .dataframe tbody tr th:only-of-type {\n",
       "        vertical-align: middle;\n",
       "    }\n",
       "\n",
       "    .dataframe tbody tr th {\n",
       "        vertical-align: top;\n",
       "    }\n",
       "\n",
       "    .dataframe thead th {\n",
       "        text-align: right;\n",
       "    }\n",
       "</style>\n",
       "<table border=\"1\" class=\"dataframe\">\n",
       "  <thead>\n",
       "    <tr style=\"text-align: right;\">\n",
       "      <th></th>\n",
       "      <th>Mobiliteit; per verplaatsing, verplaatsingskenmerken, vervoerwijzen, regio</th>\n",
       "    </tr>\n",
       "  </thead>\n",
       "  <tbody>\n",
       "    <tr>\n",
       "      <th>0</th>\n",
       "      <td>Populatie: Populatie: 6 jaar of ouder</td>\n",
       "    </tr>\n",
       "    <tr>\n",
       "      <th>1</th>\n",
       "      <td>Marges: Waarde</td>\n",
       "    </tr>\n",
       "    <tr>\n",
       "      <th>2</th>\n",
       "      <td>Bron: CBS</td>\n",
       "    </tr>\n",
       "  </tbody>\n",
       "</table>\n",
       "</div>"
      ],
      "text/plain": [
       "  Mobiliteit; per verplaatsing, verplaatsingskenmerken, vervoerwijzen, regio\n",
       "0              Populatie: Populatie: 6 jaar of ouder                        \n",
       "1                                     Marges: Waarde                        \n",
       "2                                          Bron: CBS                        "
      ]
     },
     "metadata": {},
     "output_type": "display_data"
    }
   ],
   "source": [
    "data = pd.read_csv(path, sep=';', on_bad_lines='warn')\n",
    "display(data)"
   ]
  }
 ],
 "metadata": {
  "kernelspec": {
   "display_name": "Python 3 (ipykernel)",
   "language": "python",
   "name": "python3"
  },
  "language_info": {
   "codemirror_mode": {
    "name": "ipython",
    "version": 3
   },
   "file_extension": ".py",
   "mimetype": "text/x-python",
   "name": "python",
   "nbconvert_exporter": "python",
   "pygments_lexer": "ipython3",
   "version": "3.9.7"
  }
 },
 "nbformat": 4,
 "nbformat_minor": 5
}
