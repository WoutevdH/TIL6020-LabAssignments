{
 "cells": [
  {
   "cell_type": "markdown",
   "metadata": {},
   "source": [
    "# Project Group - \n",
    "\n",
    "Members: Wouter van der Hoorn, Jelle Derks, Martijn Damman, Patrick Kruidenberg & Hugo von der Thüsen\n",
    "\n",
    "Student numbers: 5370566, 5339464,Patrick_nummber, 5412633, 4862600"
   ]
  },
  {
   "cell_type": "markdown",
   "metadata": {},
   "source": [
    "# Research Objective\n",
    "\n",
    "*Requires data modeling and quantitative research in Transport, Infrastructure & Logistics*"
   ]
  },
  {
   "cell_type": "markdown",
   "metadata": {},
   "source": [
    "__Introduction__\n",
    "\n",
    "The global trend of urbanization is rapidly accelerating, the United Nations projects that by 2050, 68% of the world’s population will live in urban areas, roughly 20% more than the 55% in 2018. This shift has significant implications for transportation networks, as urban and rural populations exhibit different travel behaviors. Understanding these differences is key to planning future investments in road and public transport infrastructure.\n",
    "\n",
    "The distribution of the modal split is expected to vary between urban and rural areas. Cities are anticipated to favor public transport, while rural areas are likely to rely more on private vehicles. Age could play a role, with different age groups expected to exhibit distinct travel patterns. By analyzing modal split across urban, rural, and age factors, this research aims to provide insights that could benefit infrastructure development and capacity planning.\n",
    "\n",
    "Source: United Nations, Department of Economic and Social Affairs, Population Division. (2018). World Urbanization Prospects: The 2018 Revision. Retrieved from https://population.un.org/wup/ \n",
    "\n",
    "__Research Objective__\n",
    "\n",
    "The research objective for this project is the following:\n",
    "\n",
    "- How is the distribution of the modal split affected in urban vs. rural areas?\n",
    "\n",
    "To answer this question first some sub questions are defined:\n",
    "\n",
    "- In what way is the modal split affected by age? \n",
    "\n",
    "- Per age group, what differences can be observed between urban and rural areas?"
   ]
  },
  {
   "cell_type": "markdown",
   "metadata": {},
   "source": [
    "# Contribution Statement\n",
    "\n",
    "*Be specific. Some of the tasks can be coding (expect everyone to do this), background research, conceptualisation, visualisation, data analysis, data modelling*"
   ]
  },
  {
   "cell_type": "markdown",
   "metadata": {},
   "source": [
    "**Author 1**:\n",
    "\n",
    "**Author 2**:\n",
    "\n",
    "**Author 3**:"
   ]
  },
  {
   "cell_type": "markdown",
   "metadata": {},
   "source": [
    "# Data Used"
   ]
  },
  {
   "cell_type": "markdown",
   "metadata": {},
   "source": []
  },
  {
   "cell_type": "markdown",
   "metadata": {},
   "source": [
    "# Data Pipeline"
   ]
  },
  {
   "cell_type": "markdown",
   "metadata": {},
   "source": []
  }
 ],
 "metadata": {
  "kernelspec": {
   "display_name": "Python 3 (ipykernel)",
   "language": "python",
   "name": "python3"
  },
  "language_info": {
   "codemirror_mode": {
    "name": "ipython",
    "version": 3
   },
   "file_extension": ".py",
   "mimetype": "text/x-python",
   "name": "python",
   "nbconvert_exporter": "python",
   "pygments_lexer": "ipython3",
   "version": "3.9.7"
  },
  "vscode": {
   "interpreter": {
    "hash": "31f2aee4e71d21fbe5cf8b01ff0e069b9275f58929596ceb00d14d90e3e16cd6"
   }
  }
 },
 "nbformat": 4,
 "nbformat_minor": 2
}
